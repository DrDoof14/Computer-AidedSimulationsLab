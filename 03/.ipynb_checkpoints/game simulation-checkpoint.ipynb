{
 "cells": [
  {
   "cell_type": "markdown",
   "id": "da196a4d",
   "metadata": {},
   "source": [
    "we should use time slots <br>\n",
    "descrete shit <br>\n",
    "we don't have to code everything <br>\n",
    "just a little coding plus explanations <br>\n"
   ]
  },
  {
   "cell_type": "code",
   "execution_count": null,
   "id": "26e3131d",
   "metadata": {},
   "outputs": [],
   "source": []
  }
 ],
 "metadata": {
  "kernelspec": {
   "display_name": "Python 3 (ipykernel)",
   "language": "python",
   "name": "python3"
  },
  "language_info": {
   "codemirror_mode": {
    "name": "ipython",
    "version": 3
   },
   "file_extension": ".py",
   "mimetype": "text/x-python",
   "name": "python",
   "nbconvert_exporter": "python",
   "pygments_lexer": "ipython3",
   "version": "3.9.7"
  }
 },
 "nbformat": 4,
 "nbformat_minor": 5
}
