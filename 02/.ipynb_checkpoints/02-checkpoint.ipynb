{
 "cells": [
  {
   "cell_type": "code",
   "execution_count": 1,
   "id": "3a1df50c",
   "metadata": {},
   "outputs": [
    {
     "data": {
      "text/plain": [
       "'hello Ali Ghasemi'"
      ]
     },
     "execution_count": 1,
     "metadata": {},
     "output_type": "execute_result"
    }
   ],
   "source": [
    "def random_function(name,last_name):\n",
    "    return \"hello\"+ \" \"+ name+\" \"+last_name\n",
    "name=\"Ali\"\n",
    "last_name=\"Ghasemi\"\n",
    "random_function(name,last_name)\n"
   ]
  },
  {
   "cell_type": "code",
   "execution_count": null,
   "id": "9cf878e8",
   "metadata": {},
   "outputs": [],
   "source": []
  }
 ],
 "metadata": {
  "kernelspec": {
   "display_name": "Python 3 (ipykernel)",
   "language": "python",
   "name": "python3"
  },
  "language_info": {
   "codemirror_mode": {
    "name": "ipython",
    "version": 3
   },
   "file_extension": ".py",
   "mimetype": "text/x-python",
   "name": "python",
   "nbconvert_exporter": "python",
   "pygments_lexer": "ipython3",
   "version": "3.9.7"
  }
 },
 "nbformat": 4,
 "nbformat_minor": 5
}
