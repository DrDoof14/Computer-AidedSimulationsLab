{
 "cells": [
  {
   "cell_type": "code",
   "execution_count": 1,
   "metadata": {},
   "outputs": [],
   "source": [
    "import random\n",
    "import numpy as np\n",
    "\n",
    "random.seed(36)\n",
    "np.random.seed(36)"
   ]
  },
  {
   "cell_type": "code",
   "execution_count": 2,
   "metadata": {},
   "outputs": [],
   "source": [
    "class Server:\n",
    "    def __init__(self, server_name, server_status=0):\n",
    "        self.server_name = server_name\n",
    "        self.server_status = server_status\n",
    "\n",
    "class PriorityQueue:\n",
    "    def __init__(self):\n",
    "        self.elements = []\n",
    "        self.arrival_time_list = []\n",
    "        self.departure_time_list = []\n",
    "\n",
    "    def empty(self):\n",
    "        return len(self.elements) == 0\n",
    "\n",
    "    def put(self, item, priority, arrival_time):\n",
    "        self.elements.append([priority, item])\n",
    "        inter_arrival = np.random.poisson(2)\n",
    "        self.arrival_time_list.append(arrival_time + inter_arrival)\n",
    "        self.departure_time_list.append(0)\n",
    "\n",
    "    def get(self):\n",
    "        # Get the highest priority element\n",
    "        highest_priority_element = max(self.elements, key=lambda x: x[0])\n",
    "        highest_priority_index = self.elements.index(highest_priority_element)\n",
    "        if self.departure_time_list[highest_priority_index] == 0:\n",
    "            self.departure_time_list = [self.arrival_time_list[highest_priority_index] + service_time for _ in\n",
    "                                        self.departure_time_list]\n",
    "        else:\n",
    "            self.departure_time_list = [element + service_time for element in self.departure_time_list]\n",
    "        dep_time = self.departure_time_list[highest_priority_index]\n",
    "        arr_time = self.arrival_time_list[highest_priority_index]\n",
    "        # Remove the highest priority element\n",
    "        self.elements.remove(highest_priority_element)\n",
    "        del self.departure_time_list[highest_priority_index]\n",
    "        del self.arrival_time_list[highest_priority_index]\n",
    "        # Return the highest priority element\n",
    "        return highest_priority_element, arr_time, dep_time"
   ]
  },
  {
   "cell_type": "code",
   "execution_count": 3,
   "metadata": {},
   "outputs": [
    {
     "name": "stdout",
     "output_type": "stream",
     "text": [
      "client 1 as HP arrived at 1\n",
      "client 2 as LP arrived at 2\n",
      "client1 as HP departed at 4.303819628341017 from server S1\n",
      "client2 as LP departed at 5.607639256682035 from server S2\n",
      "client 3 as LP arrived at 3\n",
      "client 4 as HP arrived at 4\n",
      "client 5 as LP arrived at 5\n",
      "client 6 as LP arrived at 6\n",
      "client4 as HP departed at 7.26400829609294 from server S1\n",
      "client3 as LP departed at 7.52801659218588 from server S2\n",
      "client 7 as LP arrived at 7\n",
      "client 8 as LP arrived at 8\n",
      "client5 as LP departed at 8.13085463248554 from server S1\n",
      "client6 as LP departed at 8.733692672785201 from server S2\n",
      "client 9 as HP arrived at 9\n",
      "client 10 as HP arrived at 10\n",
      "client9 as HP departed at 10.898167935450086 from server S1\n",
      "client10 as HP departed at 11.796335870900172 from server S2\n",
      "client 11 as HP arrived at 11\n",
      "client 12 as HP arrived at 12\n",
      "client11 as HP departed at 13.022940371747715 from server S1\n",
      "client12 as HP departed at 13.045880743495431 from server S2\n",
      "client 13 as LP arrived at 13\n",
      "client 14 as HP arrived at 14\n",
      "client14 as HP departed at 15.418452711595744 from server S1\n",
      "client7 as LP departed at 15.836905423191489 from server S2\n",
      "client 15 as HP arrived at 15\n",
      "client 16 as HP arrived at 16\n",
      "client15 as HP departed at 17.436588014699467 from server S1\n",
      "client16 as HP departed at 17.873176029398934 from server S2\n",
      "client 17 as HP arrived at 17\n",
      "client 18 as HP arrived at 18\n",
      "client17 as HP departed at 19.576241262675474 from server S1\n",
      "client18 as HP departed at 20.152482525350948 from server S2\n",
      "client 19 as LP arrived at 19\n",
      "client 20 as HP arrived at 20\n",
      "client20 as HP departed at 21.23231586242481 from server S1\n",
      "client 21 as LP arrived at 21\n",
      "client 22 as LP arrived at 22\n",
      "client8 as LP departed at 21.4091961480934 from server S1\n",
      "client13 as LP departed at 21.586076433761992 from server S2\n",
      "client 23 as HP arrived at 23\n",
      "client 24 as LP arrived at 24\n",
      "client23 as HP departed at 26.08993687323049 from server S1\n",
      "client19 as LP departed at 27.179873746460977 from server S2\n",
      "client 25 as HP arrived at 25\n",
      "client 26 as LP arrived at 26\n"
     ]
    }
   ],
   "source": [
    "S1 = Server(server_name='S1')\n",
    "S2 = Server(server_name='S2')\n",
    "# S3 = Server(server_name='S3')\n",
    "# S4 = Server(server_name='S4')\n",
    "# S5 = Server(server_name='S5')\n",
    "\n",
    "pq = PriorityQueue()\n",
    "service_time = 2\n",
    "arrive_time = 0\n",
    "counter = 0\n",
    "c1 = 0\n",
    "c2 = 0\n",
    "\n",
    "queue_length = 0\n",
    "# c3 = 0\n",
    "# c4 = 0\n",
    "# c5 = 0\n",
    "\n",
    "while queue_length < 5:\n",
    "    \n",
    "    service_time = np.random.exponential(1) # expo with mean 1\n",
    "    \n",
    "    for _ in range(2):\n",
    "        arrive_time += 1\n",
    "        counter += 1\n",
    "        priority = random.randint(0, 1)\n",
    "        pq.put('client' + str(counter), priority, arrive_time)\n",
    "        p = \"HP\" if priority == 1 else \"LP\"\n",
    "        print(f'client {counter} as {p} arrived at {arrive_time}')\n",
    "        \n",
    "        queue_length +=1\n",
    "\n",
    "        if c1 > arrive_time:\n",
    "            S1.server_status = 1\n",
    "        else:\n",
    "            S1.server_status = 0\n",
    "\n",
    "        if c2 > arrive_time:\n",
    "            S2.server_status = 1\n",
    "        else:\n",
    "            S2.server_status = 0\n",
    "\n",
    "\n",
    "    if S1.server_status == 0:\n",
    "        a, b, c1 = pq.get()\n",
    "        S1.server_status = 1\n",
    "        p = \"HP\" if a[0] == 1 else \"LP\"\n",
    "        print(f'{a[1]} as {p} departed at {c1} from server {S1.server_name}')\n",
    "        \n",
    "        queue_length -=1\n",
    "    \n",
    "    if S2.server_status == 0:\n",
    "        a, b, c2 = pq.get()\n",
    "        S2.server_status = 1\n",
    "        p = \"HP\" if a[0] == 1 else \"LP\"\n",
    "        print(f'{a[1]} as {p} departed at {c2} from server {S2.server_name}')\n",
    "        \n",
    "        queue_length -=1"
   ]
  },
  {
   "cell_type": "code",
   "execution_count": 4,
   "metadata": {},
   "outputs": [
    {
     "data": {
      "image/png": "[encoded data removed]",
      "text/plain": [
       "<Figure size 432x288 with 1 Axes>"
      ]
     },
     "metadata": {
      "needs_background": "light"
     },
     "output_type": "display_data"
    }
   ],
   "source": [
    "import numpy as np\n",
    "s = np.random.poisson(5, 10000)\n",
    "\n",
    "import matplotlib.pyplot as plt\n",
    "count, bins, ignored = plt.hist(s)\n",
    "plt.show()"
   ]
  },
  {
   "cell_type": "code",
   "execution_count": null,
   "metadata": {},
   "outputs": [],
   "source": []
  }
 ],
 "metadata": {
  "kernelspec": {
   "display_name": "Python 3 (ipykernel)",
   "language": "python",
   "name": "python3"
  },
  "language_info": {
   "codemirror_mode": {
    "name": "ipython",
    "version": 3
   },
   "file_extension": ".py",
   "mimetype": "text/x-python",
   "name": "python",
   "nbconvert_exporter": "python",
   "pygments_lexer": "ipython3",
   "version": "3.9.7"
  },
  "vscode": {
   "interpreter": {
    "hash": "5a14c02df7937b2bb50e462c9a35173d1afbe68d5a5bb51dab23e77991bd3874"
   }
  }
 },
 "nbformat": 4,
 "nbformat_minor": 2
}
