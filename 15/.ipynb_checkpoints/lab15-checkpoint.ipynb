{
 "cells": [
  {
   "cell_type": "markdown",
   "id": "e1635ea6",
   "metadata": {},
   "source": [
    "<b>The inputs of the code are : <br></b>\n",
    "The length of the window (the length that we use to find the plagiarism)<br>\n",
    "The text file <br>\n",
    "<b>The outputs are: <br></b>\n",
    "the number of words and verses (just in this case)<br>\n",
    "the plagiarism output ( if there exists plagiarism or not)<br>\n"
   ]
  },
  {
   "cell_type": "code",
   "execution_count": 2,
   "id": "0539ec3d",
   "metadata": {},
   "outputs": [],
   "source": [
    "import re"
   ]
  },
  {
   "cell_type": "code",
   "execution_count": 3,
   "id": "01473107",
   "metadata": {},
   "outputs": [],
   "source": [
    "#reading the txt file \n",
    "# one of the ways used to import the the file\n",
    "with open('commedia.txt','+r') as c:\n",
    "    commedia=c.read()"
   ]
  },
  {
   "cell_type": "code",
   "execution_count": 4,
   "id": "a7977551",
   "metadata": {},
   "outputs": [
    {
     "name": "stdout",
     "output_type": "stream",
     "text": [
      "the number of words is \n",
      "\n",
      "96705\n"
     ]
    }
   ],
   "source": [
    "file = open(\"commedia.txt\", \"rt\")\n",
    "data = file.read()\n",
    "#this part can also be used to import the file\n",
    "#===========================\n",
    "data=re.sub(r\"[^\\w\\d'\\s]+\",'',data) # deleting the punctuations\n",
    "words = data.split()\n",
    "print('the number of words is \\n')\n",
    "print(len(words)) #counting the number of words "
   ]
  },
  {
   "cell_type": "markdown",
   "id": "e279adbd",
   "metadata": {},
   "source": [
    "<b>words and verses</b><br>\n",
    "in order to define the number of verses we can use a moving window approach <br>\n",
    "the lenght of the window will be defined by the used and the window will move(slide) by one word <br>\n"
   ]
  },
  {
   "cell_type": "code",
   "execution_count": 8,
   "id": "f7d6651c",
   "metadata": {},
   "outputs": [],
   "source": [
    "plagiarism_size= 4 #window size \n",
    "verses = []\n",
    "verse_count=0\n",
    "for i in range (len(words)):\n",
    "    if len(words[i:i+plagiarism_size])==4:\n",
    "        verses.append(words[i:i+plagiarism_size])\n",
    "#we should store the fingerprints in a hashtable \n",
    "#then we should computer and store the finger prints inside of a hashtable "
   ]
  },
  {
   "cell_type": "code",
   "execution_count": 9,
   "id": "3848522e",
   "metadata": {},
   "outputs": [
    {
     "name": "stdout",
     "output_type": "stream",
     "text": [
      "number of verses = 96702\n",
      "\n"
     ]
    }
   ],
   "source": [
    "print(f'number of verses = {len(verses)}\\n') "
   ]
  },
  {
   "cell_type": "code",
   "execution_count": 10,
   "id": "b35bfa60",
   "metadata": {},
   "outputs": [],
   "source": [
    "distintc_words = set(words)"
   ]
  },
  {
   "cell_type": "code",
   "execution_count": 11,
   "id": "3f602282",
   "metadata": {},
   "outputs": [
    {
     "data": {
      "text/plain": [
       "14684"
      ]
     },
     "execution_count": 11,
     "metadata": {},
     "output_type": "execute_result"
    }
   ],
   "source": [
    "len(distintc_words)"
   ]
  },
  {
   "cell_type": "code",
   "execution_count": 12,
   "id": "631bc5f3",
   "metadata": {},
   "outputs": [
    {
     "name": "stdout",
     "output_type": "stream",
     "text": [
      "total number of distinct words = 14684\n"
     ]
    }
   ],
   "source": [
    "print('total number of distinct words = 14684')"
   ]
  },
  {
   "cell_type": "code",
   "execution_count": null,
   "id": "ff81134f",
   "metadata": {},
   "outputs": [],
   "source": [
    "#should we delete the headers or not?"
   ]
  },
  {
   "cell_type": "markdown",
   "id": "92d4d1c5",
   "metadata": {},
   "source": [
    "# my description for lab 13\n"
   ]
  },
  {
   "cell_type": "markdown",
   "id": "4d3ec7b9",
   "metadata": {},
   "source": [
    "The inputs of the code are :\n",
    "The length of the window (the length that we use to find the plagiarism)\n",
    "The text file\n",
    "The outputs are:\n",
    "the number of words and verses (just in this case)\n",
    "the plagiarism output ( if there exists plagiarism or not)\n",
    "\n",
    "###############################################\n",
    "\n",
    "Code for reading the file\n",
    "\n",
    "file = open(\"commedia.txt\", \"rt\")\n",
    "\n",
    "data = file.read()\n",
    "\n",
    "##################################################\n",
    "\n",
    "total number of words = 96705\n",
    "\n",
    "total number of verses = 96704 (it's not that efficient)\n",
    "\n",
    "##############################################\n",
    "\n",
    "total number of distinct words = 14684\n",
    "\n",
    "##################################################### \n",
    "\n",
    "data structures \n",
    "\n",
    "a list of lists is used to store the verses \n",
    "\n",
    "also, a list is used to store the words\n",
    "\n",
    "in a real-life software, a hashtable will be used \n",
    "\n",
    "#########################################\n",
    "\n",
    "the general procedure \n",
    "\n",
    "in order to define the number of verses we can use a moving window approach\n",
    "the length of the window will be defined by the user and the window will move(slide) by one word"
   ]
  },
  {
   "cell_type": "code",
   "execution_count": null,
   "id": "9635dccf",
   "metadata": {},
   "outputs": [],
   "source": []
  }
 ],
 "metadata": {
  "kernelspec": {
   "display_name": "Python 3 (ipykernel)",
   "language": "python",
   "name": "python3"
  },
  "language_info": {
   "codemirror_mode": {
    "name": "ipython",
    "version": 3
   },
   "file_extension": ".py",
   "mimetype": "text/x-python",
   "name": "python",
   "nbconvert_exporter": "python",
   "pygments_lexer": "ipython3",
   "version": "3.9.13"
  }
 },
 "nbformat": 4,
 "nbformat_minor": 5
}
