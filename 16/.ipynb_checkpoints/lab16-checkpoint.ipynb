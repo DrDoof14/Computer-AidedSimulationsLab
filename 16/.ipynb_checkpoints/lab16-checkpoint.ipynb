{
 "cells": [
  {
   "cell_type": "code",
   "execution_count": null,
   "id": "d6174d08",
   "metadata": {},
   "outputs": [],
   "source": [
    "#deadline 16 jan 2023"
   ]
  },
  {
   "cell_type": "markdown",
   "id": "b62b9752",
   "metadata": {},
   "source": [
    "# questions \n",
    "1- wtf??? lol <br>\n",
    "2 -"
   ]
  },
  {
   "cell_type": "code",
   "execution_count": null,
   "id": "a6d0e81e",
   "metadata": {},
   "outputs": [],
   "source": []
  }
 ],
 "metadata": {
  "kernelspec": {
   "display_name": "Python 3 (ipykernel)",
   "language": "python",
   "name": "python3"
  },
  "language_info": {
   "codemirror_mode": {
    "name": "ipython",
    "version": 3
   },
   "file_extension": ".py",
   "mimetype": "text/x-python",
   "name": "python",
   "nbconvert_exporter": "python",
   "pygments_lexer": "ipython3",
   "version": "3.9.7"
  }
 },
 "nbformat": 4,
 "nbformat_minor": 5
}
