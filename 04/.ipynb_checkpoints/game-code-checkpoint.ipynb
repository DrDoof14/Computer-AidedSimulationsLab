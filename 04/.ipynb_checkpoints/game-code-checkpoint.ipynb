{
 "cells": [
  {
   "cell_type": "code",
   "execution_count": 29,
   "id": "d325bc83",
   "metadata": {},
   "outputs": [
    {
     "name": "stdout",
     "output_type": "stream",
     "text": [
      "please enter the size of arena 10\n",
      "[[0. 0. 0. 0. 0. 0. 0. 0. 0. 0.]\n",
      " [0. 0. 0. 0. 0. 0. 0. 0. 0. 0.]\n",
      " [0. 0. 0. 0. 0. 0. 0. 0. 0. 0.]\n",
      " [0. 0. 0. 0. 0. 0. 0. 0. 0. 0.]\n",
      " [0. 0. 0. 0. 0. 0. 0. 0. 0. 0.]\n",
      " [0. 0. 0. 0. 0. 0. 0. 0. 0. 0.]\n",
      " [0. 0. 0. 0. 0. 0. 0. 0. 0. 0.]\n",
      " [0. 0. 0. 0. 0. 0. 0. 0. 0. 0.]\n",
      " [0. 0. 0. 0. 0. 0. 0. 0. 0. 0.]\n",
      " [0. 0. 0. 0. 0. 0. 0. 0. 0. 0.]]\n"
     ]
    }
   ],
   "source": [
    "#creating the arena \n",
    "import random \n",
    "import numpy as np\n",
    "import math\n",
    "random.seed(42)\n",
    "#creates the arena using zeros \n",
    "n=int(input('please enter the size of arena '))\n",
    "def arena(n):\n",
    "    arena=np.zeros((n,n))\n",
    "    return arena    \n",
    "arena=arena(n)\n",
    "print(arena)"
   ]
  },
  {
   "cell_type": "code",
   "execution_count": 35,
   "id": "5a3a5b02",
   "metadata": {},
   "outputs": [
    {
     "name": "stdout",
     "output_type": "stream",
     "text": [
      "please enter the nuber of players4\n"
     ]
    }
   ],
   "source": [
    "#moving the players\n",
    "NumberOfPlayers=int(input(\"please enter the nuber of players\"))\n",
    "#should make a list of tuples \n",
    "#[(dead 1 or alive 0 , players killed , i cordinate , j cordinate)] \n",
    "#the code is written for only two players but will be completed for more that two \n",
    "# players= np.reshape(np.arange(NumberOfPlayers*1*4), (NumberOfPlayers,1,4))\n",
    "players=[]\n",
    "for i in range(0,NumberOfPlayers):\n",
    "    temp=[i+1,0,random.randint(0,n),random.randint(0,n)]\n",
    "    players.append(temp)\n",
    "def move(player):\n",
    "    movement=random.randint(1,4)\n",
    "    if(movement == 1):\n",
    "        player[2]=player[2]+1#up\n",
    "    elif(movement == 2):\n",
    "        player[2]=player[2]-1#down\n",
    "    elif(movement == 3):\n",
    "        player[3]=player[3]+1#right\n",
    "    elif(movement == 4):\n",
    "        player[3]=player[3]-1#left"
   ]
  },
  {
   "cell_type": "code",
   "execution_count": 36,
   "id": "6739e11b",
   "metadata": {},
   "outputs": [
    {
     "data": {
      "text/plain": [
       "[[1, 0, 8, 9], [2, 0, 0, 8], [3, 0, 3, 10], [4, 0, 8, 6]]"
      ]
     },
     "execution_count": 36,
     "metadata": {},
     "output_type": "execute_result"
    }
   ],
   "source": [
    "players"
   ]
  },
  {
   "cell_type": "code",
   "execution_count": 48,
   "id": "4b769fe1",
   "metadata": {},
   "outputs": [
    {
     "data": {
      "text/plain": [
       "[1, 0, 9, 9]"
      ]
     },
     "execution_count": 48,
     "metadata": {},
     "output_type": "execute_result"
    }
   ],
   "source": [
    "player=players[0]\n",
    "player[2]=player[2]+1\n",
    "player"
   ]
  },
  {
   "cell_type": "code",
   "execution_count": 22,
   "id": "48c19a44",
   "metadata": {},
   "outputs": [],
   "source": [
    "#killig process \n",
    "killed_players=0\n",
    "def kill(player1,player2):\n",
    "    distance= math.dist(player1,player2)\n",
    "    if distance<=1:\n",
    "        kill=random.uniform(0, 1)\n",
    "        if kill>0.5:\n",
    "            print(\"player 1 is killed\")\n",
    "            player2_kills=player2_kills+1\n",
    "            killed_players=killed_players+1\n",
    "        else:\n",
    "            print(\"player 2 is killed\")\n",
    "            player1_kills=player1_kills+1\n",
    "            killed_players=killed_players+1"
   ]
  },
  {
   "cell_type": "code",
   "execution_count": 23,
   "id": "9500156b",
   "metadata": {},
   "outputs": [
    {
     "ename": "TypeError",
     "evalue": "list indices must be integers or slices, not tuple",
     "output_type": "error",
     "traceback": [
      "\u001b[1;31m---------------------------------------------------------------------------\u001b[0m",
      "\u001b[1;31mTypeError\u001b[0m                                 Traceback (most recent call last)",
      "\u001b[1;32m~\\AppData\\Local\\Temp/ipykernel_22312/3937035914.py\u001b[0m in \u001b[0;36m<module>\u001b[1;34m\u001b[0m\n\u001b[0;32m      2\u001b[0m \u001b[0mgame\u001b[0m\u001b[1;33m=\u001b[0m\u001b[1;32mTrue\u001b[0m\u001b[1;33m\u001b[0m\u001b[1;33m\u001b[0m\u001b[0m\n\u001b[0;32m      3\u001b[0m \u001b[1;32mwhile\u001b[0m\u001b[1;33m(\u001b[0m\u001b[0mgame\u001b[0m\u001b[1;33m)\u001b[0m\u001b[1;33m:\u001b[0m\u001b[1;33m\u001b[0m\u001b[1;33m\u001b[0m\u001b[0m\n\u001b[1;32m----> 4\u001b[1;33m     \u001b[0mmove\u001b[0m\u001b[1;33m(\u001b[0m\u001b[0mplayer1\u001b[0m\u001b[1;33m)\u001b[0m\u001b[1;33m\u001b[0m\u001b[1;33m\u001b[0m\u001b[0m\n\u001b[0m\u001b[0;32m      5\u001b[0m     \u001b[0mmove\u001b[0m\u001b[1;33m(\u001b[0m\u001b[0mplayer2\u001b[0m\u001b[1;33m)\u001b[0m\u001b[1;33m\u001b[0m\u001b[1;33m\u001b[0m\u001b[0m\n\u001b[0;32m      6\u001b[0m     \u001b[0mkill\u001b[0m\u001b[1;33m(\u001b[0m\u001b[0mplayer1\u001b[0m\u001b[1;33m,\u001b[0m\u001b[0mplayer2\u001b[0m\u001b[1;33m)\u001b[0m\u001b[1;33m\u001b[0m\u001b[1;33m\u001b[0m\u001b[0m\n",
      "\u001b[1;32m~\\AppData\\Local\\Temp/ipykernel_22312/2634707108.py\u001b[0m in \u001b[0;36mmove\u001b[1;34m(player)\u001b[0m\n\u001b[0;32m     16\u001b[0m     \u001b[0mmovement\u001b[0m\u001b[1;33m=\u001b[0m\u001b[0mrandom\u001b[0m\u001b[1;33m.\u001b[0m\u001b[0mrandint\u001b[0m\u001b[1;33m(\u001b[0m\u001b[1;36m1\u001b[0m\u001b[1;33m,\u001b[0m\u001b[1;36m4\u001b[0m\u001b[1;33m)\u001b[0m\u001b[1;33m\u001b[0m\u001b[1;33m\u001b[0m\u001b[0m\n\u001b[0;32m     17\u001b[0m     \u001b[1;32mif\u001b[0m\u001b[1;33m(\u001b[0m\u001b[0mmovement\u001b[0m \u001b[1;33m==\u001b[0m \u001b[1;36m1\u001b[0m\u001b[1;33m)\u001b[0m\u001b[1;33m:\u001b[0m\u001b[1;33m\u001b[0m\u001b[1;33m\u001b[0m\u001b[0m\n\u001b[1;32m---> 18\u001b[1;33m         \u001b[0mplayer\u001b[0m\u001b[1;33m[\u001b[0m\u001b[0mi\u001b[0m\u001b[1;33m+\u001b[0m\u001b[1;36m1\u001b[0m\u001b[1;33m,\u001b[0m\u001b[0mj\u001b[0m\u001b[1;33m]\u001b[0m\u001b[1;31m#up\u001b[0m\u001b[1;33m\u001b[0m\u001b[1;33m\u001b[0m\u001b[0m\n\u001b[0m\u001b[0;32m     19\u001b[0m     \u001b[1;32melif\u001b[0m\u001b[1;33m(\u001b[0m\u001b[0mmovement\u001b[0m \u001b[1;33m==\u001b[0m \u001b[1;36m2\u001b[0m\u001b[1;33m)\u001b[0m\u001b[1;33m:\u001b[0m\u001b[1;33m\u001b[0m\u001b[1;33m\u001b[0m\u001b[0m\n\u001b[0;32m     20\u001b[0m         \u001b[0mplayer\u001b[0m\u001b[1;33m[\u001b[0m\u001b[0mi\u001b[0m\u001b[1;33m-\u001b[0m\u001b[1;36m1\u001b[0m\u001b[1;33m,\u001b[0m\u001b[0mj\u001b[0m\u001b[1;33m]\u001b[0m\u001b[1;31m#down\u001b[0m\u001b[1;33m\u001b[0m\u001b[1;33m\u001b[0m\u001b[0m\n",
      "\u001b[1;31mTypeError\u001b[0m: list indices must be integers or slices, not tuple"
     ]
    }
   ],
   "source": [
    "#simulation phase\n",
    "game=True\n",
    "while(game):\n",
    "    move(player1)\n",
    "    move(player2)\n",
    "    kill(player1,player2)\n",
    "    if killed_players==NumberOfPlayers-1:\n",
    "        game=False\n"
   ]
  }
 ],
 "metadata": {
  "kernelspec": {
   "display_name": "Python 3 (ipykernel)",
   "language": "python",
   "name": "python3"
  },
  "language_info": {
   "codemirror_mode": {
    "name": "ipython",
    "version": 3
   },
   "file_extension": ".py",
   "mimetype": "text/x-python",
   "name": "python",
   "nbconvert_exporter": "python",
   "pygments_lexer": "ipython3",
   "version": "3.9.7"
  }
 },
 "nbformat": 4,
 "nbformat_minor": 5
}
