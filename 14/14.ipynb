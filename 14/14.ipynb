{
 "cells": [
  {
   "cell_type": "code",
   "execution_count": 1,
   "id": "87b985d8",
   "metadata": {},
   "outputs": [],
   "source": [
    "#have to read the GW.pdf file which is stored in the Epidemic folder \n",
    "#then we can start coding this lab "
   ]
  },
  {
   "cell_type": "code",
   "execution_count": 2,
   "id": "16953a84",
   "metadata": {},
   "outputs": [],
   "source": [
    "# we don't have to generate the distro ourselves and it's ok if we use libraries "
   ]
  },
  {
   "cell_type": "code",
   "execution_count": 3,
   "id": "2d55a24c",
   "metadata": {},
   "outputs": [],
   "source": [
    "#keeps on going for lambda equal to 1.3\n",
    "#reproduction probability for generation= m ** i\n",
    "#extinction prob = 1/1+ (frequency * number)\n",
    "#how should we compute qi?\n",
    "#extinction probability is increasing \n",
    "#what we've fond is the surviving probability \n",
    "#lambda is equal to m"
   ]
  },
  {
   "cell_type": "markdown",
   "id": "4fd8b57d",
   "metadata": {},
   "source": [
    "# Description"
   ]
  },
  {
   "cell_type": "markdown",
   "id": "f34f9e27",
   "metadata": {},
   "source": [
    "14 - Galton-Watson ProcessesWorkshop<br>\n",
    "Through simulation evaluate the extinction probability within  generation  i  (q_i) and the asymptotic extinction  probability  (q) for  a Galton-Watson process in which the number of children of an individual Y is  distributed as a Poisson(lambda) R.V.  with lambda=0.6, 0.8, 0.9 0.95, 0.99, 1.01, 1.05, 1.1, 1.3.\n",
    "\n",
    "Compare the results you  obtain with theoretical predictions, (by  finding numerically, when needed,  the solution of q= phi_Y(q)) \n",
    "\n",
    "In particular, you are requested to specify the stopping condition you have implemented in order to empirically \"detect\"   non-extinction condition.  Please try to provide a theoretical justification to such condition.\n",
    "\n",
    "For the case  \\lambda=0.8, obtain the empirical distribution (histogram) on the number of nodes in the tr"
   ]
  },
  {
   "cell_type": "code",
   "execution_count": 4,
   "id": "08f5c667",
   "metadata": {},
   "outputs": [],
   "source": [
    "import numpy as np\n",
    "from collections import defaultdict\n",
    "import matplotlib.pyplot as plt"
   ]
  },
  {
   "cell_type": "code",
   "execution_count": 5,
   "id": "c3ae9ddd",
   "metadata": {},
   "outputs": [],
   "source": [
    "lambda_values=[0.6, 0.8, 0.9,0.95, 0.99, 1.01, 1.05, 1.1, 1.3]\n",
    "np.random.seed(32)"
   ]
  },
  {
   "cell_type": "code",
   "execution_count": 6,
   "id": "0c70644b",
   "metadata": {},
   "outputs": [],
   "source": [
    "generation_limit=20\n",
    "runs=1000"
   ]
  },
  {
   "cell_type": "code",
   "execution_count": 22,
   "id": "b1900c3f",
   "metadata": {},
   "outputs": [],
   "source": [
    "#we should store all the generation that have survived untill the generation that is extinct \n",
    "# since technically we're storing the survived generations \n",
    "final_dict_lambda=defaultdict(list)\n",
    "\n",
    "for lam in lambda_values:\n",
    "    gen_dict_survive={}\n",
    "    for i in range(runs):\n",
    "        generation_dict=defaultdict(list)\n",
    "        generation = 0\n",
    "        generation_dict[generation].append(np.random.poisson(lam)) # first person\n",
    "        while (sum(generation_dict[generation])!=0) and  (generation<generation_limit):\n",
    "            temp=generation+1\n",
    "            for _ in range(sum(generation_dict[generation])):\n",
    "                generation_dict[temp].append(np.random.poisson(lam))\n",
    "#             print(generation_dict)\n",
    "            generation= generation+1\n",
    "        for j in range(generation):\n",
    "            if j in gen_dict_survive.keys():\n",
    "                gen_dict_survive[j]+=1\n",
    "            else:\n",
    "                gen_dict_survive[j]=1\n",
    "    final_dict_lambda[lam]=gen_dict_survive\n",
    "\n",
    "#     print(generation_dict)"
   ]
  },
  {
   "cell_type": "code",
   "execution_count": 23,
   "id": "2f559c0a",
   "metadata": {},
   "outputs": [
    {
     "data": {
      "text/plain": [
       "defaultdict(list,\n",
       "            {0.6: {0: 455,\n",
       "              1: 261,\n",
       "              2: 150,\n",
       "              3: 93,\n",
       "              4: 55,\n",
       "              5: 31,\n",
       "              6: 17,\n",
       "              7: 12,\n",
       "              8: 5,\n",
       "              9: 2,\n",
       "              10: 2,\n",
       "              11: 2},\n",
       "             0.8: {0: 528,\n",
       "              1: 336,\n",
       "              2: 233,\n",
       "              3: 163,\n",
       "              4: 126,\n",
       "              5: 87,\n",
       "              6: 62,\n",
       "              7: 50,\n",
       "              8: 37,\n",
       "              9: 34,\n",
       "              10: 25,\n",
       "              11: 20,\n",
       "              12: 18,\n",
       "              13: 15,\n",
       "              14: 15,\n",
       "              15: 13,\n",
       "              16: 10,\n",
       "              17: 6,\n",
       "              18: 6,\n",
       "              19: 5},\n",
       "             0.9: {0: 599,\n",
       "              1: 402,\n",
       "              2: 310,\n",
       "              3: 230,\n",
       "              4: 176,\n",
       "              5: 146,\n",
       "              6: 116,\n",
       "              7: 88,\n",
       "              8: 79,\n",
       "              9: 68,\n",
       "              10: 57,\n",
       "              11: 51,\n",
       "              12: 44,\n",
       "              13: 38,\n",
       "              14: 35,\n",
       "              15: 31,\n",
       "              16: 27,\n",
       "              17: 23,\n",
       "              18: 19,\n",
       "              19: 15},\n",
       "             0.95: {0: 623,\n",
       "              1: 449,\n",
       "              2: 329,\n",
       "              3: 252,\n",
       "              4: 207,\n",
       "              5: 187,\n",
       "              6: 164,\n",
       "              7: 150,\n",
       "              8: 139,\n",
       "              9: 116,\n",
       "              10: 106,\n",
       "              11: 92,\n",
       "              12: 81,\n",
       "              13: 75,\n",
       "              14: 71,\n",
       "              15: 63,\n",
       "              16: 58,\n",
       "              17: 54,\n",
       "              18: 54,\n",
       "              19: 47},\n",
       "             0.99: {0: 632,\n",
       "              1: 444,\n",
       "              2: 348,\n",
       "              3: 284,\n",
       "              4: 242,\n",
       "              5: 218,\n",
       "              6: 193,\n",
       "              7: 180,\n",
       "              8: 166,\n",
       "              9: 148,\n",
       "              10: 141,\n",
       "              11: 134,\n",
       "              12: 120,\n",
       "              13: 112,\n",
       "              14: 105,\n",
       "              15: 101,\n",
       "              16: 97,\n",
       "              17: 93,\n",
       "              18: 92,\n",
       "              19: 91},\n",
       "             1.01: {0: 613,\n",
       "              1: 443,\n",
       "              2: 359,\n",
       "              3: 311,\n",
       "              4: 270,\n",
       "              5: 239,\n",
       "              6: 219,\n",
       "              7: 198,\n",
       "              8: 181,\n",
       "              9: 166,\n",
       "              10: 149,\n",
       "              11: 137,\n",
       "              12: 129,\n",
       "              13: 121,\n",
       "              14: 115,\n",
       "              15: 112,\n",
       "              16: 108,\n",
       "              17: 104,\n",
       "              18: 101,\n",
       "              19: 98},\n",
       "             1.05: {0: 633,\n",
       "              1: 464,\n",
       "              2: 372,\n",
       "              3: 317,\n",
       "              4: 280,\n",
       "              5: 238,\n",
       "              6: 220,\n",
       "              7: 206,\n",
       "              8: 196,\n",
       "              9: 186,\n",
       "              10: 178,\n",
       "              11: 165,\n",
       "              12: 157,\n",
       "              13: 150,\n",
       "              14: 148,\n",
       "              15: 144,\n",
       "              16: 141,\n",
       "              17: 134,\n",
       "              18: 131,\n",
       "              19: 129},\n",
       "             1.1: {0: 670,\n",
       "              1: 526,\n",
       "              2: 432,\n",
       "              3: 371,\n",
       "              4: 333,\n",
       "              5: 307,\n",
       "              6: 281,\n",
       "              7: 268,\n",
       "              8: 253,\n",
       "              9: 245,\n",
       "              10: 240,\n",
       "              11: 230,\n",
       "              12: 218,\n",
       "              13: 212,\n",
       "              14: 211,\n",
       "              15: 205,\n",
       "              16: 203,\n",
       "              17: 201,\n",
       "              18: 196,\n",
       "              19: 194},\n",
       "             1.3: {0: 726,\n",
       "              1: 609,\n",
       "              2: 546,\n",
       "              3: 512,\n",
       "              4: 497,\n",
       "              5: 477,\n",
       "              6: 459,\n",
       "              7: 440,\n",
       "              8: 433,\n",
       "              9: 424,\n",
       "              10: 422,\n",
       "              11: 422,\n",
       "              12: 421,\n",
       "              13: 418,\n",
       "              14: 416,\n",
       "              15: 416,\n",
       "              16: 415,\n",
       "              17: 414,\n",
       "              18: 414,\n",
       "              19: 413}})"
      ]
     },
     "execution_count": 23,
     "metadata": {},
     "output_type": "execute_result"
    }
   ],
   "source": [
    "final_dict_lambda"
   ]
  },
  {
   "cell_type": "markdown",
   "id": "b393d754",
   "metadata": {},
   "source": [
    "1- the probability of survival till an specific generation = probability of extinction untill that generation"
   ]
  },
  {
   "cell_type": "code",
   "execution_count": 24,
   "id": "133a2b5e",
   "metadata": {},
   "outputs": [],
   "source": [
    "# plot => x = generation and y = extinctintion prob \n",
    "# extinctino prob = numers / runs "
   ]
  },
  {
   "cell_type": "code",
   "execution_count": 28,
   "id": "c23248a7",
   "metadata": {},
   "outputs": [
    {
     "name": "stdout",
     "output_type": "stream",
     "text": [
      "{0: 455, 1: 261, 2: 150, 3: 93, 4: 55, 5: 31, 6: 17, 7: 12, 8: 5, 9: 2, 10: 2, 11: 2}\n"
     ]
    }
   ],
   "source": [
    "lam_06=final_dict_lambda[0.6]\n",
    "print(lam_06)"
   ]
  },
  {
   "cell_type": "code",
   "execution_count": null,
   "id": "73f0cc2e",
   "metadata": {},
   "outputs": [],
   "source": [
    "plt.plot(,,label='0.6')\n",
    "plt.xlabel('Generations')\n",
    "plt.ylabel('Probability of Survival')"
   ]
  }
 ],
 "metadata": {
  "kernelspec": {
   "display_name": "Python 3 (ipykernel)",
   "language": "python",
   "name": "python3"
  },
  "language_info": {
   "codemirror_mode": {
    "name": "ipython",
    "version": 3
   },
   "file_extension": ".py",
   "mimetype": "text/x-python",
   "name": "python",
   "nbconvert_exporter": "python",
   "pygments_lexer": "ipython3",
   "version": "3.9.13"
  }
 },
 "nbformat": 4,
 "nbformat_minor": 5
}
