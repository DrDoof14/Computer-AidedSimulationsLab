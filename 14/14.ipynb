{
 "cells": [
  {
   "cell_type": "code",
   "execution_count": 1,
   "id": "87b985d8",
   "metadata": {},
   "outputs": [],
   "source": [
    "#have to read the GW.pdf file which is stored in the Epidemic folder \n",
    "#then we can start coding this lab "
   ]
  },
  {
   "cell_type": "code",
   "execution_count": 2,
   "id": "16953a84",
   "metadata": {},
   "outputs": [],
   "source": [
    "# we don't have to generate the distro ourselves and it's ok if we use libraries "
   ]
  },
  {
   "cell_type": "code",
   "execution_count": null,
   "id": "6a7a647c",
   "metadata": {},
   "outputs": [],
   "source": [
    "#keeps on going for lambda equal to 1.3\n",
    "#reproduction probability for generation= m ** i\n",
    "#extinction prob = 1/1+ (frequency * number)\n",
    "#how should we compute qi?\n",
    "#extinction probability is increasing \n",
    "#what we've fond is the surviving probability \n",
    "#lambda is equal to m"
   ]
  },
  {
   "cell_type": "markdown",
   "id": "4fd8b57d",
   "metadata": {},
   "source": [
    "# Description"
   ]
  },
  {
   "cell_type": "markdown",
   "id": "f34f9e27",
   "metadata": {},
   "source": [
    "14 - Galton-Watson ProcessesWorkshop<br>\n",
    "Through simulation evaluate the extinction probability within  generation  i  (q_i) and the asymptotic extinction  probability  (q) for  a Galton-Watson process in which the number of children of an individual Y is  distributed as a Poisson(lambda) R.V.  with lambda=0.6, 0.8, 0.9 0.95, 0.99, 1.01, 1.05, 1.1, 1.3.\n",
    "\n",
    "Compare the results you  obtain with theoretical predictions, (by  finding numerically, when needed,  the solution of q= phi_Y(q)) \n",
    "\n",
    "In particular, you are requested to specify the stopping condition you have implemented in order to empirically \"detect\"   non-extinction condition.  Please try to provide a theoretical justification to such condition.\n",
    "\n",
    "For the case  \\lambda=0.8, obtain the empirical distribution (histogram) on the number of nodes in the tr"
   ]
  },
  {
   "cell_type": "code",
   "execution_count": 101,
   "id": "08f5c667",
   "metadata": {},
   "outputs": [],
   "source": [
    "import numpy as np\n",
    "from collections import defaultdict"
   ]
  },
  {
   "cell_type": "code",
   "execution_count": 102,
   "id": "c3ae9ddd",
   "metadata": {},
   "outputs": [],
   "source": [
    "lambda_values=[0.6, 0.8, 0.9,0.95, 0.99, 1.01, 1.05, 1.1, 1.3]\n",
    "np.random.seed(32)"
   ]
  },
  {
   "cell_type": "code",
   "execution_count": 117,
   "id": "b7d2e7f1",
   "metadata": {},
   "outputs": [],
   "source": [
    "lam = 0.9\n",
    "survived_generation=[] \n",
    "generation_limit=100\n",
    "runs=200"
   ]
  },
  {
   "cell_type": "code",
   "execution_count": 113,
   "id": "b1900c3f",
   "metadata": {},
   "outputs": [],
   "source": [
    "for i in range(runs):\n",
    "    generation_dict=defaultdict(list)\n",
    "    generation = 0\n",
    "    generation_dict[generation].append(np.random.poisson(lam)) # first person\n",
    "    while sum(generation_dict[generation])!=0 and generation<generation_limit:\n",
    "        temp=generation+1\n",
    "        for _ in range(sum(generation_dict[generation])):\n",
    "            generation_dict[temp].append(np.random.poisson(lam))\n",
    "\n",
    "        generation= generation+1\n",
    "    survived_generation.append(generation)\n",
    "\n",
    "#     print(generation_dict)"
   ]
  },
  {
   "cell_type": "code",
   "execution_count": 114,
   "id": "58253fe1",
   "metadata": {},
   "outputs": [],
   "source": [
    "# generation_dict"
   ]
  },
  {
   "cell_type": "code",
   "execution_count": 115,
   "id": "67c7345e",
   "metadata": {
    "scrolled": true
   },
   "outputs": [
    {
     "data": {
      "text/plain": [
       "[0,\n",
       " 1,\n",
       " 3,\n",
       " 3,\n",
       " 1,\n",
       " 3,\n",
       " 4,\n",
       " 21,\n",
       " 0,\n",
       " 1,\n",
       " 0,\n",
       " 0,\n",
       " 0,\n",
       " 1,\n",
       " 0,\n",
       " 0,\n",
       " 0,\n",
       " 4,\n",
       " 14,\n",
       " 0,\n",
       " 13,\n",
       " 5,\n",
       " 0,\n",
       " 10,\n",
       " 3,\n",
       " 5,\n",
       " 1,\n",
       " 2,\n",
       " 0,\n",
       " 4,\n",
       " 2,\n",
       " 2,\n",
       " 10,\n",
       " 2,\n",
       " 0,\n",
       " 18,\n",
       " 0,\n",
       " 1,\n",
       " 4,\n",
       " 3,\n",
       " 7,\n",
       " 1,\n",
       " 3,\n",
       " 3,\n",
       " 0,\n",
       " 0,\n",
       " 5,\n",
       " 1,\n",
       " 7,\n",
       " 1,\n",
       " 0,\n",
       " 1,\n",
       " 2,\n",
       " 0,\n",
       " 0,\n",
       " 0,\n",
       " 0,\n",
       " 0,\n",
       " 1,\n",
       " 1,\n",
       " 1,\n",
       " 2,\n",
       " 4,\n",
       " 0,\n",
       " 11,\n",
       " 0,\n",
       " 10,\n",
       " 0,\n",
       " 1,\n",
       " 0,\n",
       " 1,\n",
       " 0,\n",
       " 0,\n",
       " 5,\n",
       " 7,\n",
       " 1,\n",
       " 2,\n",
       " 0,\n",
       " 3,\n",
       " 1,\n",
       " 0,\n",
       " 10,\n",
       " 1,\n",
       " 0,\n",
       " 0,\n",
       " 4,\n",
       " 2,\n",
       " 13,\n",
       " 0,\n",
       " 1,\n",
       " 1,\n",
       " 1,\n",
       " 1,\n",
       " 0,\n",
       " 0,\n",
       " 2,\n",
       " 0,\n",
       " 0,\n",
       " 3,\n",
       " 1,\n",
       " 4,\n",
       " 8,\n",
       " 0,\n",
       " 32,\n",
       " 0,\n",
       " 0,\n",
       " 21,\n",
       " 17,\n",
       " 2,\n",
       " 2,\n",
       " 1,\n",
       " 1,\n",
       " 2,\n",
       " 2,\n",
       " 0,\n",
       " 31,\n",
       " 13,\n",
       " 1,\n",
       " 1,\n",
       " 4,\n",
       " 1,\n",
       " 7,\n",
       " 1,\n",
       " 0,\n",
       " 1,\n",
       " 1,\n",
       " 3,\n",
       " 3,\n",
       " 11,\n",
       " 1,\n",
       " 4,\n",
       " 1,\n",
       " 1,\n",
       " 3,\n",
       " 1,\n",
       " 0,\n",
       " 1,\n",
       " 6,\n",
       " 12,\n",
       " 0,\n",
       " 1,\n",
       " 13,\n",
       " 3,\n",
       " 31,\n",
       " 0,\n",
       " 3,\n",
       " 0,\n",
       " 1,\n",
       " 22,\n",
       " 0,\n",
       " 0,\n",
       " 4,\n",
       " 3,\n",
       " 10,\n",
       " 1,\n",
       " 0,\n",
       " 0,\n",
       " 5,\n",
       " 0,\n",
       " 5,\n",
       " 0,\n",
       " 0,\n",
       " 2,\n",
       " 0,\n",
       " 2,\n",
       " 1,\n",
       " 2,\n",
       " 0,\n",
       " 0,\n",
       " 15,\n",
       " 6,\n",
       " 1,\n",
       " 2,\n",
       " 9,\n",
       " 8,\n",
       " 4,\n",
       " 4,\n",
       " 0,\n",
       " 0,\n",
       " 0,\n",
       " 1,\n",
       " 0,\n",
       " 7,\n",
       " 52,\n",
       " 1,\n",
       " 3,\n",
       " 0,\n",
       " 4,\n",
       " 3,\n",
       " 12,\n",
       " 1,\n",
       " 23,\n",
       " 0,\n",
       " 0,\n",
       " 1,\n",
       " 2,\n",
       " 0,\n",
       " 20,\n",
       " 29,\n",
       " 6]"
      ]
     },
     "execution_count": 115,
     "metadata": {},
     "output_type": "execute_result"
    }
   ],
   "source": [
    "survived_generation"
   ]
  },
  {
   "cell_type": "markdown",
   "id": "8c7a5b34",
   "metadata": {},
   "source": [
    "1- the probability of survival till an specific generation = probability of extinction untill that generation"
   ]
  },
  {
   "cell_type": "code",
   "execution_count": 116,
   "id": "2ff57e81",
   "metadata": {},
   "outputs": [
    {
     "name": "stdout",
     "output_type": "stream",
     "text": [
      "0.91\n"
     ]
    }
   ],
   "source": [
    "print(1-((survived_generation.count(2)/runs)))"
   ]
  }
 ],
 "metadata": {
  "kernelspec": {
   "display_name": "Python 3 (ipykernel)",
   "language": "python",
   "name": "python3"
  },
  "language_info": {
   "codemirror_mode": {
    "name": "ipython",
    "version": 3
   },
   "file_extension": ".py",
   "mimetype": "text/x-python",
   "name": "python",
   "nbconvert_exporter": "python",
   "pygments_lexer": "ipython3",
   "version": "3.9.13"
  }
 },
 "nbformat": 4,
 "nbformat_minor": 5
}
