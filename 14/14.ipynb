{
 "cells": [
  {
   "cell_type": "code",
   "execution_count": 1,
   "id": "87b985d8",
   "metadata": {},
   "outputs": [],
   "source": [
    "#have to read the GW.pdf file which is stored in the Epidemic folder \n",
    "#then we can start coding this lab "
   ]
  },
  {
   "cell_type": "code",
   "execution_count": 2,
   "id": "16953a84",
   "metadata": {},
   "outputs": [],
   "source": [
    "# we don't have to generate the distro ourselves and it's ok if we use libraries "
   ]
  },
  {
   "cell_type": "markdown",
   "id": "4fd8b57d",
   "metadata": {},
   "source": [
    "# Description"
   ]
  },
  {
   "cell_type": "markdown",
   "id": "f34f9e27",
   "metadata": {},
   "source": [
    "14 - Galton-Watson ProcessesWorkshop<br>\n",
    "Through simulation evaluate the extinction probability within  generation  i  (q_i) and the asymptotic extinction  probability  (q) for  a Galton-Watson process in which the number of children of an individual Y is  distributed as a Poisson(lambda) R.V.  with lambda=0.6, 0.8, 0.9 0.95, 0.99, 1.01, 1.05, 1.1, 1.3.\n",
    "\n",
    "Compare the results you  obtain with theoretical predictions, (by  finding numerically, when needed,  the solution of q= phi_Y(q)) \n",
    "\n",
    "In particular, you are requested to specify the stopping condition you have implemented in order to empirically \"detect\"   non-extinction condition.  Please try to provide a theoretical justification to such condition.\n",
    "\n",
    "For the case  \\lambda=0.8, obtain the empirical distribution (histogram) on the number of nodes in the tr"
   ]
  },
  {
   "cell_type": "code",
   "execution_count": 101,
   "id": "08f5c667",
   "metadata": {},
   "outputs": [],
   "source": [
    "import numpy as np\n",
    "from collections import defaultdict"
   ]
  },
  {
   "cell_type": "code",
   "execution_count": 102,
   "id": "c3ae9ddd",
   "metadata": {},
   "outputs": [],
   "source": [
    "lambda_values=[0.6, 0.8, 0.9,0.95, 0.99, 1.01, 1.05, 1.1, 1.3]\n",
    "np.random.seed(32)\n",
    "lam = 0.9"
   ]
  },
  {
   "cell_type": "code",
   "execution_count": 103,
   "id": "b1900c3f",
   "metadata": {},
   "outputs": [],
   "source": [
    "extinct_generation=[]\n",
    "generation_limit=100\n",
    "runs=200\n",
    "for i in range(runs):\n",
    "    generation_dict=defaultdict(list)\n",
    "    generation = 0\n",
    "    generation_dict[generation].append(np.random.poisson(lam)) # first person\n",
    "    while sum(generation_dict[generation])!=0 and generation<generation_limit:\n",
    "        temp=generation+1\n",
    "        for _ in range(sum(generation_dict[generation])):\n",
    "            generation_dict[temp].append(np.random.poisson(lam))\n",
    "\n",
    "        generation= generation+1\n",
    "    extinct_generation.append(generation)\n",
    "\n",
    "#     print(generation_dict)"
   ]
  },
  {
   "cell_type": "code",
   "execution_count": 104,
   "id": "80cc312e",
   "metadata": {},
   "outputs": [],
   "source": [
    "# generation_dict"
   ]
  },
  {
   "cell_type": "code",
   "execution_count": 105,
   "id": "af98de2f",
   "metadata": {
    "scrolled": true
   },
   "outputs": [
    {
     "data": {
      "text/plain": [
       "[10,\n",
       " 0,\n",
       " 2,\n",
       " 3,\n",
       " 4,\n",
       " 1,\n",
       " 1,\n",
       " 0,\n",
       " 1,\n",
       " 0,\n",
       " 0,\n",
       " 3,\n",
       " 0,\n",
       " 0,\n",
       " 4,\n",
       " 0,\n",
       " 4,\n",
       " 0,\n",
       " 2,\n",
       " 9,\n",
       " 0,\n",
       " 0,\n",
       " 4,\n",
       " 2,\n",
       " 0,\n",
       " 1,\n",
       " 2,\n",
       " 1,\n",
       " 3,\n",
       " 1,\n",
       " 14,\n",
       " 15,\n",
       " 2,\n",
       " 0,\n",
       " 0,\n",
       " 0,\n",
       " 0,\n",
       " 0,\n",
       " 0,\n",
       " 2,\n",
       " 2,\n",
       " 10,\n",
       " 1,\n",
       " 0,\n",
       " 22,\n",
       " 2,\n",
       " 2,\n",
       " 2,\n",
       " 1,\n",
       " 0,\n",
       " 5,\n",
       " 0,\n",
       " 1,\n",
       " 4,\n",
       " 4,\n",
       " 0,\n",
       " 15,\n",
       " 27,\n",
       " 0,\n",
       " 1,\n",
       " 0,\n",
       " 1,\n",
       " 0,\n",
       " 2,\n",
       " 8,\n",
       " 0,\n",
       " 1,\n",
       " 0,\n",
       " 2,\n",
       " 4,\n",
       " 1,\n",
       " 25,\n",
       " 13,\n",
       " 0,\n",
       " 0,\n",
       " 1,\n",
       " 13,\n",
       " 3,\n",
       " 13,\n",
       " 18,\n",
       " 11,\n",
       " 0,\n",
       " 2,\n",
       " 0,\n",
       " 0,\n",
       " 0,\n",
       " 1,\n",
       " 0,\n",
       " 0,\n",
       " 0,\n",
       " 0,\n",
       " 9,\n",
       " 0,\n",
       " 0,\n",
       " 5,\n",
       " 0,\n",
       " 4,\n",
       " 10,\n",
       " 0,\n",
       " 0,\n",
       " 2,\n",
       " 2,\n",
       " 1,\n",
       " 15,\n",
       " 2,\n",
       " 0,\n",
       " 0,\n",
       " 0,\n",
       " 2,\n",
       " 0,\n",
       " 0,\n",
       " 0,\n",
       " 1,\n",
       " 0,\n",
       " 1,\n",
       " 3,\n",
       " 5,\n",
       " 0,\n",
       " 0,\n",
       " 3,\n",
       " 1,\n",
       " 15,\n",
       " 0,\n",
       " 3,\n",
       " 12,\n",
       " 1,\n",
       " 3,\n",
       " 0,\n",
       " 1,\n",
       " 2,\n",
       " 2,\n",
       " 2,\n",
       " 0,\n",
       " 1,\n",
       " 0,\n",
       " 0,\n",
       " 0,\n",
       " 1,\n",
       " 0,\n",
       " 0,\n",
       " 2,\n",
       " 0,\n",
       " 6,\n",
       " 0,\n",
       " 2,\n",
       " 7,\n",
       " 1,\n",
       " 15,\n",
       " 0,\n",
       " 0,\n",
       " 14,\n",
       " 2,\n",
       " 28,\n",
       " 0,\n",
       " 5,\n",
       " 3,\n",
       " 0,\n",
       " 1,\n",
       " 7,\n",
       " 0,\n",
       " 4,\n",
       " 0,\n",
       " 0,\n",
       " 9,\n",
       " 1,\n",
       " 1,\n",
       " 4,\n",
       " 0,\n",
       " 8,\n",
       " 0,\n",
       " 1,\n",
       " 1,\n",
       " 4,\n",
       " 1,\n",
       " 0,\n",
       " 6,\n",
       " 4,\n",
       " 0,\n",
       " 14,\n",
       " 1,\n",
       " 5,\n",
       " 2,\n",
       " 3,\n",
       " 1,\n",
       " 2,\n",
       " 0,\n",
       " 0,\n",
       " 1,\n",
       " 1,\n",
       " 2,\n",
       " 6,\n",
       " 35,\n",
       " 18,\n",
       " 20,\n",
       " 1,\n",
       " 0,\n",
       " 5,\n",
       " 0,\n",
       " 0,\n",
       " 1]"
      ]
     },
     "execution_count": 105,
     "metadata": {},
     "output_type": "execute_result"
    }
   ],
   "source": [
    "extinct_generation"
   ]
  },
  {
   "cell_type": "code",
   "execution_count": 106,
   "id": "fc1614ba",
   "metadata": {},
   "outputs": [
    {
     "name": "stdout",
     "output_type": "stream",
     "text": [
      "18.0\n"
     ]
    }
   ],
   "source": [
    "print((extinct_generation.count(1)/runs)*100)"
   ]
  },
  {
   "cell_type": "code",
   "execution_count": null,
   "id": "3ca69379",
   "metadata": {},
   "outputs": [],
   "source": [
    "#keeps on going for lambda equal to 1.3"
   ]
  },
  {
   "cell_type": "code",
   "execution_count": null,
   "id": "3a5b87ea",
   "metadata": {},
   "outputs": [],
   "source": [
    "#reproduction probability for generation= m ** i"
   ]
  },
  {
   "cell_type": "code",
   "execution_count": null,
   "id": "9ff56207",
   "metadata": {},
   "outputs": [],
   "source": [
    "#extinction prob = 1/1+ (frequency * number)"
   ]
  },
  {
   "cell_type": "code",
   "execution_count": null,
   "id": "81e0655d",
   "metadata": {},
   "outputs": [],
   "source": [
    "#how should we compute qi?"
   ]
  },
  {
   "cell_type": "code",
   "execution_count": null,
   "id": "5178235e",
   "metadata": {},
   "outputs": [],
   "source": [
    "#extinction probability is increasing "
   ]
  },
  {
   "cell_type": "markdown",
   "id": "af8f4ac7",
   "metadata": {},
   "source": [
    "lambda is equal to m"
   ]
  },
  {
   "cell_type": "code",
   "execution_count": null,
   "id": "09e157b9",
   "metadata": {},
   "outputs": [],
   "source": []
  },
  {
   "cell_type": "code",
   "execution_count": null,
   "id": "295c6603",
   "metadata": {},
   "outputs": [],
   "source": []
  }
 ],
 "metadata": {
  "kernelspec": {
   "display_name": "Python 3 (ipykernel)",
   "language": "python",
   "name": "python3"
  },
  "language_info": {
   "codemirror_mode": {
    "name": "ipython",
    "version": 3
   },
   "file_extension": ".py",
   "mimetype": "text/x-python",
   "name": "python",
   "nbconvert_exporter": "python",
   "pygments_lexer": "ipython3",
   "version": "3.9.13"
  }
 },
 "nbformat": 4,
 "nbformat_minor": 5
}
