{
 "cells": [
  {
   "cell_type": "code",
   "execution_count": 1,
   "id": "87b985d8",
   "metadata": {},
   "outputs": [],
   "source": [
    "#have to read the GW.pdf file which is stored in the Epidemic folder \n",
    "#then we can start coding this lab "
   ]
  },
  {
   "cell_type": "code",
   "execution_count": 2,
   "id": "16953a84",
   "metadata": {},
   "outputs": [],
   "source": [
    "# we don't have to generate the distro ourselves and it's ok if we use libraries "
   ]
  },
  {
   "cell_type": "markdown",
   "id": "641188a2",
   "metadata": {},
   "source": [
    "# Description"
   ]
  },
  {
   "cell_type": "markdown",
   "id": "c39b3c28",
   "metadata": {},
   "source": [
    "14 - Galton-Watson ProcessesWorkshop<br>\n",
    "Through simulation evaluate the extinction probability within  generation  i  (q_i) and the asymptotic extinction  probability  (q) for  a Galton-Watson process in which the number of children of an individual Y is  distributed as a Poisson(lambda) R.V.  with lambda=0.6, 0.8, 0.9 0.95, 0.99, 1.01, 1.05, 1.1, 1.3.\n",
    "\n",
    "Compare the results you  obtain with theoretical predictions, (by  finding numerically, when needed,  the solution of q= phi_Y(q)) \n",
    "\n",
    "In particular, you are requested to specify the stopping condition you have implemented in order to empirically \"detect\"   non-extinction condition.  Please try to provide a theoretical justification to such condition.\n",
    "\n",
    "For the case  \\lambda=0.8, obtain the empirical distribution (histogram) on the number of nodes in the tr"
   ]
  },
  {
   "cell_type": "code",
   "execution_count": 3,
   "id": "3aa8fadd",
   "metadata": {},
   "outputs": [],
   "source": [
    "import numpy as np\n",
    "from collections import defaultdict"
   ]
  },
  {
   "cell_type": "code",
   "execution_count": 4,
   "id": "4a118d50",
   "metadata": {},
   "outputs": [],
   "source": [
    "lambda_values=[0.6, 0.8, 0.9,0.95, 0.99, 1.01, 1.05, 1.1, 1.3]\n",
    "np.random.seed(32)"
   ]
  },
  {
   "cell_type": "code",
   "execution_count": 34,
   "id": "fa8f78b5",
   "metadata": {},
   "outputs": [
    {
     "name": "stdout",
     "output_type": "stream",
     "text": [
      "[0.5, 1.0]\n",
      "\n",
      "\n",
      "defaultdict(<class 'list'>, {0: [1], 1: [1], 2: [0]})\n",
      "\n",
      "\n",
      "the average q is equal to 0.75\n"
     ]
    }
   ],
   "source": [
    "generation_dict=defaultdict(list)\n",
    "generation = 0\n",
    "lam = 0.8\n",
    "q=[]\n",
    "generation_dict[generation].append(1) # first person\n",
    "while sum(generation_dict[generation])!=0:\n",
    "    temp=generation+1\n",
    "    for _ in range(sum(generation_dict[generation])):\n",
    "        if generation== 0:\n",
    "            m = 1/1+sum(generation_dict[generation])\n",
    "        generation_dict[temp].append(np.random.poisson(lam))\n",
    "        freq={}\n",
    "        r=0\n",
    "        for j in generation_dict[temp]:\n",
    "            if j in freq:\n",
    "                freq[j]+=1\n",
    "            else:\n",
    "                freq[j]=1\n",
    "            for j in freq:\n",
    "                r += j * freq[j]\n",
    "        q.append(1/(1+r))\n",
    "    generation= generation+1\n",
    "\n",
    "print(q)\n",
    "print('\\n')\n",
    "print(generation_dict)\n",
    "print('\\n')\n",
    "print(f'the average q is equal to {sum(q)/len(q)}')"
   ]
  },
  {
   "cell_type": "code",
   "execution_count": 18,
   "id": "3f24b196",
   "metadata": {},
   "outputs": [],
   "source": [
    "#reproduction probability for generation= m ** i"
   ]
  },
  {
   "cell_type": "code",
   "execution_count": 19,
   "id": "891bcfdb",
   "metadata": {},
   "outputs": [],
   "source": [
    "#extinction prob = 1/1+ (frequency * number)"
   ]
  },
  {
   "cell_type": "code",
   "execution_count": 33,
   "id": "5f6df574",
   "metadata": {},
   "outputs": [],
   "source": [
    "#who should we compute qi?"
   ]
  }
 ],
 "metadata": {
  "kernelspec": {
   "display_name": "Python 3 (ipykernel)",
   "language": "python",
   "name": "python3"
  },
  "language_info": {
   "codemirror_mode": {
    "name": "ipython",
    "version": 3
   },
   "file_extension": ".py",
   "mimetype": "text/x-python",
   "name": "python",
   "nbconvert_exporter": "python",
   "pygments_lexer": "ipython3",
   "version": "3.9.13"
  }
 },
 "nbformat": 4,
 "nbformat_minor": 5
}
