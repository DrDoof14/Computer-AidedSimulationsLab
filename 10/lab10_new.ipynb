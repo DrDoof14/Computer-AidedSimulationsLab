{
 "cells": [
  {
   "cell_type": "code",
   "execution_count": 23,
   "id": "eb4fe67f",
   "metadata": {},
   "outputs": [],
   "source": [
    "#importing the libraries \n",
    "import pandas as pd\n",
    "import plotly.express as px\n",
    "from datetime import datetime, timedelta\n",
    "import numpy as np\n",
    "import matplotlib.pyplot as plt\n",
    "from collections import defaultdict\n",
    "import random\n",
    "from scipy.stats import t\n",
    "import os "
   ]
  },
  {
   "cell_type": "code",
   "execution_count": 22,
   "id": "24485c24",
   "metadata": {},
   "outputs": [],
   "source": [
    "def uniform_distro_simulator():\n",
    "    student_counter = 0  # the number of students in the year\n",
    "    collision = 0 # occurrence of collisions\n",
    "    days_of_the_year_uniform = [0] * 366\n",
    "    while collision==0:\n",
    "        birth_day = random.randint(0, 366)\n",
    "        if days_of_the_year_uniform[birth_day] == 0:  # if there are no students born in that day of the year\n",
    "            days_of_the_year_uniform[birth_day] = 1  # sets that day to one since a student is born in that day of the year\n",
    "            student_counter += 1\n",
    "        elif days_of_the_year_uniform[birth_day] == 1:  # we exit the while loop the moment we find a collision\n",
    "            collision=1\n",
    "\n",
    "    return student_counter  # returns the number of student it took until a collision happens"
   ]
  },
  {
   "cell_type": "code",
   "execution_count": null,
   "id": "fc4a45d9",
   "metadata": {},
   "outputs": [],
   "source": [
    "# adding the realistic distribution file"
   ]
  },
  {
   "cell_type": "code",
   "execution_count": 24,
   "id": "c9e2242f",
   "metadata": {},
   "outputs": [],
   "source": [
    "path_to_file = './US_births_1994-2003_CDC_NCHS.csv'\n",
    "if os.path.isfile(path_to_file):\n",
    "    column_names = ['year', 'month', 'date_of_month', 'day_of_week,births', 'births'] # adding the column names\n",
    "    df = pd.read_csv(path_to_file, header=None, sep = ',', skiprows=1, index_col=None) # adding the file\n",
    "    df.columns = column_names\n",
    "# grouping the columns 'month', 'date_of_month' to provide the average number of people born on a specific day of the year\n",
    "    average_births  = df.copy()\n",
    "    month_day_group = average_births.groupby(['month', 'date_of_month'], as_index=False).mean()\n",
    "else:\n",
    "    print('please add the file for the realistic distribution of birthdays ')"
   ]
  },
  {
   "cell_type": "code",
   "execution_count": 27,
   "id": "4fff77fb",
   "metadata": {},
   "outputs": [],
   "source": [
    "# computing the statistics of the birthday data\n",
    "sum_births = month_day_group['births'].sum()\n",
    "month_day_group[\"prob\"] = month_day_group['births'] / sum_births # finding the probabilty of each day\n",
    "month_day_group[\"cdf\"] = month_day_group[\"prob\"].cumsum() # creading the cumulative distribution function (cdf)"
   ]
  },
  {
   "cell_type": "code",
   "execution_count": 29,
   "id": "a0518b3e",
   "metadata": {},
   "outputs": [],
   "source": [
    "def realistic_distribution_simulator():\n",
    "    # Create a list of 366 zeros to represent the days of the year\n",
    "    days_of_the_year_realistic = [0] * 366\n",
    "    collision = 0\n",
    "    number_of_students = 0  # number of students it took until a collision happened\n",
    "    while collision == 0:\n",
    "        # Generate a random float between 0 and 1\n",
    "        uniform_random = np.random.uniform(0, 1)\n",
    "        # Loop through the rows of the month_day_group dataframe\n",
    "        for i, row in month_day_group.iterrows():\n",
    "            cdf = row['cdf']\n",
    "            day = row['day']\n",
    "            # If the random float is less than or equal to the cdf value for this row, select this day\n",
    "            if uniform_random <= cdf:\n",
    "                randomly_generated_day = day\n",
    "        # If there are no students born on this day, increment the number of students and set the corresponding element in the list to 1\n",
    "        if days_of_the_year_realistic[randomly_generated_day] == 0:\n",
    "            days_of_the_year_realistic[randomly_generated_day] = 1\n",
    "            number_of_students += 1\n",
    "        # If there is already a student born on this day, set the collision flag to 1 to exit the while loop\n",
    "        elif days_of_the_year_realistic[randomly_generated_day] == 1:\n",
    "            collision = 1\n",
    "    # Return the number of students it took until a collision occurred\n",
    "    return number_of_students\n"
   ]
  },
  {
   "cell_type": "code",
   "execution_count": null,
   "id": "4d6988f5",
   "metadata": {},
   "outputs": [],
   "source": []
  }
 ],
 "metadata": {
  "kernelspec": {
   "display_name": "Python 3 (ipykernel)",
   "language": "python",
   "name": "python3"
  },
  "language_info": {
   "codemirror_mode": {
    "name": "ipython",
    "version": 3
   },
   "file_extension": ".py",
   "mimetype": "text/x-python",
   "name": "python",
   "nbconvert_exporter": "python",
   "pygments_lexer": "ipython3",
   "version": "3.9.7"
  }
 },
 "nbformat": 4,
 "nbformat_minor": 5
}
