{
 "cells": [
  {
   "cell_type": "code",
   "execution_count": 24,
   "id": "905e81b7",
   "metadata": {},
   "outputs": [],
   "source": [
    "#importing the libraries \n",
    "import pandas as pd\n",
    "import plotly.express as px\n",
    "from datetime import datetime, timedelta\n",
    "import numpy as np\n",
    "import matplotlib.pyplot as plt\n",
    "from collections import defaultdict\n",
    "import random\n",
    "from scipy.stats import t\n",
    "import os \n",
    "import collections\n"
   ]
  },
  {
   "cell_type": "code",
   "execution_count": 2,
   "id": "d8d264ff",
   "metadata": {},
   "outputs": [],
   "source": [
    "seed = 2004"
   ]
  },
  {
   "cell_type": "code",
   "execution_count": 3,
   "id": "0383be42",
   "metadata": {},
   "outputs": [],
   "source": [
    "def uniform_distribution_simulator():\n",
    "    student_counter = 0  # the number of students in the year\n",
    "    collision = 0 # occurrence of collisions\n",
    "    days_of_the_year_uniform = [0] * 366\n",
    "    while collision==0:\n",
    "        birth_day = random.randint(0, 365)\n",
    "        if days_of_the_year_uniform[birth_day] == 0:  # if there are no students born in that day of the year\n",
    "            days_of_the_year_uniform[birth_day] = 1  # sets that day to one since a student is born in that day of the year\n",
    "            student_counter += 1\n",
    "        elif days_of_the_year_uniform[birth_day] == 1:  # we exit the while loop the moment we find a collision\n",
    "            collision=1\n",
    "\n",
    "    return student_counter  # returns the number of student it took until a collision happens"
   ]
  },
  {
   "cell_type": "code",
   "execution_count": 4,
   "id": "d8ccf244",
   "metadata": {},
   "outputs": [],
   "source": [
    "# adding the realistic distribution file"
   ]
  },
  {
   "cell_type": "code",
   "execution_count": 5,
   "id": "67f413ff",
   "metadata": {},
   "outputs": [],
   "source": [
    "path_to_file = './US_births_1994-2003_CDC_NCHS.csv'\n",
    "if os.path.isfile(path_to_file):\n",
    "    column_names = ['year', 'month', 'date_of_month', 'day_of_week,births', 'births'] # adding the column names\n",
    "    df = pd.read_csv(path_to_file, header=None, sep = ',', skiprows=1, index_col=None) # adding the file\n",
    "    df.columns = column_names\n",
    "# grouping the columns 'month', 'date_of_month' to provide the average number of people born on a specific day of the year\n",
    "    average_births  = df.copy()\n",
    "    month_day_group = average_births.groupby(['month', 'date_of_month'], as_index=False).mean()\n",
    "else:\n",
    "    print('please add the file for the realistic distribution of birthdays ')"
   ]
  },
  {
   "cell_type": "code",
   "execution_count": 6,
   "id": "b63b5896",
   "metadata": {},
   "outputs": [],
   "source": [
    "# computing the statistics of the birthday data\n",
    "sum_births = month_day_group['births'].sum()\n",
    "month_day_group[\"prob\"] = month_day_group['births'] / sum_births # finding the probabilty of each day\n",
    "month_day_group[\"cdf\"] = month_day_group[\"prob\"].cumsum() # creading the cumulative distribution function (cdf)"
   ]
  },
  {
   "cell_type": "code",
   "execution_count": 19,
   "id": "bdb056ff",
   "metadata": {},
   "outputs": [],
   "source": [
    "def realistic_distribution_simulator():\n",
    "    # Create a list of 366 zeros to represent the days of the year\n",
    "    days_of_the_year_realistic = [0] * 366\n",
    "    number_of_students = 0  # number of students it took until a collision happened\n",
    "    while True:\n",
    "        # we randomly find days of the year bassed on the value for cdf \n",
    "        randomly_generated_day = random.choices(month_day_group.index, weights=month_day_group['cdf'])[0]\n",
    "    # If there are no students born on this day, increment the number of students and set the corresponding element in the list to 1\n",
    "        if days_of_the_year_realistic[randomly_generated_day] == 0:\n",
    "            days_of_the_year_realistic[randomly_generated_day] = 1\n",
    "            number_of_students += 1\n",
    "        # If there is already a student born on this day, set the collision flag to 1 to exit the while loop\n",
    "        elif days_of_the_year_realistic[randomly_generated_day] == 1:\n",
    "            break # collision has happened \n",
    "    # Return the number of students it took until a collision occurred\n",
    "    return number_of_students"
   ]
  },
  {
   "cell_type": "markdown",
   "id": "58d9b0a9",
   "metadata": {},
   "source": [
    "# performing the simulation"
   ]
  },
  {
   "cell_type": "code",
   "execution_count": 21,
   "id": "4038ab9a",
   "metadata": {},
   "outputs": [],
   "source": [
    "#degree of freedom = n-1 in here it's 1999\n",
    "np.random.seed(seed)\n",
    "random.seed(seed) \n",
    "uniform_distro_conflicts=[]\n",
    "realistic_distro_conflicts=[]\n",
    "for i in range(0,1000):\n",
    "    uniform_distro_conflicts.append(uniform_distribution_simulator())\n",
    "    realistic_distro_conflicts.append(realistic_distribution_simulator())\n",
    "#we get the average uniform conflicts on the left and the average real-life conflicts on the right\n",
    "sum_of_conflicts={'Uniform distribution':sum(uniform_distro_conflicts)/len(uniform_distro_conflicts),'Realistic distribution':sum(realistic_distro_conflicts)/len(realistic_distro_conflicts)}\n"
   ]
  },
  {
   "cell_type": "code",
   "execution_count": 22,
   "id": "6d991492",
   "metadata": {},
   "outputs": [
    {
     "data": {
      "text/plain": [
       "{'Uniform distribution': 24.269, 'Realistic distribution': 21.042}"
      ]
     },
     "execution_count": 22,
     "metadata": {},
     "output_type": "execute_result"
    }
   ],
   "source": [
    "sum_of_conflicts "
   ]
  },
  {
   "cell_type": "code",
   "execution_count": null,
   "id": "754d2e90",
   "metadata": {},
   "outputs": [],
   "source": [
    "# here we can see the difference between the theoratical version oand the realistic distribution "
   ]
  },
  {
   "cell_type": "markdown",
   "id": "286ef514",
   "metadata": {},
   "source": [
    "# evaluating the probabilites"
   ]
  },
  {
   "cell_type": "code",
   "execution_count": 23,
   "id": "f41b7b40",
   "metadata": {},
   "outputs": [],
   "source": [
    "#we have to consider that the number of students should be higher than 2 (so the conflict happens)\n",
    "#and the number of trials should be higher than 32 (based on the centeral limit theorem)"
   ]
  },
  {
   "cell_type": "code",
   "execution_count": null,
   "id": "fb9bf6ca",
   "metadata": {},
   "outputs": [],
   "source": [
    "num_students_list = [i for i in range(200)]\n",
    "uniform_prob = {}\n",
    "realistic_prob = {}\n",
    "num_simulations = 40 # 40 is the size of the class\n",
    "for number_of_sutdents in num_students_list:\n",
    "    \n",
    "    class_uniform = np.zeros(num_simulations)\n",
    "    class_real_life = np.zeros(num_simulations)\n",
    "    for i in range(num_simulations):  \n",
    "#         uniform_bdays=[random.randint(0,365) for _ in range(0,number_of_sutdents)]\n",
    "        #simulate the unifrom distro \n",
    "        uniform_bdays=random.sample(range(366), number_of_sutdents)\n",
    "        if len(uniform_bdays) != len(set(uniform_bdays)):\n",
    "    \n",
    "            class_uniform[i] = 1\n",
    "        \n",
    "        # Simulate the real-life distribution\n",
    "        real_life_bdays=[realistic_distribution_simulator() for _ in range(number_of_sutdents)] \n",
    "        if len(real_life_bdays) != len(set(real_life_bdays)): # checking for collision\n",
    "            class_real_life[i] = 1\n",
    "\n",
    "    uniform_prob[number_of_sutdents] = class_uniform.mean()\n",
    "    realistic_prob[number_of_sutdents] = class_real_life.mean()\n"
   ]
  },
  {
   "cell_type": "code",
   "execution_count": null,
   "id": "a35d3739",
   "metadata": {},
   "outputs": [],
   "source": [
    "realistic_prob"
   ]
  },
  {
   "cell_type": "code",
   "execution_count": null,
   "id": "e5e94e8b",
   "metadata": {},
   "outputs": [],
   "source": []
  }
 ],
 "metadata": {
  "kernelspec": {
   "display_name": "Python 3 (ipykernel)",
   "language": "python",
   "name": "python3"
  },
  "language_info": {
   "codemirror_mode": {
    "name": "ipython",
    "version": 3
   },
   "file_extension": ".py",
   "mimetype": "text/x-python",
   "name": "python",
   "nbconvert_exporter": "python",
   "pygments_lexer": "ipython3",
   "version": "3.9.7"
  }
 },
 "nbformat": 4,
 "nbformat_minor": 5
}
