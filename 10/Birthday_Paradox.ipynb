{
 "cells": [
  {
   "cell_type": "markdown",
   "metadata": {},
   "source": [
    "# This code is about designing a simulator to evaluate the events of birthday conflicts, assuming:\n",
    "\n",
    "1. uniform distribution of the birthday during the year\n",
    "2. realistic distribution of the birthday, taking from real statistics"
   ]
  },
  {
   "cell_type": "code",
   "execution_count": 15,
   "metadata": {},
   "outputs": [],
   "source": [
    "import pandas as pd\n",
    "import numpy as np\n",
    "import matplotlib.pyplot as plt\n",
    "from Real_Bth_Distribution import birth_cdf_inverse\n",
    "from collections import defaultdict\n",
    "import random"
   ]
  },
  {
   "cell_type": "code",
   "execution_count": 2,
   "metadata": {},
   "outputs": [],
   "source": [
    "# function to find the conflits of birthday with uniform distribution for producing birthday for each person\n",
    "\n",
    "def uniform_birthday():\n",
    "    \n",
    "    #np.random.seed(seed)\n",
    "    \n",
    "    # defining the paramaters\n",
    "    n = 366\n",
    "    list_people = np.zeros(366)\n",
    "    m = 0\n",
    "    flag = 1\n",
    "    \n",
    "    # creating m instance of uniform dist. untill a conflit appears\n",
    "    while flag:\n",
    "\n",
    "        rv_person = int(np.random.uniform(0, n))#have to use randint instead\n",
    "        \n",
    "        if list_people[rv_person] == 0:#it's a list of dates\n",
    "            list_people[rv_person] = 1\n",
    "            m += 1\n",
    "        else:\n",
    "            flag = 0\n",
    "                        \n",
    "    return m"
   ]
  },
  {
   "cell_type": "code",
   "execution_count": 3,
   "metadata": {},
   "outputs": [],
   "source": [
    "# function to find the conflits of birthday with real distribution for producing birthday for each person\n",
    "\n",
    "def real_birthday():\n",
    "    \n",
    "    #random.seed(seed)\n",
    "    \n",
    "    # defining the paramaters\n",
    "    n = 365\n",
    "    list_people = np.zeros(366)\n",
    "    m = 0\n",
    "    flag = 1\n",
    "    \n",
    "    # creating m instance of real dist. untill a conflit appears\n",
    "    while flag:\n",
    "        \n",
    "        # using real distribution function instead of uniform one\n",
    "        rv_person = birth_cdf_inverse(seed)\n",
    "        \n",
    "        if list_people[rv_person] == 0:\n",
    "            list_people[rv_person] = 1\n",
    "            m += 1\n",
    "        else:\n",
    "            flag = 0\n",
    "                        \n",
    "    return m"
   ]
  },
  {
   "cell_type": "code",
   "execution_count": 4,
   "metadata": {},
   "outputs": [],
   "source": [
    "# defining different seeds to simulate the experiments\n",
    "seeds_ave = [s for s in range(32, 201, 10)]"
   ]
  },
  {
   "cell_type": "markdown",
   "metadata": {},
   "source": [
    "# Evaluating the average number of people to observe a conflict and comparing with the theoretical result"
   ]
  },
  {
   "cell_type": "code",
   "execution_count": 5,
   "metadata": {},
   "outputs": [],
   "source": [
    "# one dictionary to store the average numbers for each seed\n",
    "# noted that number of experiment (inctances) for each seed must be more 32 in order to meet central limit theorem\n",
    "\n",
    "dict_seed_conflicts = {}\n",
    "\n",
    "# simulation\n",
    "for seed in seeds_ave:\n",
    "    \n",
    "    np.random.seed(seed)\n",
    "    random.seed(seed)\n",
    "    \n",
    "    m_conflict_uniform = []\n",
    "    m_conflict_real = []\n",
    "    \n",
    "    # creating instances\n",
    "    for _ in range(0, 1000):\n",
    "        m_conflict_uniform.append(uniform_birthday())#we append the number of collisions\n",
    "        m_conflict_real.append(real_birthday())\n",
    "    \n",
    "    # assigning average numbers to each seed\n",
    "    dict_seed_conflicts[seed] = ((sum(m_conflict_uniform)/len(m_conflict_uniform)), (sum(m_conflict_real)/len(m_conflict_real)))"
   ]
  },
  {
   "cell_type": "code",
   "execution_count": 6,
   "metadata": {},
   "outputs": [
    {
     "name": "stdout",
     "output_type": "stream",
     "text": [
      "In theory: for n = 365, m ≈ 22.3 and E[m] = 23.9 and the emprical E[m] for each seed are as follows: \n"
     ]
    },
    {
     "data": {
      "text/html": [
       "<div>\n",
       "<style scoped>\n",
       "    .dataframe tbody tr th:only-of-type {\n",
       "        vertical-align: middle;\n",
       "    }\n",
       "\n",
       "    .dataframe tbody tr th {\n",
       "        vertical-align: top;\n",
       "    }\n",
       "\n",
       "    .dataframe thead th {\n",
       "        text-align: right;\n",
       "    }\n",
       "</style>\n",
       "<table border=\"1\" class=\"dataframe\">\n",
       "  <thead>\n",
       "    <tr style=\"text-align: right;\">\n",
       "      <th></th>\n",
       "      <th>uniform</th>\n",
       "      <th>realistic</th>\n",
       "    </tr>\n",
       "  </thead>\n",
       "  <tbody>\n",
       "    <tr>\n",
       "      <th>32</th>\n",
       "      <td>23.322</td>\n",
       "      <td>23.125</td>\n",
       "    </tr>\n",
       "    <tr>\n",
       "      <th>42</th>\n",
       "      <td>23.247</td>\n",
       "      <td>23.749</td>\n",
       "    </tr>\n",
       "    <tr>\n",
       "      <th>52</th>\n",
       "      <td>23.808</td>\n",
       "      <td>23.788</td>\n",
       "    </tr>\n",
       "    <tr>\n",
       "      <th>62</th>\n",
       "      <td>24.435</td>\n",
       "      <td>23.195</td>\n",
       "    </tr>\n",
       "    <tr>\n",
       "      <th>72</th>\n",
       "      <td>23.253</td>\n",
       "      <td>23.884</td>\n",
       "    </tr>\n",
       "    <tr>\n",
       "      <th>82</th>\n",
       "      <td>23.398</td>\n",
       "      <td>23.636</td>\n",
       "    </tr>\n",
       "    <tr>\n",
       "      <th>92</th>\n",
       "      <td>23.427</td>\n",
       "      <td>23.538</td>\n",
       "    </tr>\n",
       "    <tr>\n",
       "      <th>102</th>\n",
       "      <td>24.804</td>\n",
       "      <td>23.656</td>\n",
       "    </tr>\n",
       "    <tr>\n",
       "      <th>112</th>\n",
       "      <td>23.973</td>\n",
       "      <td>23.143</td>\n",
       "    </tr>\n",
       "    <tr>\n",
       "      <th>122</th>\n",
       "      <td>23.227</td>\n",
       "      <td>23.349</td>\n",
       "    </tr>\n",
       "    <tr>\n",
       "      <th>132</th>\n",
       "      <td>23.918</td>\n",
       "      <td>23.510</td>\n",
       "    </tr>\n",
       "    <tr>\n",
       "      <th>142</th>\n",
       "      <td>24.086</td>\n",
       "      <td>23.750</td>\n",
       "    </tr>\n",
       "    <tr>\n",
       "      <th>152</th>\n",
       "      <td>23.342</td>\n",
       "      <td>24.020</td>\n",
       "    </tr>\n",
       "    <tr>\n",
       "      <th>162</th>\n",
       "      <td>24.183</td>\n",
       "      <td>23.472</td>\n",
       "    </tr>\n",
       "    <tr>\n",
       "      <th>172</th>\n",
       "      <td>23.854</td>\n",
       "      <td>24.081</td>\n",
       "    </tr>\n",
       "    <tr>\n",
       "      <th>182</th>\n",
       "      <td>23.798</td>\n",
       "      <td>23.502</td>\n",
       "    </tr>\n",
       "    <tr>\n",
       "      <th>192</th>\n",
       "      <td>23.906</td>\n",
       "      <td>23.590</td>\n",
       "    </tr>\n",
       "  </tbody>\n",
       "</table>\n",
       "</div>"
      ],
      "text/plain": [
       "     uniform  realistic\n",
       "32    23.322     23.125\n",
       "42    23.247     23.749\n",
       "52    23.808     23.788\n",
       "62    24.435     23.195\n",
       "72    23.253     23.884\n",
       "82    23.398     23.636\n",
       "92    23.427     23.538\n",
       "102   24.804     23.656\n",
       "112   23.973     23.143\n",
       "122   23.227     23.349\n",
       "132   23.918     23.510\n",
       "142   24.086     23.750\n",
       "152   23.342     24.020\n",
       "162   24.183     23.472\n",
       "172   23.854     24.081\n",
       "182   23.798     23.502\n",
       "192   23.906     23.590"
      ]
     },
     "execution_count": 6,
     "metadata": {},
     "output_type": "execute_result"
    }
   ],
   "source": [
    "print('In theory: for n = 365, m ≈ 22.3 and E[m] = 23.9 and the emprical E[m] for each seed are as follows: ')\n",
    "dict_seed_conflicts_df = pd.DataFrame(dict_seed_conflicts, index=['uniform', 'realistic']).T\n",
    "dict_seed_conflicts_df"
   ]
  },
  {
   "cell_type": "markdown",
   "metadata": {},
   "source": [
    "# Evaluating the probability of birthday conflict in function of m and comparing with the theoretical result."
   ]
  },
  {
   "cell_type": "code",
   "execution_count": 7,
   "metadata": {},
   "outputs": [],
   "source": [
    "seeds_prob = [s for s in range(32, 53, 10)]"
   ]
  },
  {
   "cell_type": "code",
   "execution_count": 17,
   "metadata": {
    "scrolled": true
   },
   "outputs": [],
   "source": [
    "# list of students to put in all class \n",
    "# to evaluate in how many classes we have conflict with the same number of students >= 2 in each class\n",
    "# noted that number of experiment (inctances) for each seed must be more 32 in order to meet central limit theorem\n",
    "student = [i for i in range(2, 100)]\n",
    "dict_prob_m_uniform = defaultdict(list)\n",
    "dict_prob_m_real = defaultdict(list)\n",
    "dict_seed_classes = {}\n",
    "\n",
    "# simulation for each seed\n",
    "for seed in seeds_prob:\n",
    "    \n",
    "    # creating instances\n",
    "    for m in student:\n",
    "        # create classes to put studets into\n",
    "        list_class_uniform = [0] * 20\n",
    "        list_class_real = [0] * 20\n",
    "        \n",
    "        # providing each class a constant number(m) of students and for the conflict after filling the classes\n",
    "        for c in range(len(list_class_uniform)):\n",
    "\n",
    "            birthdays_uniform = [int(np.random.uniform(0, 366)) for _ in range(0, m)]\n",
    "            birthdays_real = [int(real_birthday()) for _ in range(0, m)]\n",
    "            \n",
    "            # checking if there is a conflict in one specific class and make it 1\n",
    "            if len(birthdays_uniform) != len(set(birthdays_uniform)):\n",
    "                list_class_uniform[c] = 1\n",
    "                \n",
    "            if len(birthdays_real) != len(set(birthdays_real)):\n",
    "                list_class_real[c] = 1\n",
    "        \n",
    "        # computing the probability of birthday conflict in function of m\n",
    "        dict_prob_m_uniform[m].append([seed, sum(list_class_uniform)/len(list_class_uniform)])\n",
    "        dict_prob_m_real[m].append([seed, sum(list_class_real)/len(list_class_real)])\n",
    "        \n",
    "    dict_seed_classes[seed] = (dict_prob_m_uniform, dict_prob_m_real)"
   ]
  },
  {
   "cell_type": "code",
   "execution_count": 12,
   "metadata": {},
   "outputs": [
    {
     "data": {
      "text/plain": [
       "52"
      ]
     },
     "execution_count": 12,
     "metadata": {},
     "output_type": "execute_result"
    }
   ],
   "source": [
    "dict_prob_m_uniform[2][0]"
   ]
  },
  {
   "cell_type": "code",
   "execution_count": 11,
   "metadata": {},
   "outputs": [
    {
     "data": {
      "text/plain": [
       "({2: (52, 0.0),\n",
       "  3: (52, 0.0),\n",
       "  4: (52, 0.0),\n",
       "  5: (52, 0.0),\n",
       "  6: (52, 0.0),\n",
       "  7: (52, 0.1),\n",
       "  8: (52, 0.05),\n",
       "  9: (52, 0.1),\n",
       "  10: (52, 0.15),\n",
       "  11: (52, 0.2),\n",
       "  12: (52, 0.1),\n",
       "  13: (52, 0.2),\n",
       "  14: (52, 0.25),\n",
       "  15: (52, 0.25),\n",
       "  16: (52, 0.35),\n",
       "  17: (52, 0.35),\n",
       "  18: (52, 0.4),\n",
       "  19: (52, 0.55),\n",
       "  20: (52, 0.4),\n",
       "  21: (52, 0.35),\n",
       "  22: (52, 0.5),\n",
       "  23: (52, 0.55),\n",
       "  24: (52, 0.4),\n",
       "  25: (52, 0.5),\n",
       "  26: (52, 0.45),\n",
       "  27: (52, 0.7),\n",
       "  28: (52, 0.75),\n",
       "  29: (52, 0.7),\n",
       "  30: (52, 0.6),\n",
       "  31: (52, 0.65),\n",
       "  32: (52, 0.75),\n",
       "  33: (52, 0.8),\n",
       "  34: (52, 0.85),\n",
       "  35: (52, 0.75),\n",
       "  36: (52, 0.85),\n",
       "  37: (52, 0.85),\n",
       "  38: (52, 0.9),\n",
       "  39: (52, 0.85),\n",
       "  40: (52, 1.0),\n",
       "  41: (52, 0.9),\n",
       "  42: (52, 0.9),\n",
       "  43: (52, 1.0),\n",
       "  44: (52, 0.9),\n",
       "  45: (52, 0.95),\n",
       "  46: (52, 0.95),\n",
       "  47: (52, 0.85),\n",
       "  48: (52, 0.8),\n",
       "  49: (52, 0.95),\n",
       "  50: (52, 1.0),\n",
       "  51: (52, 1.0),\n",
       "  52: (52, 1.0),\n",
       "  53: (52, 1.0),\n",
       "  54: (52, 0.95),\n",
       "  55: (52, 1.0),\n",
       "  56: (52, 0.95),\n",
       "  57: (52, 0.9),\n",
       "  58: (52, 1.0),\n",
       "  59: (52, 1.0),\n",
       "  60: (52, 0.95),\n",
       "  61: (52, 0.95),\n",
       "  62: (52, 1.0),\n",
       "  63: (52, 1.0),\n",
       "  64: (52, 1.0),\n",
       "  65: (52, 1.0),\n",
       "  66: (52, 1.0),\n",
       "  67: (52, 1.0),\n",
       "  68: (52, 1.0),\n",
       "  69: (52, 1.0),\n",
       "  70: (52, 1.0),\n",
       "  71: (52, 1.0),\n",
       "  72: (52, 1.0),\n",
       "  73: (52, 1.0),\n",
       "  74: (52, 1.0),\n",
       "  75: (52, 1.0),\n",
       "  76: (52, 1.0),\n",
       "  77: (52, 1.0),\n",
       "  78: (52, 1.0),\n",
       "  79: (52, 1.0),\n",
       "  80: (52, 1.0),\n",
       "  81: (52, 1.0),\n",
       "  82: (52, 1.0),\n",
       "  83: (52, 1.0),\n",
       "  84: (52, 1.0),\n",
       "  85: (52, 1.0),\n",
       "  86: (52, 1.0),\n",
       "  87: (52, 1.0),\n",
       "  88: (52, 1.0),\n",
       "  89: (52, 1.0),\n",
       "  90: (52, 1.0),\n",
       "  91: (52, 1.0),\n",
       "  92: (52, 1.0),\n",
       "  93: (52, 1.0),\n",
       "  94: (52, 1.0),\n",
       "  95: (52, 1.0),\n",
       "  96: (52, 1.0),\n",
       "  97: (52, 1.0),\n",
       "  98: (52, 1.0),\n",
       "  99: (52, 1.0)},\n",
       " {2: (52, 0.05),\n",
       "  3: (52, 0.1),\n",
       "  4: (52, 0.2),\n",
       "  5: (52, 0.25),\n",
       "  6: (52, 0.3),\n",
       "  7: (52, 0.2),\n",
       "  8: (52, 0.5),\n",
       "  9: (52, 0.7),\n",
       "  10: (52, 0.75),\n",
       "  11: (52, 0.65),\n",
       "  12: (52, 0.9),\n",
       "  13: (52, 0.75),\n",
       "  14: (52, 1.0),\n",
       "  15: (52, 0.9),\n",
       "  16: (52, 1.0),\n",
       "  17: (52, 1.0),\n",
       "  18: (52, 0.95),\n",
       "  19: (52, 1.0),\n",
       "  20: (52, 1.0),\n",
       "  21: (52, 1.0),\n",
       "  22: (52, 1.0),\n",
       "  23: (52, 1.0),\n",
       "  24: (52, 1.0),\n",
       "  25: (52, 1.0),\n",
       "  26: (52, 1.0),\n",
       "  27: (52, 1.0),\n",
       "  28: (52, 1.0),\n",
       "  29: (52, 1.0),\n",
       "  30: (52, 1.0),\n",
       "  31: (52, 1.0),\n",
       "  32: (52, 1.0),\n",
       "  33: (52, 1.0),\n",
       "  34: (52, 1.0),\n",
       "  35: (52, 1.0),\n",
       "  36: (52, 1.0),\n",
       "  37: (52, 1.0),\n",
       "  38: (52, 1.0),\n",
       "  39: (52, 1.0),\n",
       "  40: (52, 1.0),\n",
       "  41: (52, 1.0),\n",
       "  42: (52, 1.0),\n",
       "  43: (52, 1.0),\n",
       "  44: (52, 1.0),\n",
       "  45: (52, 1.0),\n",
       "  46: (52, 1.0),\n",
       "  47: (52, 1.0),\n",
       "  48: (52, 1.0),\n",
       "  49: (52, 1.0),\n",
       "  50: (52, 1.0),\n",
       "  51: (52, 1.0),\n",
       "  52: (52, 1.0),\n",
       "  53: (52, 1.0),\n",
       "  54: (52, 1.0),\n",
       "  55: (52, 1.0),\n",
       "  56: (52, 1.0),\n",
       "  57: (52, 1.0),\n",
       "  58: (52, 1.0),\n",
       "  59: (52, 1.0),\n",
       "  60: (52, 1.0),\n",
       "  61: (52, 1.0),\n",
       "  62: (52, 1.0),\n",
       "  63: (52, 1.0),\n",
       "  64: (52, 1.0),\n",
       "  65: (52, 1.0),\n",
       "  66: (52, 1.0),\n",
       "  67: (52, 1.0),\n",
       "  68: (52, 1.0),\n",
       "  69: (52, 1.0),\n",
       "  70: (52, 1.0),\n",
       "  71: (52, 1.0),\n",
       "  72: (52, 1.0),\n",
       "  73: (52, 1.0),\n",
       "  74: (52, 1.0),\n",
       "  75: (52, 1.0),\n",
       "  76: (52, 1.0),\n",
       "  77: (52, 1.0),\n",
       "  78: (52, 1.0),\n",
       "  79: (52, 1.0),\n",
       "  80: (52, 1.0),\n",
       "  81: (52, 1.0),\n",
       "  82: (52, 1.0),\n",
       "  83: (52, 1.0),\n",
       "  84: (52, 1.0),\n",
       "  85: (52, 1.0),\n",
       "  86: (52, 1.0),\n",
       "  87: (52, 1.0),\n",
       "  88: (52, 1.0),\n",
       "  89: (52, 1.0),\n",
       "  90: (52, 1.0),\n",
       "  91: (52, 1.0),\n",
       "  92: (52, 1.0),\n",
       "  93: (52, 1.0),\n",
       "  94: (52, 1.0),\n",
       "  95: (52, 1.0),\n",
       "  96: (52, 1.0),\n",
       "  97: (52, 1.0),\n",
       "  98: (52, 1.0),\n",
       "  99: (52, 1.0)})"
      ]
     },
     "execution_count": 11,
     "metadata": {},
     "output_type": "execute_result"
    }
   ],
   "source": [
    "dict_seed_classes[42]"
   ]
  },
  {
   "cell_type": "code",
   "execution_count": 13,
   "metadata": {
    "scrolled": true
   },
   "outputs": [
    {
     "data": {
      "image/png": "[encoded data removed]",
      "text/plain": [
       "<Figure size 432x288 with 1 Axes>"
      ]
     },
     "metadata": {
      "needs_background": "light"
     },
     "output_type": "display_data"
    }
   ],
   "source": [
    "plt.plot(dict_prob_m_uniform.keys(), dict_prob_m_uniform.values(), label='uniform')\n",
    "plt.plot(dict_prob_m_real.keys(), dict_prob_m_real.values(), label='realistic')\n",
    "plt.xlabel('Number of Students(m)')\n",
    "plt.ylabel('Prob(birthday collision)')\n",
    "plt.legend()\n",
    "plt.show()"
   ]
  },
  {
   "cell_type": "code",
   "execution_count": 4,
   "metadata": {},
   "outputs": [],
   "source": [
    "tmp=[0.1,0.2,0.5,6.5]"
   ]
  },
  {
   "cell_type": "code",
   "execution_count": 5,
   "metadata": {},
   "outputs": [
    {
     "data": {
      "text/plain": [
       "0.1"
      ]
     },
     "execution_count": 5,
     "metadata": {},
     "output_type": "execute_result"
    }
   ],
   "source": [
    "min(tmp)"
   ]
  },
  {
   "cell_type": "code",
   "execution_count": 6,
   "metadata": {},
   "outputs": [],
   "source": [
    "#degree of freedom 999"
   ]
  },
  {
   "cell_type": "code",
   "execution_count": 10,
   "metadata": {},
   "outputs": [],
   "source": [
    "#we don't need to change the seeds, one is enough since the instances are compeletly independant from each other\n",
    "# if it was a queueing shit, then we needed other seeds but it's not like that "
   ]
  },
  {
   "cell_type": "code",
   "execution_count": 9,
   "metadata": {},
   "outputs": [],
   "source": [
    "#if we want to have the confidence intervals, we have to consider it like we have ran the experience\n",
    "#15000 times and it's like those outputs we have in the table are like a new distro and we have to \n",
    "#compute the confidence interval based on them, like we have to get the mean of these numbers,std of these numbers and etc."
   ]
  },
  {
   "cell_type": "code",
   "execution_count": 11,
   "metadata": {},
   "outputs": [],
   "source": [
    "#the cdf code is based on slides, emperical shit "
   ]
  },
  {
   "cell_type": "code",
   "execution_count": null,
   "metadata": {},
   "outputs": [],
   "source": [
    "#have to check the cdf as well,\n",
    "#hvae to plot the probs and stuff "
   ]
  },
  {
   "cell_type": "code",
   "execution_count": 2,
   "metadata": {},
   "outputs": [],
   "source": [
    "#we only need one seed to deal with the stuff and we give it to our simulation in the beggining of the code "
   ]
  },
  {
   "cell_type": "code",
   "execution_count": null,
   "metadata": {},
   "outputs": [],
   "source": []
  }
 ],
 "metadata": {
  "kernelspec": {
   "display_name": "Python 3 (ipykernel)",
   "language": "python",
   "name": "python3"
  },
  "language_info": {
   "codemirror_mode": {
    "name": "ipython",
    "version": 3
   },
   "file_extension": ".py",
   "mimetype": "text/x-python",
   "name": "python",
   "nbconvert_exporter": "python",
   "pygments_lexer": "ipython3",
   "version": "3.9.13"
  },
  "vscode": {
   "interpreter": {
    "hash": "91bb753b057673435fb8d6f6a083e6c818364728098c7ae050ca3a25357dd754"
   }
  }
 },
 "nbformat": 4,
 "nbformat_minor": 4
}
