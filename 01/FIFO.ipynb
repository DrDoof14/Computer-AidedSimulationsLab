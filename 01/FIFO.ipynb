{
 "cells": [
  {
   "cell_type": "code",
   "execution_count": 5,
   "id": "83a84f7b",
   "metadata": {},
   "outputs": [],
   "source": [
    "import time \n",
    "from random import *\n",
    "import gc\n",
    "from queue import SimpleQueue"
   ]
  },
  {
   "cell_type": "code",
   "execution_count": 7,
   "id": "5c94a15f",
   "metadata": {},
   "outputs": [],
   "source": [
    "# EndTime=10000.0\n",
    "# MAXTIME=100000000.0\n",
    "\n",
    "time = 0.0\n",
    "#future event set\n",
    "# FES=SimpleQueue() #a list of customers \n",
    "#simple queue is used since it's the closest example to the fifo queue"
   ]
  },
  {
   "cell_type": "code",
   "execution_count": 8,
   "id": "98f75f66",
   "metadata": {},
   "outputs": [],
   "source": [
    "def next_arrival(time):\n",
    "    return time+random.exponential(1/0.95)\n",
    "class Evenet:\n",
    "    def __init__(self,time,ty):\n",
    "        self.time=time\n",
    "        self.ty=ty\n",
    "#ty is the type and can be arrival or departure\n",
    "\n",
    "class customer:\n",
    "    def __init__(self,time):\n",
    "        self.time=time\n",
    "        self.service_time=random.exponential(1/1.0)\n",
    "        self.dept_time=-1\n",
    "        self.beingserved=False\n",
    "        \n",
    "#FES in this case is the list of customers ther server needs to serve\n",
    "        \n",
    "def dtime(c):\n",
    "    if(c.dept_time>= -0.00001):\n",
    "        return c.dept_time\n",
    "    else:\n",
    "        return MAXTIME\n",
    "    \n",
    "class Queue:#the code for the queue and also the server|\n",
    "    def __init__(self,numcust,time,numservers):\n",
    "        self.numcust=numcust\n",
    "        self.numservers=numservers\n",
    "        self.time=time\n",
    "    queue=[]\n",
    "    def serve(self,queue):\n",
    "        queue.pop(0)\n",
    "        #in this case we always serve the first one in the queue\n",
    "    def arrive(self,queue,new_customer):\n",
    "        self.new_customer=new_customer\n",
    "        queue.append(self.new_customer)"
   ]
  },
  {
   "cell_type": "code",
   "execution_count": null,
   "id": "e31b2b81",
   "metadata": {},
   "outputs": [],
   "source": []
  }
 ],
 "metadata": {
  "kernelspec": {
   "display_name": "Python 3 (ipykernel)",
   "language": "python",
   "name": "python3"
  },
  "language_info": {
   "codemirror_mode": {
    "name": "ipython",
    "version": 3
   },
   "file_extension": ".py",
   "mimetype": "text/x-python",
   "name": "python",
   "nbconvert_exporter": "python",
   "pygments_lexer": "ipython3",
   "version": "3.9.7"
  }
 },
 "nbformat": 4,
 "nbformat_minor": 5
}
