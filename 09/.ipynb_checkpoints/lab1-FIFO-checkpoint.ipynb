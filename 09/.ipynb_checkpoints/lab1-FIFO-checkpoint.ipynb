{
 "cells": [
  {
   "cell_type": "code",
   "execution_count": 1,
   "metadata": {},
   "outputs": [],
   "source": [
    "from queue import PriorityQueue\n",
    "import random"
   ]
  },
  {
   "cell_type": "markdown",
   "metadata": {},
   "source": [
    "# Defining functions and classes"
   ]
  },
  {
   "cell_type": "code",
   "execution_count": 2,
   "metadata": {},
   "outputs": [],
   "source": [
    "def arrival(time, FES, queue):\n",
    "    \n",
    "    global users\n",
    "    global customer\n",
    "    \n",
    "    # introducing random client arrival\n",
    "    inter_arrival = random.expovariate(1.0/average_arrival_interval)\n",
    "    #FES.put((time + inter_arrival, 'arrival'))\n",
    "    FES.append((time + inter_arrival, 'arrival'))\n",
    "    \n",
    "    # managing the event \n",
    "    users += 1\n",
    "    x = 'client' + str(customer)\n",
    "    customer += 1\n",
    "    \n",
    "    # recording client id and put it in the list\n",
    "    client = Client(x, time)\n",
    "    queue.append(client)\n",
    "\n",
    "    print(f'{client.name} arrived at {client.arrival_time}')\n",
    "    \n",
    "    # start the service in case the server is idle\n",
    "    if users == 1:\n",
    "        # scheduling random departure time to the clients\n",
    "        service_time = random.expovariate(1.0/average_service_time)\n",
    "        #FES.put((time + service_time, 'departure'))\n",
    "        FES.append((time + service_time, 'departure'))\n",
    "\n",
    "\n",
    "def departure(time, FES, queue):\n",
    "    \n",
    "    global users\n",
    "    \n",
    "    # manipulating the list of clients to get FIFO orientation\n",
    "    queue.reverse()\n",
    "    client = queue.pop()\n",
    "    queue.reverse()\n",
    "    users -= 1\n",
    "    \n",
    "    print(f'{client.name} departured at {time}')\n",
    "    \n",
    "    # checking the number of clients in line\n",
    "    if users > 0:\n",
    "        # scheduling random departure time to the clients\n",
    "        service_time = random.expovariate(1.0/average_service_time)\n",
    "        #FES.put((time + service_time, 'departure'))\n",
    "        FES.append((time + service_time, 'departure'))\n",
    "\n",
    "class Client:\n",
    "    def __init__(self, name, arrival_time):\n",
    "        self.name = name\n",
    "        self.arrival_time = arrival_time\n",
    "        "
   ]
  },
  {
   "cell_type": "markdown",
   "metadata": {},
   "source": [
    "# Implementing the simulation"
   ]
  },
  {
   "cell_type": "code",
   "execution_count": 6,
   "metadata": {},
   "outputs": [
    {
     "name": "stdout",
     "output_type": "stream",
     "text": [
      "client1 arrived at 0\n",
      "client2 arrived at 1.423960525183306\n",
      "client1 departured at 2.0991006249516757\n",
      "client3 arrived at 2.2301642449085404\n",
      "client4 arrived at 4.921680781938063\n",
      "client5 arrived at 7.348890672147924\n",
      "client2 departured at 11.96081435501317\n",
      "client3 departured at 12.136841725062897\n",
      "client4 departured at 13.216157767610701\n",
      "client6 arrived at 17.52251551282916\n",
      "client7 arrived at 21.379842896407006\n"
     ]
    }
   ],
   "source": [
    "# initialization of variables\n",
    "time = 0\n",
    "users = 0\n",
    "customer = 1\n",
    "queue = []\n",
    "average_arrival_interval = 3\n",
    "average_service_time = 6\n",
    "\n",
    "#FES = PriorityQueue()\n",
    "FES = []\n",
    "\n",
    "# the first arrival at time 0\n",
    "#FES.put((0,'arrival'))\n",
    "FES.append((0,'arrival'))\n",
    "target = 0\n",
    "\n",
    "# the main loop to give the service to the clients until specific time\n",
    "while time < 20:\n",
    "    #(time, event_type) = FES.get()\n",
    "    FES = sorted(FES)\n",
    "    (time, event_type) = FES[target]\n",
    "    if event_type == 'arrival':\n",
    "        arrival(time, FES, queue)\n",
    "    elif event_type == 'departure':\n",
    "        departure(time, FES, queue)\n",
    "    target += 1"
   ]
  },
  {
   "cell_type": "code",
   "execution_count": null,
   "metadata": {},
   "outputs": [],
   "source": []
  }
 ],
 "metadata": {
  "kernelspec": {
   "display_name": "Python 3 (ipykernel)",
   "language": "python",
   "name": "python3"
  },
  "language_info": {
   "codemirror_mode": {
    "name": "ipython",
    "version": 3
   },
   "file_extension": ".py",
   "mimetype": "text/x-python",
   "name": "python",
   "nbconvert_exporter": "python",
   "pygments_lexer": "ipython3",
   "version": "3.9.13"
  }
 },
 "nbformat": 4,
 "nbformat_minor": 4
}
