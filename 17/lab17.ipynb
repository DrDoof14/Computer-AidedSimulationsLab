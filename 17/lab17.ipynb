{
 "cells": [
  {
   "cell_type": "markdown",
   "id": "4db77e2b",
   "metadata": {},
   "source": [
    "<b>Lab #17 (Evaluated)\n",
    "\n",
    "\n",
    "Submission deadline: Friday 13th January\n",
    "\n",
    "Peergrading deadline: Wed. 18th January</b>"
   ]
  },
  {
   "cell_type": "markdown",
   "id": "91bd522a",
   "metadata": {},
   "source": [
    " <b>Don't forget to fill the table in the end of the Lab and use sizeof </b>"
   ]
  },
  {
   "cell_type": "markdown",
   "id": "20ad956d",
   "metadata": {},
   "source": [
    "<b>Have to ask for suggestions or resources  </b>"
   ]
  },
  {
   "cell_type": "markdown",
   "id": "5fc19dac",
   "metadata": {},
   "source": [
    "<b>Have to watch the video for the bloom filter session  </b>"
   ]
  },
  {
   "cell_type": "markdown",
   "id": "5fbb8fd7",
   "metadata": {},
   "source": [
    "# questions and doubts and some general points"
   ]
  },
  {
   "cell_type": "code",
   "execution_count": 1,
   "id": "b7a11237",
   "metadata": {},
   "outputs": [],
   "source": [
    "# 1 - how shoul we answer the theory parts? should we adress them in the report or should we code them? \n",
    "# like fingerprits set question 2 and 4\n",
    "# Q:what is the formula we should use for the analytical part?\n",
    "#A: explained in the layers parts \n",
    "#when will he upload the video of the first session?\n",
    "#A: He will upoload it but idk when\n",
    "# by simulation: obvious, Analytically = formulas(maybe), theory?\n",
    "# theory and analytically are the same \n",
    "#Slide 08/ page 16 is important (it’s what we have to keep in mind)\n",
    "#It’s useful for set of fingerprints question 2 \n",
    "# we should watch the video fro this session to be able to run the simulation (19th of December, session one)\n",
    "# page 28 and 29 are important for the bloom filter \n",
    "# formula is page 28 gives us a real number and we have to either use 12 or 13, we have to choose the optimal value\n",
    "# since bloom filters do not work with real numbers \n",
    "# for bloom filters, question 1 and two are different but somehow related\n",
    "#the formula in page 29 is important but only the first part = (1-P) ** K (only this part is important)\n",
    "#fingerprints set : Done (except for one or two parts)\n",
    "#bit string array : 1 : done, the rest is just some theory \n",
    "#bloom filters : Not Done\n",
    "# bloom filters question : how do we make different hash funcitons? ok as far as I know , page 27, slide 12 would help(would clear things)\n",
    "# page 30 slide 12 = optimal number of hash functions for bloom filters\n",
    "# page 31 slide 12 = probablity of false positive if we have the optimal k \n",
    "# prbability of false positive increases as the valye of n/m increases n = memory slots and m = len(verses_set) :)\n",
    "# page 32 = a formula for epsilon and stuff (useful)\n",
    "# question = the table in the end, is it for what we've found through simulation?\n",
    "# page 16 in slide 08 is important \n",
    "# I have to read the bloom filters pdf and also watch video for the firsrsession of 19th of December "
   ]
  },
  {
   "cell_type": "code",
   "execution_count": 2,
   "id": "86a208c6",
   "metadata": {},
   "outputs": [],
   "source": [
    "########################################################################"
   ]
  },
  {
   "cell_type": "markdown",
   "id": "32ccb378",
   "metadata": {},
   "source": [
    "<b>Have to use the efficient and non efficient mode in the report </b>"
   ]
  },
  {
   "cell_type": "markdown",
   "id": "20f20c7e",
   "metadata": {},
   "source": [
    "# Description"
   ]
  },
  {
   "cell_type": "markdown",
   "id": "d59c3c5a",
   "metadata": {},
   "source": [
    "<img src=\"./17-1.png\" alt=\"Alternative text\" />"
   ]
  },
  {
   "cell_type": "markdown",
   "id": "6abfc9bb",
   "metadata": {},
   "source": [
    "<img src=\"./17-2.png\" alt=\"Alternative text\" />"
   ]
  },
  {
   "cell_type": "markdown",
   "id": "c1b220be",
   "metadata": {},
   "source": [
    "<img src=\"./17-3.png\" alt=\"Alternative text\" />"
   ]
  },
  {
   "cell_type": "code",
   "execution_count": 37,
   "id": "e878e6b7",
   "metadata": {},
   "outputs": [],
   "source": [
    "# this table, seems weird, like how should we fill it?"
   ]
  },
  {
   "cell_type": "markdown",
   "id": "96dd904a",
   "metadata": {},
   "source": [
    "# Pre-processing "
   ]
  },
  {
   "cell_type": "code",
   "execution_count": 3,
   "id": "693d21fd",
   "metadata": {},
   "outputs": [],
   "source": [
    "import hashlib\n",
    "import re\n",
    "from pympler import asizeof\n",
    "import math\n",
    "import matplotlib.pyplot as plt\n",
    "import numpy as np\n",
    "from bitarray import bitarray"
   ]
  },
  {
   "cell_type": "code",
   "execution_count": 4,
   "id": "972a36a2",
   "metadata": {},
   "outputs": [],
   "source": [
    "#############################################33\n",
    "file = open(\"commedia.txt\", \"rt\")\n",
    "data = file.read()"
   ]
  },
  {
   "cell_type": "code",
   "execution_count": 5,
   "id": "331a6ed6",
   "metadata": {},
   "outputs": [
    {
     "name": "stdout",
     "output_type": "stream",
     "text": [
      "the total number of words is \n",
      "\n",
      "96929\n"
     ]
    }
   ],
   "source": [
    "#===========================\n",
    "data=re.sub(r\"[^\\w\\d'\\s]+\",'',data) # deleting the punctuations\n",
    "words = data.split('\\n')\n",
    "del words[0:8]\n",
    "clean_words=[]\n",
    "for line in words.copy():\n",
    "    if line.startswith(\"Inferno\") or line.startswith(\"Purgatorio\") or line.startswith(\"Paradiso\")or not line.strip():\n",
    "        words.remove(line) # deleting the headers \n",
    "    else:\n",
    "        line = line.strip()\n",
    "        splited_words = line.split(\" \")\n",
    "        clean_words.extend(splited_words)\n",
    "print('the total number of words is \\n')\n",
    "print(len(clean_words)) #counting the number of words \n",
    "##############################################"
   ]
  },
  {
   "cell_type": "code",
   "execution_count": 6,
   "id": "d1ba6213",
   "metadata": {},
   "outputs": [
    {
     "data": {
      "text/plain": [
       "6055040"
      ]
     },
     "execution_count": 6,
     "metadata": {},
     "output_type": "execute_result"
    }
   ],
   "source": [
    "asizeof.asizeof(clean_words)\n",
    "#it's in bytes"
   ]
  },
  {
   "cell_type": "code",
   "execution_count": 7,
   "id": "03ab254c",
   "metadata": {},
   "outputs": [
    {
     "name": "stdout",
     "output_type": "stream",
     "text": [
      "number of distinct words is equal to 14642\n"
     ]
    }
   ],
   "source": [
    "print(f'number of distinct words is equal to {len(set(clean_words))}')"
   ]
  },
  {
   "cell_type": "code",
   "execution_count": 8,
   "id": "5984059d",
   "metadata": {},
   "outputs": [
    {
     "name": "stdout",
     "output_type": "stream",
     "text": [
      "\n",
      "total number of verses is 96924 \n",
      "\n",
      "\n",
      "total number of verses(set) is 96828 \n",
      "\n"
     ]
    }
   ],
   "source": [
    "plagiarism_size= 6 #window size \n",
    "verses = []\n",
    "finger_prints=[]\n",
    "verse_count=0\n",
    "\n",
    "\n",
    "\n",
    "for i in range (len(clean_words)):\n",
    "    if len(clean_words[i:i+plagiarism_size])==plagiarism_size:\n",
    "        verses.append(' '.join(clean_words[i:i+plagiarism_size]))\n",
    "\n",
    "verses_set=set(verses)    \n",
    "m = len(verses_set)\n",
    "epsilon = 10 ** -5\n",
    "b = math.ceil(math.log((m/epsilon) , 2 )) # b has to larger or equal to this value \n",
    "n = 2 ** b\n",
    "\n",
    "\n",
    "for i in verses_set:\n",
    "    temp=i\n",
    "    encoded=temp.encode('utf-8')\n",
    "    hashed=hashlib.md5(encoded)\n",
    "    int_hashed=int(hashed.hexdigest(), 16)\n",
    "    h = int_hashed % n\n",
    "    finger_prints.append(h)\n",
    "\n",
    "\n",
    "        \n",
    "        \n",
    "#we should store the fingerprints in a hashtable \n",
    "#then we should computer and store the finger prints inside of a hashtable \n",
    "print(f'\\ntotal number of verses is {len(verses)} \\n')\n",
    "print(f'\\ntotal number of verses(set) is {len(verses_set)} \\n')\n"
   ]
  },
  {
   "cell_type": "code",
   "execution_count": 9,
   "id": "a081e94a",
   "metadata": {},
   "outputs": [
    {
     "data": {
      "text/plain": [
       "96828"
      ]
     },
     "execution_count": 9,
     "metadata": {},
     "output_type": "execute_result"
    }
   ],
   "source": [
    "len(finger_prints) #we give the fingerprints the set version of verses"
   ]
  },
  {
   "cell_type": "code",
   "execution_count": 10,
   "id": "355fe8ba",
   "metadata": {},
   "outputs": [
    {
     "data": {
      "text/plain": [
       "34"
      ]
     },
     "execution_count": 10,
     "metadata": {},
     "output_type": "execute_result"
    }
   ],
   "source": [
    "b"
   ]
  },
  {
   "cell_type": "code",
   "execution_count": 11,
   "id": "950b269d",
   "metadata": {},
   "outputs": [],
   "source": [
    "finger_prints_set=set(finger_prints)\n",
    "# len(finger_prints_set)"
   ]
  },
  {
   "cell_type": "markdown",
   "id": "ef7aa238",
   "metadata": {},
   "source": [
    "<b>we check the length of finger prints and the length of the set of finger prints and if there's any difference, it means that<br>\n",
    "there's a collision<br>\n",
    "we check the fingerprints since it's the fingerprints that help us find plagiarism <br> \n",
    "\n",
    "</b>"
   ]
  },
  {
   "cell_type": "code",
   "execution_count": 12,
   "id": "61668995",
   "metadata": {},
   "outputs": [
    {
     "name": "stdout",
     "output_type": "stream",
     "text": [
      "the number of collisions are 0\n"
     ]
    }
   ],
   "source": [
    "print (f'the number of collisions are {len(finger_prints)-len(finger_prints_set)}')"
   ]
  },
  {
   "cell_type": "code",
   "execution_count": null,
   "id": "f2c52af6",
   "metadata": {},
   "outputs": [],
   "source": []
  },
  {
   "cell_type": "code",
   "execution_count": 13,
   "id": "7bff019d",
   "metadata": {},
   "outputs": [],
   "source": [
    "#it's better to have both fingerprints and the verses stored in a dictionary \n",
    "# so we're gonna do it from the beginning\n",
    "new_verses=[]\n",
    "# m = len(verses) \n",
    "# we already have the value for m , b , epsilon and n since we've ran the code before\n",
    "# epsilon = 10 ** -4\n",
    "# b = math.log((m/epsilon) , 2 ) # b has to larger or equal to this value \n",
    "# n = m * b\n",
    "general_dict={}\n",
    "\n",
    "for i in range (len(clean_words)):\n",
    "    if len(clean_words[i:i+plagiarism_size])==plagiarism_size:\n",
    "        new_verses.append(' '.join(clean_words[i:i+plagiarism_size]))\n",
    "        temp=new_verses[i]\n",
    "        encoded=temp.encode('utf-8')\n",
    "        hashed=hashlib.md5(encoded)\n",
    "        int_hashed=int(hashed.hexdigest(), 16)\n",
    "        h = int_hashed % n\n",
    "        finger_prints.append(h)\n",
    "        if h in general_dict.keys():\n",
    "            general_dict[h] + \" , \" + temp\n",
    "        else:\n",
    "            temp_dict={h:temp}\n",
    "            general_dict.update(temp_dict)"
   ]
  },
  {
   "cell_type": "markdown",
   "id": "508710d7",
   "metadata": {},
   "source": [
    "# Fingerprint set:"
   ]
  },
  {
   "cell_type": "markdown",
   "id": "f06e80d0",
   "metadata": {},
   "source": [
    "# 1-"
   ]
  },
  {
   "cell_type": "code",
   "execution_count": 14,
   "id": "00ec01e8",
   "metadata": {},
   "outputs": [],
   "source": [
    "# for lab 17 the fingerprints part we have to chagne the epsilon between 10 ** -5 and 10 ** -6 to find the minimum number of bits  "
   ]
  },
  {
   "cell_type": "code",
   "execution_count": 15,
   "id": "331dda28",
   "metadata": {},
   "outputs": [],
   "source": [
    "r=np.linspace(0.0001,0.000001,1000).tolist()"
   ]
  },
  {
   "cell_type": "code",
   "execution_count": 16,
   "id": "8396b21b",
   "metadata": {},
   "outputs": [],
   "source": [
    "# r"
   ]
  },
  {
   "cell_type": "code",
   "execution_count": 17,
   "id": "1683d566",
   "metadata": {},
   "outputs": [
    {
     "name": "stdout",
     "output_type": "stream",
     "text": [
      "the value for epsilon is equal to  1e-05 and the value of b is equal to 34\n",
      "\n"
     ]
    }
   ],
   "source": [
    "# in this section we try to find the right value for b and the right value for epsilon \n",
    "plagiarism_size= 6 #window size \n",
    "verses = []\n",
    "verse_count=0\n",
    "\n",
    "\n",
    "\n",
    "for i in range (len(clean_words)):\n",
    "    if len(clean_words[i:i+plagiarism_size])==plagiarism_size:\n",
    "        verses.append(' '.join(clean_words[i:i+plagiarism_size]))\n",
    "\n",
    "verses_set=set(verses)    \n",
    "m = len(verses_set)\n",
    "for j in range(10, 0, -1):\n",
    "    epsilon = j * (10 ** -5)\n",
    "    b = math.ceil(math.log((m/epsilon) , 2 )) # b has to larger or equal to this value \n",
    "    n = 2 ** b\n",
    "    finger_prints=[]\n",
    "    for i in verses_set:\n",
    "        temp=i\n",
    "        encoded=temp.encode('utf-8')\n",
    "        hashed=hashlib.md5(encoded)\n",
    "        int_hashed=int(hashed.hexdigest(), 16)\n",
    "        h = int_hashed % n\n",
    "        finger_prints.append(h)\n",
    "\n",
    "    finger_prints_set=set(finger_prints)\n",
    "    if (len(finger_prints)-len(finger_prints_set) == 0):\n",
    "        print (f'the value for epsilon is equal to  {epsilon} and the value of b is equal to {b}\\n')\n"
   ]
  },
  {
   "cell_type": "code",
   "execution_count": 18,
   "id": "7fe7a7c3",
   "metadata": {},
   "outputs": [],
   "source": [
    "#min bit = 33 and epsilon = 2e-05\n",
    "# have to find the min value for collisioin and the value for it's b "
   ]
  },
  {
   "cell_type": "code",
   "execution_count": 19,
   "id": "84ebbdfb",
   "metadata": {},
   "outputs": [],
   "source": [
    "# a collision happens when 2 items have the same hash value"
   ]
  },
  {
   "cell_type": "code",
   "execution_count": 20,
   "id": "3fc1d4c5",
   "metadata": {},
   "outputs": [],
   "source": [
    "# the fingerprints part is over since the other stuff are theoratical  and we have the answers \n",
    "#2 and 4 are avilabe in a picture \n",
    "#for number 3 , we have to do what we've done for number 1 but reverse like we have to go through different values of b \n",
    "# and compute the epsilon"
   ]
  },
  {
   "cell_type": "markdown",
   "id": "387cead2",
   "metadata": {},
   "source": [
    "so Bexp = 34 (what I've found) but 33 would also work"
   ]
  },
  {
   "cell_type": "markdown",
   "id": "bea07f35",
   "metadata": {},
   "source": [
    "The picture below works for question 2 and 3"
   ]
  },
  {
   "cell_type": "markdown",
   "id": "3e2eb008",
   "metadata": {},
   "source": [
    "<img src=\"./17-fingerprint-2&3.jpg\" alt=\"Alternative text\" />"
   ]
  },
  {
   "cell_type": "markdown",
   "id": "ecd9000e",
   "metadata": {},
   "source": [
    "# 2-"
   ]
  },
  {
   "cell_type": "markdown",
   "id": "c14e42ed",
   "metadata": {},
   "source": [
    "Bteo ====> m = 1.17* sqrt(n) =>(m/1.17) ** 2 = 2 ** b => b = log((m/1.17 ** 2), base =2 ) = 33 (if we round it up to 1)"
   ]
  },
  {
   "cell_type": "code",
   "execution_count": 21,
   "id": "85df2e9f",
   "metadata": {},
   "outputs": [
    {
     "name": "stdout",
     "output_type": "stream",
     "text": [
      "33\n"
     ]
    }
   ],
   "source": [
    "temp =(m/1.17) ** 2\n",
    "bteo = math.log(temp,2)\n",
    "print(round(bteo))"
   ]
  },
  {
   "cell_type": "markdown",
   "id": "f72ea644",
   "metadata": {},
   "source": [
    "# 3- (Have to double check this one)"
   ]
  },
  {
   "cell_type": "code",
   "execution_count": 22,
   "id": "5ce6edbc",
   "metadata": {},
   "outputs": [],
   "source": [
    "# Question\n",
    "# I just have to find Epsilon with the value of Bexp?\n",
    "# if yes, the the cell below has the answer\n",
    "# is it the formula in page 13 or 14 or 15?"
   ]
  },
  {
   "cell_type": "markdown",
   "id": "b8cc58b5",
   "metadata": {},
   "source": [
    "<b>The cell below is based on formula in the page 14/15 of slide 12</b>"
   ]
  },
  {
   "cell_type": "code",
   "execution_count": 23,
   "id": "b2d8b862",
   "metadata": {},
   "outputs": [
    {
     "name": "stdout",
     "output_type": "stream",
     "text": [
      "5.636131390929222e-06\n"
     ]
    }
   ],
   "source": [
    "# epsilon = m / 2 ** b\n",
    "m = len(verses_set)\n",
    "bexp= 34 # found in question 1\n",
    "new_epsilon = m/(2** bexp)\n",
    "print(new_epsilon)"
   ]
  },
  {
   "cell_type": "markdown",
   "id": "8a0e7114",
   "metadata": {},
   "source": [
    "<b>The above cell seems wrong </b>"
   ]
  },
  {
   "cell_type": "markdown",
   "id": "39ee2e66",
   "metadata": {},
   "source": [
    "<b>let's try the one in page 13 </b>"
   ]
  },
  {
   "cell_type": "code",
   "execution_count": 24,
   "id": "42998d8f",
   "metadata": {},
   "outputs": [
    {
     "name": "stdout",
     "output_type": "stream",
     "text": [
      "5.636115508189654e-06\n"
     ]
    }
   ],
   "source": [
    "#Pr(False positive) = 1-(1-1/n) ** m\n",
    "pr= 1- ((1-(1/(2**bexp))) ** m)\n",
    "print(pr)"
   ]
  },
  {
   "cell_type": "markdown",
   "id": "e27e2e8d",
   "metadata": {},
   "source": [
    "LOL it gives  the same value</br>\n",
    "but it seems wrong </br>\n",
    "really wrong </br>"
   ]
  },
  {
   "cell_type": "markdown",
   "id": "304f2daf",
   "metadata": {},
   "source": [
    "# 4- (Better be double checked)<br>\n",
    "<b> Yes. </b>"
   ]
  },
  {
   "cell_type": "markdown",
   "id": "af452d82",
   "metadata": {},
   "source": [
    "# Bit string array:"
   ]
  },
  {
   "cell_type": "code",
   "execution_count": 25,
   "id": "bff38ab2",
   "metadata": {},
   "outputs": [],
   "source": [
    "# question 1 has to be done through simulation so it needs coding \n",
    "# 2 , 3, 4 don't need coding "
   ]
  },
  {
   "cell_type": "markdown",
   "id": "41ff72a7",
   "metadata": {},
   "source": [
    "# 1-"
   ]
  },
  {
   "cell_type": "code",
   "execution_count": 26,
   "id": "83dfec20",
   "metadata": {},
   "outputs": [],
   "source": [
    "# page 21 slide 12 I think it's used for question one  of bit string array \n",
    "# I think we can use the second scenario"
   ]
  },
  {
   "cell_type": "code",
   "execution_count": 27,
   "id": "5b7f2e74",
   "metadata": {},
   "outputs": [],
   "source": [
    "# creating a bit array of zeros and gonna make turn every index of the occurance to one "
   ]
  },
  {
   "cell_type": "code",
   "execution_count": 28,
   "id": "4f04a502",
   "metadata": {},
   "outputs": [],
   "source": [
    "m = len(verses_set) \n",
    "bits= [i for i in range(19,24)]\n",
    "# n= [2**i for i in b]\n",
    "# n = m = 2 ** b\n",
    "General_dict={}\n",
    "for b in bits:\n",
    "    a=bitarray(2**b)\n",
    "    a.setall(0)\n",
    "    n=2**b\n",
    "    FP_count = 0\n",
    "    for i in verses_set:\n",
    "        temp=i\n",
    "        encoded=temp.encode('utf-8')\n",
    "        hashed=hashlib.md5(encoded)\n",
    "        int_hashed=int(hashed.hexdigest(), 16)\n",
    "        h = int_hashed % n\n",
    "        if a[h]==0:\n",
    "            a[h]=1\n",
    "        elif a[h]==1:\n",
    "            FP_count+=1 # it actually checks the number of collisions \n",
    "    #General_dict[n] = FP_count # this will give you the collisions and if you divide it by m then you have the FP\n",
    "    General_dict[n] = FP_count/m"
   ]
  },
  {
   "cell_type": "code",
   "execution_count": 29,
   "id": "9be67e33",
   "metadata": {},
   "outputs": [
    {
     "data": {
      "text/plain": [
       "{524288: 0.08555376543974884,\n",
       " 1048576: 0.04416077993968687,\n",
       " 2097152: 0.022132027925806586,\n",
       " 4194304: 0.010843970752261742,\n",
       " 8388608: 0.00536001982897509}"
      ]
     },
     "execution_count": 29,
     "metadata": {},
     "output_type": "execute_result"
    }
   ],
   "source": [
    "General_dict"
   ]
  },
  {
   "cell_type": "code",
   "execution_count": 43,
   "id": "7cfbf82f",
   "metadata": {},
   "outputs": [
    {
     "data": {
      "image/png": "[encoded data removed]",
      "text/plain": [
       "<Figure size 720x720 with 1 Axes>"
      ]
     },
     "metadata": {
      "needs_background": "light"
     },
     "output_type": "display_data"
    }
   ],
   "source": [
    "plt.figure(figsize=(10,10))\n",
    "plt.plot([i for i in range(19,24)],General_dict.values())\n",
    "plt.xlabel('Memory')\n",
    "plt.ylabel('Epsilons')\n",
    "plt.figtext(0.5, 0, \"For memory, it's 2 to the power of what you see on the plot for the X axis\", ha=\"center\", fontsize=12, bbox={\"facecolor\":\"orange\", \"alpha\":0.5, \"pad\":5})\n",
    "plt.grid()\n",
    "plt.show()\n"
   ]
  },
  {
   "cell_type": "code",
   "execution_count": 31,
   "id": "2832c085",
   "metadata": {},
   "outputs": [],
   "source": [
    "# as the memory increases, the value for False positive decreases "
   ]
  },
  {
   "cell_type": "code",
   "execution_count": 32,
   "id": "e1f17a29",
   "metadata": {},
   "outputs": [],
   "source": [
    "#all these stuff I did were for the first one \n",
    "# now I have to find the other ones "
   ]
  },
  {
   "cell_type": "markdown",
   "id": "69e006f3",
   "metadata": {},
   "source": [
    "# 2-"
   ]
  },
  {
   "cell_type": "code",
   "execution_count": 36,
   "id": "90ed55fe",
   "metadata": {},
   "outputs": [],
   "source": [
    "# question = should I implement bitarray for this question as well"
   ]
  },
  {
   "cell_type": "markdown",
   "id": "a579c018",
   "metadata": {},
   "source": [
    "n = m/epsilon <br>\n",
    "b = log( m/epsilon ,base = 2) <br>\n",
    "n = 2 ** b = m / epsilon bits  <br>\n",
    "based on above  <br>\n",
    "epsilon = m / 2 ** b"
   ]
  },
  {
   "cell_type": "code",
   "execution_count": 33,
   "id": "d534f97f",
   "metadata": {},
   "outputs": [],
   "source": [
    "m = len(verses_set) \n",
    "b = [i for i in range(19,24)]\n",
    "n= [2**i for i in b] \n",
    "# now based on the value of b and n we have to find different values for epsilon\n",
    "epsilons = []\n",
    "for i in n:\n",
    "    epsilons.append(m/i)"
   ]
  },
  {
   "cell_type": "code",
   "execution_count": 34,
   "id": "df84ae5c",
   "metadata": {},
   "outputs": [
    {
     "data": {
      "text/plain": [
       "[0.18468475341796875,\n",
       " 0.09234237670898438,\n",
       " 0.04617118835449219,\n",
       " 0.023085594177246094,\n",
       " 0.011542797088623047]"
      ]
     },
     "execution_count": 34,
     "metadata": {},
     "output_type": "execute_result"
    }
   ],
   "source": [
    "epsilons"
   ]
  },
  {
   "cell_type": "code",
   "execution_count": 42,
   "id": "287553ea",
   "metadata": {},
   "outputs": [
    {
     "data": {
      "image/png": "[encoded data removed]",
      "text/plain": [
       "<Figure size 720x720 with 1 Axes>"
      ]
     },
     "metadata": {
      "needs_background": "light"
     },
     "output_type": "display_data"
    }
   ],
   "source": [
    "plt.figure(figsize=(10,10))\n",
    "plt.plot([i for i in range(19,24)],epsilons)\n",
    "plt.xlabel('memory')\n",
    "plt.ylabel('Epsilons')\n",
    "plt.figtext(0.5, 0, \"For memory, it's 2 to the power of what you see on the plot for the X axis\", ha=\"center\", fontsize=12, bbox={\"facecolor\":\"orange\", \"alpha\":0.5, \"pad\":5})\n",
    "plt.grid()\n",
    "plt.show()\n",
    "#based on theory"
   ]
  },
  {
   "cell_type": "markdown",
   "id": "7609c605",
   "metadata": {},
   "source": [
    "# 3-(have to double check this one)"
   ]
  },
  {
   "cell_type": "code",
   "execution_count": 40,
   "id": "9cdefa8d",
   "metadata": {},
   "outputs": [],
   "source": [
    "# how should I compare it? \n",
    "# should I write it in the report? or should I use it in the code? \n",
    "# should I just write a sentence for this question?\n",
    "# should I plot it?"
   ]
  },
  {
   "cell_type": "code",
   "execution_count": 41,
   "id": "5155b47b",
   "metadata": {},
   "outputs": [
    {
     "data": {
      "image/png": "[encoded data removed]",
      "text/plain": [
       "<Figure size 720x720 with 1 Axes>"
      ]
     },
     "metadata": {
      "needs_background": "light"
     },
     "output_type": "display_data"
    }
   ],
   "source": [
    "plt.figure(figsize=(10,10))\n",
    "plt.plot([i for i in range(19,24)],General_dict.values(), label = 'Simulation')\n",
    "plt.plot([i for i in range(19,24)],epsilons,label='Theory')\n",
    "plt.xlabel('Memory')\n",
    "plt.ylabel('Epsilons')\n",
    "plt.figtext(0.5, 0, \"For memory, it's 2 to the power of what you see on the plot for the X axis\", ha=\"center\", fontsize=12, bbox={\"facecolor\":\"orange\", \"alpha\":0.5, \"pad\":5})\n",
    "plt.grid()\n",
    "plt.legend()\n",
    "plt.show()"
   ]
  },
  {
   "cell_type": "markdown",
   "id": "ad78446d",
   "metadata": {},
   "source": [
    "<b>As you can see in the plots, these results follow the same pattern and behaviour </b>"
   ]
  },
  {
   "cell_type": "markdown",
   "id": "cc954fb3",
   "metadata": {},
   "source": [
    "# 4- (have to ask about this question) <br>\n",
    "I don't undrestand this question <br>\n",
    "In which sense should we compare it to Bexp?"
   ]
  },
  {
   "cell_type": "markdown",
   "id": "e9033993",
   "metadata": {},
   "source": [
    "I have the same doubts for this question as the ones I had for the third one "
   ]
  },
  {
   "cell_type": "code",
   "execution_count": null,
   "id": "9cc61497",
   "metadata": {},
   "outputs": [],
   "source": [
    "# how should I compare it? \n",
    "# should I write it in the report? or should I use it in the code? \n",
    "# should I just write a sentence for this question?\n",
    "# should I plot it?"
   ]
  },
  {
   "cell_type": "markdown",
   "id": "c3b27ca8",
   "metadata": {},
   "source": [
    "# Bloom Filters "
   ]
  },
  {
   "cell_type": "code",
   "execution_count": 45,
   "id": "cd5b30ad",
   "metadata": {},
   "outputs": [],
   "source": [
    "# should we implemet it or can we just use the pip library?"
   ]
  },
  {
   "cell_type": "markdown",
   "id": "3c2b3073",
   "metadata": {},
   "source": [
    "https://pypi.org/project/bloom-filter/"
   ]
  },
  {
   "cell_type": "markdown",
   "id": "6cf098cc",
   "metadata": {},
   "source": [
    "# 1-"
   ]
  },
  {
   "cell_type": "code",
   "execution_count": null,
   "id": "5c8719fa",
   "metadata": {},
   "outputs": [],
   "source": [
    "# how should we find the opimum number of hash functions? \n",
    "# what should we iterate over?\n",
    "# by analytically it means that we only have to use the formula? if yes, then which formula is it?\n"
   ]
  },
  {
   "cell_type": "markdown",
   "id": "d75c15c4",
   "metadata": {},
   "source": [
    "# 2-"
   ]
  },
  {
   "cell_type": "code",
   "execution_count": null,
   "id": "93c6312c",
   "metadata": {},
   "outputs": [],
   "source": [
    "# we have to use the optimal hash number and use the thoery to find the probability of false positive.\n",
    "# which formula should we use?"
   ]
  }
 ],
 "metadata": {
  "kernelspec": {
   "display_name": "Python 3 (ipykernel)",
   "language": "python",
   "name": "python3"
  },
  "language_info": {
   "codemirror_mode": {
    "name": "ipython",
    "version": 3
   },
   "file_extension": ".py",
   "mimetype": "text/x-python",
   "name": "python",
   "nbconvert_exporter": "python",
   "pygments_lexer": "ipython3",
   "version": "3.9.7"
  }
 },
 "nbformat": 4,
 "nbformat_minor": 5
}
