{
 "cells": [
  {
   "cell_type": "markdown",
   "id": "ab3f30db",
   "metadata": {},
   "source": [
    "<b>Lab #17 (Evaluated)\n",
    "\n",
    "\n",
    "Submission deadline: Friday 13th January\n",
    "\n",
    "Peergrading deadline: Wed. 18th January</b>"
   ]
  },
  {
   "cell_type": "markdown",
   "id": "b26c3319",
   "metadata": {},
   "source": [
    "Many parts of the code can be modularised but I avoided that since I don't want my code to look like anybody"
   ]
  },
  {
   "cell_type": "markdown",
   "id": "32f5351d",
   "metadata": {},
   "source": [
    "<b>I changed bitstring array and bloom filter because they needed change but the rest is ok</b><br>\n",
    "<b>We need to talk to the prof about this code in the next sessions </b>"
   ]
  },
  {
   "cell_type": "code",
   "execution_count": 136,
   "id": "e68acf14",
   "metadata": {},
   "outputs": [],
   "source": [
    "#I have to add the sizeof shit (we do the for simulations and in order to find the size of the files)\n",
    "# I need the kb size so I have to divide the output of asize of by 1024*8\n",
    "# for example \n",
    "# x=asizeof.asizeof(what_we_want)\n",
    "#x/(1024*8)\n",
    "#fingerprint set : Done\n",
    "#bit string arrya: Done\n",
    "#Bloom Filter: Done \n",
    "#optional part: \n",
    "#Table (sizeof part) I have some questions about this part \n",
    "#everytihg based on sim = sizeof ( for bitaaray I should use this but on which part? IDK)\n",
    "#have to check everything with other guys and the prof before submitting it "
   ]
  },
  {
   "cell_type": "code",
   "execution_count": 89,
   "id": "48463115",
   "metadata": {},
   "outputs": [],
   "source": [
    "# generally speaking, it's Done, it just needs some finishing touches and tidy stuff up"
   ]
  },
  {
   "cell_type": "markdown",
   "id": "cf7a8ba6",
   "metadata": {},
   "source": [
    " <b>Don't forget to fill the table in the end of the Lab and use sizeof </b>"
   ]
  },
  {
   "cell_type": "markdown",
   "id": "8d0f0383",
   "metadata": {},
   "source": [
    "<b>Have to ask for suggestions or resources  </b>"
   ]
  },
  {
   "cell_type": "markdown",
   "id": "e7efd3fb",
   "metadata": {},
   "source": [
    "<b>Have to watch the video for the bloom filter session  </b>"
   ]
  },
  {
   "cell_type": "markdown",
   "id": "1af1e573",
   "metadata": {},
   "source": [
    "<H3>Important question: Where should I use the sizeof function?  </H3>"
   ]
  },
  {
   "cell_type": "markdown",
   "id": "d4f4ecb2",
   "metadata": {},
   "source": [
    "# questions and doubts and some general points"
   ]
  },
  {
   "cell_type": "code",
   "execution_count": 2,
   "id": "cc4ce192",
   "metadata": {},
   "outputs": [],
   "source": [
    "# 1 - how shoul we answer the theory parts? should we adress them in the report or should we code them? \n",
    "# like fingerprits set question 2 and 4\n",
    "# Q:what is the formula we should use for the analytical part?\n",
    "#A: explained in the layers parts \n",
    "#when will he upload the video of the first session?\n",
    "#A: He will upoload it but idk when\n",
    "# by simulation: obvious, Analytically = formulas(maybe), theory?\n",
    "# theory and analytically are the same \n",
    "#Slide 08/ page 16 is important (it’s what we have to keep in mind)\n",
    "#It’s useful for set of fingerprints question 2 \n",
    "# we should watch the video fro this session to be able to run the simulation (19th of December, session one)\n",
    "# page 28 and 29 are important for the bloom filter \n",
    "# formula in page 28 gives us a real number and we have to either use 12 or 13, we have to choose the optimal value\n",
    "# since bloom filters do not work with real numbers \n",
    "# for bloom filters, question 1 and two are different but somehow related\n",
    "#the formula in page 29 is important but only the first part = (1-P) ** K (only this part is important)\n",
    "#fingerprints set : Done (except for one or two parts)\n",
    "#bit string array : 1 : done, the rest is just some theory \n",
    "#bloom filters : Not Done\n",
    "# bloom filters question : how do we make different hash funcitons? ok as far as I know , page 27, slide 12 would help(would clear things)\n",
    "# page 30 slide 12 = optimal number of hash functions for bloom filters\n",
    "# page 31 slide 12 = probablity of false positive if we have the optimal k \n",
    "# prbability of false positive increases as the valye of n/m increases n = memory slots and m = len(verses_set) :)\n",
    "# page 32 = a formula for epsilon and stuff (useful)\n",
    "# question = the table in the end, is it for what we've found through simulation?\n",
    "# page 16 in slide 08 is important \n",
    "# I have to read the bloom filters pdf and also watch video for the firsrsession of 19th of December "
   ]
  },
  {
   "cell_type": "code",
   "execution_count": 3,
   "id": "4db76fbf",
   "metadata": {},
   "outputs": [],
   "source": [
    "########################################################################"
   ]
  },
  {
   "cell_type": "markdown",
   "id": "bc8eaf19",
   "metadata": {},
   "source": [
    "<b>Have to use the efficient and non efficient mode in the report </b>"
   ]
  },
  {
   "cell_type": "markdown",
   "id": "3645cb4b",
   "metadata": {},
   "source": [
    "# Description"
   ]
  },
  {
   "cell_type": "markdown",
   "id": "3380a105",
   "metadata": {},
   "source": [
    "<img src=\"./17-1.png\" alt=\"Alternative text\" />"
   ]
  },
  {
   "cell_type": "markdown",
   "id": "4d8dc03f",
   "metadata": {},
   "source": [
    "<img src=\"./17-2.png\" alt=\"Alternative text\" />"
   ]
  },
  {
   "cell_type": "markdown",
   "id": "8204b378",
   "metadata": {},
   "source": [
    "<img src=\"./17-3.png\" alt=\"Alternative text\" />"
   ]
  },
  {
   "cell_type": "code",
   "execution_count": 57,
   "id": "4ba3668c",
   "metadata": {},
   "outputs": [],
   "source": [
    "# this table, seems weird, like how should we fill it?\n",
    "#the whole point of this table is to tell us that with the same value for epsilon, we can get smaller sizes for our data\n",
    "# as we go down the table"
   ]
  },
  {
   "cell_type": "markdown",
   "id": "cba7ae77",
   "metadata": {},
   "source": [
    "# Pre-processing "
   ]
  },
  {
   "cell_type": "code",
   "execution_count": 1,
   "id": "741e5ffb",
   "metadata": {},
   "outputs": [],
   "source": [
    "import hashlib\n",
    "import re\n",
    "from pympler import asizeof\n",
    "import math\n",
    "import matplotlib.pyplot as plt\n",
    "import numpy as np\n",
    "from bitarray import bitarray"
   ]
  },
  {
   "cell_type": "code",
   "execution_count": 2,
   "id": "e62d492f",
   "metadata": {},
   "outputs": [],
   "source": [
    "#############################################\n",
    "file = open(\"commedia.txt\", \"rt\")\n",
    "data = file.read()"
   ]
  },
  {
   "cell_type": "code",
   "execution_count": 3,
   "id": "2c08edc7",
   "metadata": {},
   "outputs": [
    {
     "name": "stdout",
     "output_type": "stream",
     "text": [
      "the total number of words is \n",
      "\n",
      "96929\n"
     ]
    }
   ],
   "source": [
    "#===========================\n",
    "data=re.sub(r\"[^\\w\\d'\\s]+\",'',data) # deleting the punctuations\n",
    "words = data.split('\\n')\n",
    "del words[0:8]\n",
    "clean_words=[]\n",
    "for line in words.copy():\n",
    "    if line.startswith(\"Inferno\") or line.startswith(\"Purgatorio\") or line.startswith(\"Paradiso\")or not line.strip():\n",
    "        words.remove(line) # deleting the headers \n",
    "    else:\n",
    "        line = line.strip()\n",
    "        splited_words = line.split(\" \")\n",
    "        clean_words.extend(splited_words)\n",
    "print('the total number of words is \\n')\n",
    "print(len(clean_words)) #counting the number of words \n",
    "##############################################"
   ]
  },
  {
   "cell_type": "code",
   "execution_count": 4,
   "id": "107fd477",
   "metadata": {},
   "outputs": [
    {
     "data": {
      "text/plain": [
       "6055040"
      ]
     },
     "execution_count": 4,
     "metadata": {},
     "output_type": "execute_result"
    }
   ],
   "source": [
    "asizeof.asizeof(clean_words)\n",
    "#it's in bytes"
   ]
  },
  {
   "cell_type": "code",
   "execution_count": 5,
   "id": "a3aefb8a",
   "metadata": {},
   "outputs": [
    {
     "name": "stdout",
     "output_type": "stream",
     "text": [
      "number of distinct words is equal to 14642\n"
     ]
    }
   ],
   "source": [
    "print(f'number of distinct words is equal to {len(set(clean_words))}')"
   ]
  },
  {
   "cell_type": "code",
   "execution_count": 6,
   "id": "7e3b64ae",
   "metadata": {},
   "outputs": [
    {
     "name": "stdout",
     "output_type": "stream",
     "text": [
      "\n",
      "total number of verses is 96924 \n",
      "\n",
      "\n",
      "total number of verses(set) is 96828 \n",
      "\n"
     ]
    }
   ],
   "source": [
    "plagiarism_size= 6 #window size \n",
    "verses = []\n",
    "finger_prints=[]\n",
    "verse_count=0\n",
    "\n",
    "\n",
    "\n",
    "for i in range (len(clean_words)):\n",
    "    if len(clean_words[i:i+plagiarism_size])==plagiarism_size:\n",
    "        verses.append(' '.join(clean_words[i:i+plagiarism_size]))\n",
    "\n",
    "verses_set=set(verses)    \n",
    "m = len(verses_set)\n",
    "epsilon = 10 ** -5\n",
    "b = math.ceil(math.log((m/epsilon) , 2 )) # b has to larger or equal to this value \n",
    "n = 2 ** b\n",
    "\n",
    "\n",
    "for i in verses_set:\n",
    "    temp=i\n",
    "    encoded=temp.encode('utf-8')\n",
    "    hashed=hashlib.md5(encoded)\n",
    "    int_hashed=int(hashed.hexdigest(), 16)\n",
    "    h = int_hashed % n\n",
    "    finger_prints.append(h)\n",
    "\n",
    "\n",
    "        \n",
    "        \n",
    "#we should store the fingerprints in a hashtable \n",
    "#then we should computer and store the finger prints inside of a hashtable \n",
    "print(f'\\ntotal number of verses is {len(verses)} \\n')\n",
    "print(f'\\ntotal number of verses(set) is {len(verses_set)} \\n')\n"
   ]
  },
  {
   "cell_type": "code",
   "execution_count": 7,
   "id": "0f9f018c",
   "metadata": {},
   "outputs": [
    {
     "data": {
      "text/plain": [
       "96828"
      ]
     },
     "execution_count": 7,
     "metadata": {},
     "output_type": "execute_result"
    }
   ],
   "source": [
    "len(finger_prints) #we give the fingerprints the set version of verses"
   ]
  },
  {
   "cell_type": "code",
   "execution_count": 8,
   "id": "e6107862",
   "metadata": {},
   "outputs": [
    {
     "data": {
      "text/plain": [
       "34"
      ]
     },
     "execution_count": 8,
     "metadata": {},
     "output_type": "execute_result"
    }
   ],
   "source": [
    "b"
   ]
  },
  {
   "cell_type": "code",
   "execution_count": 9,
   "id": "e74ab45e",
   "metadata": {},
   "outputs": [],
   "source": [
    "finger_prints_set=set(finger_prints)\n",
    "# len(finger_prints_set)"
   ]
  },
  {
   "cell_type": "markdown",
   "id": "3d164d8a",
   "metadata": {},
   "source": [
    "<b>we check the length of finger prints and the length of the set of finger prints and if there's any difference, it means that<br>\n",
    "there's a collision<br>\n",
    "we check the fingerprints since it's the fingerprints that help us find plagiarism <br> \n",
    "\n",
    "</b>"
   ]
  },
  {
   "cell_type": "code",
   "execution_count": 10,
   "id": "bc246a18",
   "metadata": {},
   "outputs": [
    {
     "name": "stdout",
     "output_type": "stream",
     "text": [
      "the number of collisions are 0\n"
     ]
    }
   ],
   "source": [
    "print (f'the number of collisions are {len(finger_prints)-len(finger_prints_set)}')"
   ]
  },
  {
   "cell_type": "code",
   "execution_count": null,
   "id": "0ca7240a",
   "metadata": {},
   "outputs": [],
   "source": []
  },
  {
   "cell_type": "code",
   "execution_count": 11,
   "id": "b23991af",
   "metadata": {},
   "outputs": [],
   "source": [
    "#it's better to have both fingerprints and the verses stored in a dictionary \n",
    "# so we're gonna do it from the beginning\n",
    "new_verses=[]\n",
    "# m = len(verses) \n",
    "# we already have the value for m , b , epsilon and n since we've ran the code before\n",
    "# epsilon = 10 ** -4\n",
    "# b = math.log((m/epsilon) , 2 ) # b has to larger or equal to this value \n",
    "# n = m * b\n",
    "general_dict={}\n",
    "\n",
    "for i in range (len(clean_words)):\n",
    "    if len(clean_words[i:i+plagiarism_size])==plagiarism_size:\n",
    "        new_verses.append(' '.join(clean_words[i:i+plagiarism_size]))\n",
    "        temp=new_verses[i]\n",
    "        encoded=temp.encode('utf-8')\n",
    "        hashed=hashlib.md5(encoded)\n",
    "        int_hashed=int(hashed.hexdigest(), 16)\n",
    "        h = int_hashed % n\n",
    "        finger_prints.append(h)\n",
    "        if h in general_dict.keys():\n",
    "            general_dict[h] + \" , \" + temp\n",
    "        else:\n",
    "            temp_dict={h:temp}\n",
    "            general_dict.update(temp_dict)"
   ]
  },
  {
   "cell_type": "markdown",
   "id": "e3467a46",
   "metadata": {},
   "source": [
    "# Fingerprint set:"
   ]
  },
  {
   "cell_type": "markdown",
   "id": "16ab1d45",
   "metadata": {},
   "source": [
    "# 1-"
   ]
  },
  {
   "cell_type": "code",
   "execution_count": 12,
   "id": "fe5ffc75",
   "metadata": {},
   "outputs": [],
   "source": [
    "# for lab 17 the fingerprints part we have to chagne the epsilon between 10 ** -5 and 10 ** -6 to find the minimum number of bits  "
   ]
  },
  {
   "cell_type": "code",
   "execution_count": 13,
   "id": "1238fbc7",
   "metadata": {},
   "outputs": [],
   "source": [
    "r=np.linspace(0.0001,0.000001,1000).tolist()"
   ]
  },
  {
   "cell_type": "code",
   "execution_count": 14,
   "id": "dfa3b890",
   "metadata": {},
   "outputs": [],
   "source": [
    "# r"
   ]
  },
  {
   "cell_type": "code",
   "execution_count": 15,
   "id": "6f82c823",
   "metadata": {},
   "outputs": [],
   "source": [
    "#bit = 17"
   ]
  },
  {
   "cell_type": "code",
   "execution_count": 16,
   "id": "3410eb8b",
   "metadata": {},
   "outputs": [
    {
     "name": "stdout",
     "output_type": "stream",
     "text": [
      "the value for epsilon is equal to  1e-05 and the value of b is equal to 34\n",
      "\n"
     ]
    }
   ],
   "source": [
    "# in this section we try to find the right value for b and the right value for epsilon \n",
    "plagiarism_size= 6 #window size \n",
    "verses = []\n",
    "verse_count=0\n",
    "\n",
    "\n",
    "\n",
    "for i in range (len(clean_words)):\n",
    "    if len(clean_words[i:i+plagiarism_size])==plagiarism_size:\n",
    "        verses.append(' '.join(clean_words[i:i+plagiarism_size]))\n",
    "\n",
    "verses_set=set(verses)    \n",
    "m = len(verses_set)\n",
    "for j in range(10, 0, -1):\n",
    "    epsilon = j * (10 ** -5)\n",
    "    b = math.ceil(math.log((m/epsilon) , 2 )) # b has to larger or equal to this value \n",
    "    n = 2 ** b\n",
    "    finger_prints=[]\n",
    "    for i in verses_set:\n",
    "        temp=i\n",
    "        encoded=temp.encode('utf-8')\n",
    "        hashed=hashlib.md5(encoded)\n",
    "        int_hashed=int(hashed.hexdigest(), 16)\n",
    "        h = int_hashed % n\n",
    "        finger_prints.append(h)\n",
    "\n",
    "    finger_prints_set=set(finger_prints)\n",
    "    if (len(finger_prints)-len(finger_prints_set) == 0):\n",
    "        print (f'the value for epsilon is equal to  {epsilon} and the value of b is equal to {b}\\n')\n"
   ]
  },
  {
   "cell_type": "code",
   "execution_count": 17,
   "id": "d8f47809",
   "metadata": {},
   "outputs": [],
   "source": [
    "#min bit = 33 and epsilon = 2e-05\n",
    "# have to find the min value for collisioin and the value for it's b "
   ]
  },
  {
   "cell_type": "code",
   "execution_count": 18,
   "id": "975ee3be",
   "metadata": {},
   "outputs": [],
   "source": [
    "# a collision happens when 2 items have the same hash value"
   ]
  },
  {
   "cell_type": "code",
   "execution_count": 19,
   "id": "d859d7d8",
   "metadata": {},
   "outputs": [],
   "source": [
    "# the fingerprints part is over since the other stuff are theoratical  and we have the answers \n",
    "#2 and 4 are avilabe in a picture \n",
    "#for number 3 , we have to do what we've done for number 1 but reverse like we have to go through different values of b \n",
    "# and compute the epsilon"
   ]
  },
  {
   "cell_type": "markdown",
   "id": "607f7a41",
   "metadata": {},
   "source": [
    "so Bexp = 34 (what I've found) but 33 would also work"
   ]
  },
  {
   "cell_type": "markdown",
   "id": "e053bd4f",
   "metadata": {},
   "source": [
    "The picture below works for question 2 and 3"
   ]
  },
  {
   "cell_type": "markdown",
   "id": "2f341e17",
   "metadata": {},
   "source": [
    "<img src=\"./17-fingerprint-2&3.jpg\" alt=\"Alternative text\" />"
   ]
  },
  {
   "cell_type": "markdown",
   "id": "e2d65b2a",
   "metadata": {},
   "source": [
    "# 2-"
   ]
  },
  {
   "cell_type": "markdown",
   "id": "e2846897",
   "metadata": {},
   "source": [
    "Bteo ====> m = 1.17* sqrt(n) =>(m/1.17) ** 2 = 2 ** b => b = log((m/1.17 ** 2), base =2 ) = 33 (if we round it up to 1)"
   ]
  },
  {
   "cell_type": "code",
   "execution_count": 19,
   "id": "811839ee",
   "metadata": {},
   "outputs": [
    {
     "name": "stdout",
     "output_type": "stream",
     "text": [
      "33\n"
     ]
    }
   ],
   "source": [
    "temp =(m/1.17) ** 2\n",
    "bteo = math.log(temp,2)\n",
    "print(round(bteo))\n",
    "#we need to round it up since we need more bits in order to store stuff\n",
    "# we can't use fewer bits in order to store them"
   ]
  },
  {
   "cell_type": "markdown",
   "id": "9dde0c08",
   "metadata": {},
   "source": [
    "# 3- "
   ]
  },
  {
   "cell_type": "code",
   "execution_count": 20,
   "id": "d7815d1d",
   "metadata": {},
   "outputs": [],
   "source": [
    "# Question\n",
    "# I just have to find Epsilon with the value of Bexp?\n",
    "# if yes, the the cell below has the answer\n",
    "# is it the formula in page 13 or 14 or 15?"
   ]
  },
  {
   "cell_type": "markdown",
   "id": "62229a9e",
   "metadata": {},
   "source": [
    "<b>The cell below is based on formula in the page 14/15 of slide 12</b>"
   ]
  },
  {
   "cell_type": "code",
   "execution_count": 22,
   "id": "022c3159",
   "metadata": {},
   "outputs": [
    {
     "name": "stdout",
     "output_type": "stream",
     "text": [
      "5.636131390929222e-06\n"
     ]
    }
   ],
   "source": [
    "# epsilon = m / 2 ** b\n",
    "m = len(verses_set)\n",
    "bexp= 34 # found in question 1\n",
    "new_epsilon = m/(2** bexp)\n",
    "print(new_epsilon)"
   ]
  },
  {
   "cell_type": "markdown",
   "id": "9fb78d77",
   "metadata": {},
   "source": [
    "<b>let's try the one in page 13 </b>"
   ]
  },
  {
   "cell_type": "code",
   "execution_count": 23,
   "id": "5211aa3f",
   "metadata": {},
   "outputs": [
    {
     "name": "stdout",
     "output_type": "stream",
     "text": [
      "5.636115508189654e-06\n"
     ]
    }
   ],
   "source": [
    "#Pr(False positive) = 1-(1-1/n) ** m\n",
    "pr= 1- ((1-(1/(2**bexp))) ** m)\n",
    "print(pr)"
   ]
  },
  {
   "cell_type": "markdown",
   "id": "1a323b4d",
   "metadata": {},
   "source": [
    "# 4- (Better be double checked)<br>\n",
    "<b> Yes. </b>"
   ]
  },
  {
   "cell_type": "markdown",
   "id": "896d3700",
   "metadata": {},
   "source": [
    "# Bit string array:"
   ]
  },
  {
   "cell_type": "markdown",
   "id": "e3bf5e8a",
   "metadata": {},
   "source": [
    "This library is used: https://pypi.org/project/bitarray/"
   ]
  },
  {
   "cell_type": "code",
   "execution_count": 24,
   "id": "f8547f04",
   "metadata": {},
   "outputs": [],
   "source": [
    "# question 1 has to be done through simulation so it needs coding \n",
    "# 2 , 3, 4 don't need coding "
   ]
  },
  {
   "cell_type": "markdown",
   "id": "a8727d78",
   "metadata": {},
   "source": [
    "# 1-"
   ]
  },
  {
   "cell_type": "code",
   "execution_count": 25,
   "id": "a964d53b",
   "metadata": {},
   "outputs": [],
   "source": [
    "# page 21 slide 12 I think it's used for question one  of bit string array \n",
    "# I think we can use the second scenario"
   ]
  },
  {
   "cell_type": "code",
   "execution_count": 26,
   "id": "c0790549",
   "metadata": {},
   "outputs": [],
   "source": [
    "# creating a bit array of zeros and gonna make turn every index of the occurance to one "
   ]
  },
  {
   "cell_type": "code",
   "execution_count": 13,
   "id": "5c11572e",
   "metadata": {},
   "outputs": [],
   "source": [
    "m = len(verses_set) \n",
    "bits= [i for i in range(19,24)]\n",
    "# n= [2**i for i in b]\n",
    "# n = m = 2 ** b\n",
    "General_dict={}\n",
    "for b in bits:\n",
    "    a=bitarray(2**b)\n",
    "    a.setall(0)\n",
    "    n=2**b\n",
    "    FP_count = 0\n",
    "    for i in verses_set:\n",
    "        temp=i\n",
    "        encoded=temp.encode('utf-8')\n",
    "        hashed=hashlib.md5(encoded)\n",
    "        int_hashed=int(hashed.hexdigest(), 16)\n",
    "        h = int_hashed % n\n",
    "        if a[h]==0:\n",
    "            a[h]=1\n",
    "        elif a[h]==1:\n",
    "            FP_count+=1 # it actually checks the number of collisions \n",
    "    #General_dict[n] = FP_count # this will give you the collisions and if you divide it by m then you have the FP\n",
    "    \n",
    "    General_dict[n] = FP_count/m\n",
    "    "
   ]
  },
  {
   "cell_type": "code",
   "execution_count": 14,
   "id": "e9a4c237",
   "metadata": {},
   "outputs": [
    {
     "data": {
      "text/plain": [
       "{524288: 0.08555376543974884,\n",
       " 1048576: 0.04416077993968687,\n",
       " 2097152: 0.022132027925806586,\n",
       " 4194304: 0.010843970752261742,\n",
       " 8388608: 0.00536001982897509}"
      ]
     },
     "execution_count": 14,
     "metadata": {},
     "output_type": "execute_result"
    }
   ],
   "source": [
    "General_dict"
   ]
  },
  {
   "cell_type": "code",
   "execution_count": 15,
   "id": "09b025ce",
   "metadata": {},
   "outputs": [
    {
     "data": {
      "image/png": "[encoded data removed]",
      "text/plain": [
       "<Figure size 720x720 with 1 Axes>"
      ]
     },
     "metadata": {
      "needs_background": "light"
     },
     "output_type": "display_data"
    }
   ],
   "source": [
    "plt.figure(figsize=(10,10))\n",
    "plt.plot([i for i in range(19,24)],General_dict.values())\n",
    "plt.xlabel('Memory')\n",
    "plt.ylabel('Epsilons')\n",
    "plt.figtext(0.5, 0, \"For memory, it's 2 to the power of what you see on the plot for the X axis\", ha=\"center\", fontsize=12, bbox={\"facecolor\":\"orange\", \"alpha\":0.5, \"pad\":5})\n",
    "plt.grid()\n",
    "plt.show()\n"
   ]
  },
  {
   "cell_type": "code",
   "execution_count": 16,
   "id": "0cb3943e",
   "metadata": {},
   "outputs": [],
   "source": [
    "# as the memory increases, the value for False positive decreases "
   ]
  },
  {
   "cell_type": "code",
   "execution_count": 17,
   "id": "72575600",
   "metadata": {},
   "outputs": [],
   "source": [
    "#all these stuff I did were for the first one \n",
    "# now I have to find the other ones "
   ]
  },
  {
   "cell_type": "markdown",
   "id": "f9be40ca",
   "metadata": {},
   "source": [
    "# 2-"
   ]
  },
  {
   "cell_type": "code",
   "execution_count": 18,
   "id": "8b905dfd",
   "metadata": {},
   "outputs": [],
   "source": [
    "# question = should I implement bitarray for this question as well"
   ]
  },
  {
   "cell_type": "markdown",
   "id": "f962ae89",
   "metadata": {},
   "source": [
    "n = m/epsilon <br>\n",
    "b = log( m/epsilon ,base = 2) <br>\n",
    "n = 2 ** b = m / epsilon bits  <br>\n",
    "based on above  <br>\n",
    "epsilon = m / 2 ** b"
   ]
  },
  {
   "cell_type": "code",
   "execution_count": 19,
   "id": "f77a683a",
   "metadata": {},
   "outputs": [],
   "source": [
    "m = len(verses_set) \n",
    "b = [i for i in range(19,24)]\n",
    "n= [2**i for i in b] \n",
    "# now based on the value of b and n we have to find different values for epsilon\n",
    "epsilons = []\n",
    "for i in n:\n",
    "    epsilons.append(m/i)"
   ]
  },
  {
   "cell_type": "code",
   "execution_count": 20,
   "id": "427f183e",
   "metadata": {},
   "outputs": [
    {
     "data": {
      "text/plain": [
       "[0.18468475341796875,\n",
       " 0.09234237670898438,\n",
       " 0.04617118835449219,\n",
       " 0.023085594177246094,\n",
       " 0.011542797088623047]"
      ]
     },
     "execution_count": 20,
     "metadata": {},
     "output_type": "execute_result"
    }
   ],
   "source": [
    "epsilons"
   ]
  },
  {
   "cell_type": "code",
   "execution_count": 21,
   "id": "0a36124e",
   "metadata": {},
   "outputs": [
    {
     "data": {
      "image/png": "[encoded data removed]",
      "text/plain": [
       "<Figure size 720x720 with 1 Axes>"
      ]
     },
     "metadata": {
      "needs_background": "light"
     },
     "output_type": "display_data"
    }
   ],
   "source": [
    "plt.figure(figsize=(10,10))\n",
    "plt.plot([i for i in range(19,24)],epsilons)\n",
    "plt.xlabel('memory')\n",
    "plt.ylabel('Epsilons')\n",
    "plt.figtext(0.5, 0, \"For memory, it's 2 to the power of what you see on the plot for the X axis\", ha=\"center\", fontsize=12, bbox={\"facecolor\":\"orange\", \"alpha\":0.5, \"pad\":5})\n",
    "plt.grid()\n",
    "plt.show()\n",
    "#based on theory"
   ]
  },
  {
   "cell_type": "markdown",
   "id": "313cc856",
   "metadata": {},
   "source": [
    "# 3-(have to double check this one)"
   ]
  },
  {
   "cell_type": "code",
   "execution_count": 36,
   "id": "ff78f503",
   "metadata": {},
   "outputs": [],
   "source": [
    "# how should I compare it? \n",
    "# should I write it in the report? or should I use it in the code? \n",
    "# should I just write a sentence for this question?\n",
    "# should I plot it?"
   ]
  },
  {
   "cell_type": "code",
   "execution_count": 37,
   "id": "5da3730b",
   "metadata": {},
   "outputs": [
    {
     "data": {
      "image/png": "[encoded data removed]",
      "text/plain": [
       "<Figure size 720x720 with 1 Axes>"
      ]
     },
     "metadata": {
      "needs_background": "light"
     },
     "output_type": "display_data"
    }
   ],
   "source": [
    "plt.figure(figsize=(10,10))\n",
    "plt.plot([i for i in range(19,24)],General_dict.values(), label = 'Simulation')\n",
    "plt.plot([i for i in range(19,24)],epsilons,label='Theory')\n",
    "plt.xlabel('Memory')\n",
    "plt.ylabel('Epsilons')\n",
    "plt.figtext(0.5, 0, \"For memory, it's 2 to the power of what you see on the plot for the X axis\", ha=\"center\", fontsize=12, bbox={\"facecolor\":\"orange\", \"alpha\":0.5, \"pad\":5})\n",
    "plt.grid()\n",
    "plt.legend()\n",
    "plt.show()"
   ]
  },
  {
   "cell_type": "markdown",
   "id": "e7c4cad5",
   "metadata": {},
   "source": [
    "<b>As you can see in the plots, these results follow the same pattern and behaviour </b>"
   ]
  },
  {
   "cell_type": "markdown",
   "id": "a6288747",
   "metadata": {},
   "source": [
    "# Final Version (After revision-haven't talked to the prof yet)"
   ]
  },
  {
   "cell_type": "markdown",
   "id": "bf4dacf2",
   "metadata": {},
   "source": [
    "# The question left: <br>\n",
    "how should I find the size of the simulation? <br>\n",
    "Should I just use asizeof.asizeof() on the bitarray containing stuff? (which stuff tho?)"
   ]
  },
  {
   "cell_type": "code",
   "execution_count": null,
   "id": "77f38761",
   "metadata": {},
   "outputs": [],
   "source": [
    "#based on what he said on the slide"
   ]
  },
  {
   "cell_type": "code",
   "execution_count": 33,
   "id": "11aca20b",
   "metadata": {},
   "outputs": [],
   "source": [
    "#fin the below = it's what he said in the class"
   ]
  },
  {
   "cell_type": "code",
   "execution_count": 39,
   "id": "edb67943",
   "metadata": {},
   "outputs": [],
   "source": [
    "# Probability(false positive) = number of ones/n(length of the array)"
   ]
  },
  {
   "cell_type": "markdown",
   "id": "fb11c12c",
   "metadata": {},
   "source": [
    "# 1-"
   ]
  },
  {
   "cell_type": "code",
   "execution_count": 29,
   "id": "5e5e8cec",
   "metadata": {},
   "outputs": [],
   "source": [
    "#P(false positive) = (#ones/n)\n",
    "bit_string_array_sim_sizes_bytes={}\n",
    "m = len(verses_set) \n",
    "bits= [i for i in range(19,24)]\n",
    "# n= [2**i for i in b]\n",
    "# n = m = 2 ** b\n",
    "General_dict={}\n",
    "for b in bits:\n",
    "    a=bitarray(2**b)\n",
    "    a.setall(0)\n",
    "    n=2**b\n",
    "    FP_count = 0\n",
    "    for i in verses_set:\n",
    "        temp=i\n",
    "        encoded=temp.encode('utf-8')\n",
    "        hashed=hashlib.md5(encoded)\n",
    "        int_hashed=int(hashed.hexdigest(), 16)\n",
    "        h = int_hashed % n\n",
    "        if a[h]==0:\n",
    "            a[h]=1\n",
    "        elif a[h]==1:\n",
    "            FP_count+=1 # it actually checks the number of collisions \n",
    "    #General_dict[n] = FP_count # this will give you the collisions and if you divide it by m then you have the FP\n",
    "    bit_string_array_sim_sizes_bytes[n]={a.count(1)/n:asizeof.asizeof(a)} #I'm adding this part to store the sizes and FP values\n",
    "    General_dict[n] = a.count(1)/n"
   ]
  },
  {
   "cell_type": "code",
   "execution_count": 30,
   "id": "6cf2f6fb",
   "metadata": {},
   "outputs": [
    {
     "data": {
      "text/plain": [
       "{524288: 0.16888427734375,\n",
       " 1048576: 0.08826446533203125,\n",
       " 2097152: 0.04514932632446289,\n",
       " 4194304: 0.022835254669189453,\n",
       " 8388608: 0.011480927467346191}"
      ]
     },
     "execution_count": 30,
     "metadata": {},
     "output_type": "execute_result"
    }
   ],
   "source": [
    "General_dict"
   ]
  },
  {
   "cell_type": "code",
   "execution_count": 31,
   "id": "41172033",
   "metadata": {},
   "outputs": [
    {
     "data": {
      "image/png": "[encoded data removed]",
      "text/plain": [
       "<Figure size 720x720 with 1 Axes>"
      ]
     },
     "metadata": {
      "needs_background": "light"
     },
     "output_type": "display_data"
    }
   ],
   "source": [
    "plt.figure(figsize=(10,10))\n",
    "plt.plot([i for i in range(19,24)],General_dict.values())\n",
    "plt.xlabel('Memory')\n",
    "plt.ylabel('Epsilons')\n",
    "plt.figtext(0.5, 0, \"For memory, it's 2 to the power of what you see on the plot for the X axis\", ha=\"center\", fontsize=12, bbox={\"facecolor\":\"orange\", \"alpha\":0.5, \"pad\":5})\n",
    "plt.grid()\n",
    "# plt.savefig('bitstring_array_question_one')\n",
    "plt.show()"
   ]
  },
  {
   "cell_type": "code",
   "execution_count": 32,
   "id": "591d808f",
   "metadata": {},
   "outputs": [],
   "source": [
    "#i'm doing the below part to calculate the size of bit arrays in kb"
   ]
  },
  {
   "cell_type": "code",
   "execution_count": 33,
   "id": "2aa8c06c",
   "metadata": {},
   "outputs": [
    {
     "data": {
      "text/plain": [
       "{524288: {0.16888427734375: 65616},\n",
       " 1048576: {0.08826446533203125: 131152},\n",
       " 2097152: {0.04514932632446289: 262224},\n",
       " 4194304: {0.022835254669189453: 524368},\n",
       " 8388608: {0.011480927467346191: 1048656}}"
      ]
     },
     "execution_count": 33,
     "metadata": {},
     "output_type": "execute_result"
    }
   ],
   "source": [
    "bit_string_array_sim_sizes_bytes # sizes are in bytes"
   ]
  },
  {
   "cell_type": "code",
   "execution_count": 53,
   "id": "72d38a11",
   "metadata": {},
   "outputs": [
    {
     "ename": "TypeError",
     "evalue": "unsupported operand type(s) for /: 'dict' and 'int'",
     "output_type": "error",
     "traceback": [
      "\u001b[1;31m---------------------------------------------------------------------------\u001b[0m",
      "\u001b[1;31mTypeError\u001b[0m                                 Traceback (most recent call last)",
      "\u001b[1;32m~\\AppData\\Local\\Temp/ipykernel_12080/249749582.py\u001b[0m in \u001b[0;36m<module>\u001b[1;34m\u001b[0m\n\u001b[0;32m      1\u001b[0m \u001b[1;32mfor\u001b[0m \u001b[0mi\u001b[0m \u001b[1;32min\u001b[0m \u001b[0mbit_string_array_sim_sizes_bytes\u001b[0m\u001b[1;33m.\u001b[0m\u001b[0mvalues\u001b[0m\u001b[1;33m(\u001b[0m\u001b[1;33m)\u001b[0m\u001b[1;33m:\u001b[0m\u001b[1;33m\u001b[0m\u001b[1;33m\u001b[0m\u001b[0m\n\u001b[1;32m----> 2\u001b[1;33m     \u001b[0mprint\u001b[0m\u001b[1;33m(\u001b[0m\u001b[0mi\u001b[0m\u001b[1;33m/\u001b[0m\u001b[1;36m2\u001b[0m\u001b[1;33m)\u001b[0m\u001b[1;33m\u001b[0m\u001b[1;33m\u001b[0m\u001b[0m\n\u001b[0m",
      "\u001b[1;31mTypeError\u001b[0m: unsupported operand type(s) for /: 'dict' and 'int'"
     ]
    }
   ],
   "source": [
    "for i in bit_string_array_sim_sizes_bytes.values():"
   ]
  },
  {
   "cell_type": "markdown",
   "id": "9fb1ce2f",
   "metadata": {},
   "source": [
    "# 2-"
   ]
  },
  {
   "cell_type": "code",
   "execution_count": 40,
   "id": "c8bd3cfa",
   "metadata": {},
   "outputs": [],
   "source": [
    "m = len(verses_set) \n",
    "b = [i for i in range(19,24)]\n",
    "n= [2**i for i in b] \n",
    "# now based on the value of b and n we have to find different values for epsilon\n",
    "epsilons = []\n",
    "for i in n:\n",
    "    epsilons.append(m/i)"
   ]
  },
  {
   "cell_type": "code",
   "execution_count": 84,
   "id": "8a248484",
   "metadata": {},
   "outputs": [
    {
     "data": {
      "image/png": "[encoded data removed]",
      "text/plain": [
       "<Figure size 720x720 with 1 Axes>"
      ]
     },
     "metadata": {
      "needs_background": "light"
     },
     "output_type": "display_data"
    }
   ],
   "source": [
    "plt.figure(figsize=(10,10))\n",
    "plt.plot([i for i in range(19,24)],epsilons)\n",
    "plt.xlabel('memory')\n",
    "plt.ylabel('Epsilons')\n",
    "plt.figtext(0.5, 0, \"For memory, it's 2 to the power of what you see on the plot for the X axis\", ha=\"center\", fontsize=12, bbox={\"facecolor\":\"orange\", \"alpha\":0.5, \"pad\":5})\n",
    "plt.grid()\n",
    "# plt.savefig('bitstring_array_question_two')\n",
    "plt.show()\n",
    "#based on theory"
   ]
  },
  {
   "cell_type": "markdown",
   "id": "32472304",
   "metadata": {},
   "source": [
    "# 3-"
   ]
  },
  {
   "cell_type": "code",
   "execution_count": 86,
   "id": "6313abf6",
   "metadata": {},
   "outputs": [
    {
     "data": {
      "image/png": "[encoded data removed]",
      "text/plain": [
       "<Figure size 720x720 with 1 Axes>"
      ]
     },
     "metadata": {
      "needs_background": "light"
     },
     "output_type": "display_data"
    }
   ],
   "source": [
    "plt.figure(figsize=(10,10))\n",
    "plt.plot([i for i in range(19,24)],General_dict.values(), label = 'Simulation')\n",
    "plt.plot([i for i in range(19,24)],epsilons,label='Theory')\n",
    "plt.xlabel('Memory')\n",
    "plt.ylabel('Epsilons')\n",
    "plt.figtext(0.5, 0, \"For memory, it's 2 to the power of what you see on the plot for the X axis\", ha=\"center\", fontsize=12, bbox={\"facecolor\":\"orange\", \"alpha\":0.5, \"pad\":5})\n",
    "plt.grid()\n",
    "plt.legend()\n",
    "# plt.savefig('bitstring_array_question_three')\n",
    "plt.show()"
   ]
  },
  {
   "cell_type": "code",
   "execution_count": 43,
   "id": "a7ffa202",
   "metadata": {},
   "outputs": [],
   "source": [
    "# Buth the simulation and the theory are close to each other and they should be like this based on what the prof said\n",
    "# in the session of 19th of December"
   ]
  },
  {
   "cell_type": "markdown",
   "id": "67badd58",
   "metadata": {},
   "source": [
    "# 4- (have to ask about this question= Done) <br>\n",
    "I don't undrestand this question <br>\n",
    "In which sense should we compare it to Bexp?"
   ]
  },
  {
   "cell_type": "markdown",
   "id": "7355776d",
   "metadata": {},
   "source": [
    "I have the same doubts for this question as the ones I had for the third one <br>\n"
   ]
  },
  {
   "cell_type": "code",
   "execution_count": 42,
   "id": "f7ad92f2",
   "metadata": {},
   "outputs": [],
   "source": [
    "# how should I compare it? \n",
    "# should I write it in the report? or should I use it in the code? \n",
    "# should I just write a sentence for this question?\n",
    "# should I plot it?"
   ]
  },
  {
   "cell_type": "code",
   "execution_count": 43,
   "id": "5db8bd60",
   "metadata": {},
   "outputs": [],
   "source": [
    "#same Bexp, same Epsilon but we get a smaller file (size)"
   ]
  },
  {
   "cell_type": "code",
   "execution_count": null,
   "id": "f7e8c5b6",
   "metadata": {},
   "outputs": [],
   "source": [
    "#have to analyze the regarding the size of the files I guess"
   ]
  },
  {
   "cell_type": "markdown",
   "id": "03ae73f9",
   "metadata": {},
   "source": [
    "# Bloom Filters \n"
   ]
  },
  {
   "cell_type": "markdown",
   "id": "fa00321b",
   "metadata": {},
   "source": [
    "Useful link: https://brilliant.org/wiki/bloom-filter/#:~:text=A%20bloom%20filter%20also%20includes,in%20the%20array%20is%201."
   ]
  },
  {
   "cell_type": "code",
   "execution_count": 44,
   "id": "a030bc51",
   "metadata": {},
   "outputs": [],
   "source": [
    "# should we implemet it or can we just use the pip library?\n",
    "# no we shouldn't use it "
   ]
  },
  {
   "cell_type": "markdown",
   "id": "ebf130af",
   "metadata": {},
   "source": [
    "https://pypi.org/project/bloom-filter/"
   ]
  },
  {
   "cell_type": "markdown",
   "id": "04f049a2",
   "metadata": {},
   "source": [
    "# 1-(have to double check this one)"
   ]
  },
  {
   "cell_type": "markdown",
   "id": "4cf70cca",
   "metadata": {},
   "source": [
    "# My approach that seems more like a simulation"
   ]
  },
  {
   "cell_type": "code",
   "execution_count": 45,
   "id": "40ef4319",
   "metadata": {},
   "outputs": [],
   "source": [
    "# how should we find the opimum number of hash functions? \n",
    "# what should we iterate over?\n",
    "# by analytically it means that we only have to use the formula? if yes, then which formula is it?"
   ]
  },
  {
   "cell_type": "code",
   "execution_count": 170,
   "id": "62315676",
   "metadata": {},
   "outputs": [],
   "source": [
    "#I think the first solution is the right one "
   ]
  },
  {
   "cell_type": "code",
   "execution_count": 29,
   "id": "fff141d6",
   "metadata": {},
   "outputs": [],
   "source": [
    "num_b =[j for j in range(19,24)]\n",
    "m=len(verses_set)\n",
    "n_num=[2**i for i in num_b]\n",
    "hash_num=[i for i in range(2,21)]\n",
    "\n",
    "bloom_filter_dict={}\n",
    "\n",
    "\n",
    "for n in n_num:\n",
    "    memory_dict={}\n",
    "    for k in hash_num:\n",
    "        a=bitarray(n) # a bitarray with lenght of  n\n",
    "        a.setall(0) # setting all equal to zero\n",
    "        false_count=0\n",
    "        for i in verses_set:\n",
    "            FP_count = 0\n",
    "            for j in range(k):\n",
    "                temp=i + str(j)\n",
    "                encoded=temp.encode('utf-8')\n",
    "                hashed=hashlib.md5(encoded)\n",
    "                int_hashed=int(hashed.hexdigest(), 16)\n",
    "                h = int_hashed % n\n",
    "                if a[h]==0:\n",
    "                    a[h]=1\n",
    "                elif a[h]==1:\n",
    "                    FP_count+=1 # it actually checks the number of collisions \n",
    "            if FP_count==k:\n",
    "                false_count+=1\n",
    "\n",
    "        memory_dict[k] = false_count/n\n",
    "    bloom_filter_dict[n]=memory_dict\n",
    "#P(FB) = (a.count(1)/m)**k lol"
   ]
  },
  {
   "cell_type": "code",
   "execution_count": 30,
   "id": "459f5920",
   "metadata": {},
   "outputs": [
    {
     "data": {
      "text/plain": [
       "{524288: {2: 0.00653076171875,\n",
       "  3: 0.0041446685791015625,\n",
       "  4: 0.003482818603515625,\n",
       "  5: 0.0033321380615234375,\n",
       "  6: 0.003681182861328125,\n",
       "  7: 0.0040760040283203125,\n",
       "  8: 0.0046825408935546875,\n",
       "  9: 0.0053882598876953125,\n",
       "  10: 0.0065135955810546875,\n",
       "  11: 0.0077419281005859375,\n",
       "  12: 0.009241104125976562,\n",
       "  13: 0.010805130004882812,\n",
       "  14: 0.012783050537109375,\n",
       "  15: 0.0147247314453125,\n",
       "  16: 0.017091751098632812,\n",
       "  17: 0.019411087036132812,\n",
       "  18: 0.021810531616210938,\n",
       "  19: 0.024534225463867188,\n",
       "  20: 0.027299880981445312},\n",
       " 1048576: {2: 0.0009374618530273438,\n",
       "  3: 0.000324249267578125,\n",
       "  4: 0.0001811981201171875,\n",
       "  5: 0.0001125335693359375,\n",
       "  6: 8.392333984375e-05,\n",
       "  7: 8.678436279296875e-05,\n",
       "  8: 7.724761962890625e-05,\n",
       "  9: 6.866455078125e-05,\n",
       "  10: 8.7738037109375e-05,\n",
       "  11: 8.0108642578125e-05,\n",
       "  12: 8.96453857421875e-05,\n",
       "  13: 0.00010395050048828125,\n",
       "  14: 0.00011157989501953125,\n",
       "  15: 0.00015735626220703125,\n",
       "  16: 0.00018787384033203125,\n",
       "  17: 0.0002117156982421875,\n",
       "  18: 0.00024318695068359375,\n",
       "  19: 0.00028228759765625,\n",
       "  20: 0.00033664703369140625},\n",
       " 2097152: {2: 0.00011873245239257812,\n",
       "  3: 2.09808349609375e-05,\n",
       "  4: 5.7220458984375e-06,\n",
       "  5: 2.86102294921875e-06,\n",
       "  6: 2.384185791015625e-06,\n",
       "  7: 9.5367431640625e-07,\n",
       "  8: 0.0,\n",
       "  9: 0.0,\n",
       "  10: 0.0,\n",
       "  11: 0.0,\n",
       "  12: 0.0,\n",
       "  13: 4.76837158203125e-07,\n",
       "  14: 0.0,\n",
       "  15: 0.0,\n",
       "  16: 0.0,\n",
       "  17: 0.0,\n",
       "  18: 0.0,\n",
       "  19: 0.0,\n",
       "  20: 0.0},\n",
       " 4194304: {2: 1.430511474609375e-05,\n",
       "  3: 1.1920928955078125e-06,\n",
       "  4: 2.384185791015625e-07,\n",
       "  5: 0.0,\n",
       "  6: 0.0,\n",
       "  7: 0.0,\n",
       "  8: 0.0,\n",
       "  9: 0.0,\n",
       "  10: 0.0,\n",
       "  11: 0.0,\n",
       "  12: 0.0,\n",
       "  13: 0.0,\n",
       "  14: 0.0,\n",
       "  15: 0.0,\n",
       "  16: 0.0,\n",
       "  17: 0.0,\n",
       "  18: 0.0,\n",
       "  19: 0.0,\n",
       "  20: 0.0},\n",
       " 8388608: {2: 1.0728836059570312e-06,\n",
       "  3: 0.0,\n",
       "  4: 0.0,\n",
       "  5: 0.0,\n",
       "  6: 0.0,\n",
       "  7: 0.0,\n",
       "  8: 0.0,\n",
       "  9: 0.0,\n",
       "  10: 0.0,\n",
       "  11: 0.0,\n",
       "  12: 0.0,\n",
       "  13: 0.0,\n",
       "  14: 0.0,\n",
       "  15: 0.0,\n",
       "  16: 0.0,\n",
       "  17: 0.0,\n",
       "  18: 0.0,\n",
       "  19: 0.0,\n",
       "  20: 0.0}}"
      ]
     },
     "execution_count": 30,
     "metadata": {},
     "output_type": "execute_result"
    }
   ],
   "source": [
    "bloom_filter_dict"
   ]
  },
  {
   "cell_type": "code",
   "execution_count": 31,
   "id": "2db7fb6c",
   "metadata": {},
   "outputs": [],
   "source": [
    "#I have to find the \n",
    "min_bloom_filters={}\n",
    "for k,v in bloom_filter_dict.items():\n",
    "    min_val=0\n",
    "    counter=0\n",
    "    for k2,v2 in v.items():\n",
    "        if counter == 0:\n",
    "            min_val={k2:v2}\n",
    "            counter+=1\n",
    "            temp=v2\n",
    "        elif v2<temp:\n",
    "            min_val={k2:v2}\n",
    "            temp=v2\n",
    "    min_bloom_filters[k]=min_val     "
   ]
  },
  {
   "cell_type": "code",
   "execution_count": 46,
   "id": "32ee04c1",
   "metadata": {},
   "outputs": [
    {
     "data": {
      "text/plain": [
       "{524288: {5: 0.0033321380615234375},\n",
       " 1048576: {9: 6.866455078125e-05},\n",
       " 2097152: {8: 0.0},\n",
       " 4194304: {5: 0.0},\n",
       " 8388608: {3: 0.0}}"
      ]
     },
     "execution_count": 46,
     "metadata": {},
     "output_type": "execute_result"
    }
   ],
   "source": [
    "min_bloom_filters # this can be used for the second question"
   ]
  },
  {
   "cell_type": "code",
   "execution_count": null,
   "id": "2d13453b",
   "metadata": {},
   "outputs": [],
   "source": [
    "#on the cell above we have the optimal values for k for each value of n"
   ]
  },
  {
   "cell_type": "code",
   "execution_count": null,
   "id": "1b170e5d",
   "metadata": {},
   "outputs": [],
   "source": [
    "#based on the dictionary we have to find the optimal value of K for each n = 2 ** b"
   ]
  },
  {
   "cell_type": "code",
   "execution_count": 32,
   "id": "b8f7d65c",
   "metadata": {},
   "outputs": [
    {
     "data": {
      "image/png": "[encoded data removed]",
      "text/plain": [
       "<Figure size 720x720 with 1 Axes>"
      ]
     },
     "metadata": {
      "needs_background": "light"
     },
     "output_type": "display_data"
    }
   ],
   "source": [
    "counter=19\n",
    "plt.figure(figsize=(10,10))\n",
    "for k,v in bloom_filter_dict.items():\n",
    "    plt.plot(v.keys(),v.values(), label = f'2**{counter}')\n",
    "    plt.xlabel('Number of Hashes')\n",
    "    plt.ylabel('Epsilons')\n",
    "    plt.figtext(0.5, 0, \"For memory, it's 2 to the power of what you see on the plot for the X axis\", ha=\"center\", fontsize=12, bbox={\"facecolor\":\"orange\", \"alpha\":0.5, \"pad\":5})\n",
    "    plt.grid()\n",
    "    plt.legend()\n",
    "    counter+=1\n",
    "plt.show()"
   ]
  },
  {
   "cell_type": "markdown",
   "id": "885f8902",
   "metadata": {},
   "source": [
    "The above solution is the one I have in mind"
   ]
  },
  {
   "cell_type": "markdown",
   "id": "4466d9f8",
   "metadata": {},
   "source": [
    "It's either the above one or the one below"
   ]
  },
  {
   "cell_type": "markdown",
   "id": "1b4d7063",
   "metadata": {},
   "source": [
    "# Mamrez approach"
   ]
  },
  {
   "cell_type": "markdown",
   "id": "5c520d1e",
   "metadata": {},
   "source": [
    "<b>It's  also possible to do this as well (based on what mohammadreza said)</b>"
   ]
  },
  {
   "cell_type": "code",
   "execution_count": 12,
   "id": "90db2f57",
   "metadata": {},
   "outputs": [],
   "source": [
    "num_b =[j for j in range(19,24)]\n",
    "m=len(verses_set)\n",
    "n_num=[2**i for i in num_b]\n",
    "hash_num=[(i/m)*math.log(2) for i in n_num]\n",
    "hash_num_floor=[math.floor(i) for i in hash_num]\n",
    "hash_num_ceil=[math.ceil(j) for j in hash_num]"
   ]
  },
  {
   "cell_type": "code",
   "execution_count": 15,
   "id": "b2d2e0a6",
   "metadata": {},
   "outputs": [
    {
     "data": {
      "image/png": "[encoded data removed]",
      "text/plain": [
       "<Figure size 720x720 with 1 Axes>"
      ]
     },
     "metadata": {
      "needs_background": "light"
     },
     "output_type": "display_data"
    }
   ],
   "source": [
    "plt.figure(figsize=(10,10))\n",
    "plt.plot(n_num,hash_num_ceil)\n",
    "plt.xlabel('Number of Hashes')\n",
    "plt.ylabel('Memroy')\n",
    "plt.grid()\n",
    "plt.show()"
   ]
  },
  {
   "cell_type": "code",
   "execution_count": 121,
   "id": "3baaf349",
   "metadata": {},
   "outputs": [
    {
     "ename": "NameError",
     "evalue": "name 'hash_num_floor' is not defined",
     "output_type": "error",
     "traceback": [
      "\u001b[1;31m---------------------------------------------------------------------------\u001b[0m",
      "\u001b[1;31mNameError\u001b[0m                                 Traceback (most recent call last)",
      "\u001b[1;32m~\\AppData\\Local\\Temp/ipykernel_13656/428163370.py\u001b[0m in \u001b[0;36m<module>\u001b[1;34m\u001b[0m\n\u001b[0;32m      1\u001b[0m \u001b[0mplt\u001b[0m\u001b[1;33m.\u001b[0m\u001b[0mfigure\u001b[0m\u001b[1;33m(\u001b[0m\u001b[0mfigsize\u001b[0m\u001b[1;33m=\u001b[0m\u001b[1;33m(\u001b[0m\u001b[1;36m10\u001b[0m\u001b[1;33m,\u001b[0m\u001b[1;36m10\u001b[0m\u001b[1;33m)\u001b[0m\u001b[1;33m)\u001b[0m\u001b[1;33m\u001b[0m\u001b[1;33m\u001b[0m\u001b[0m\n\u001b[1;32m----> 2\u001b[1;33m \u001b[0mplt\u001b[0m\u001b[1;33m.\u001b[0m\u001b[0mplot\u001b[0m\u001b[1;33m(\u001b[0m\u001b[0mn_num\u001b[0m\u001b[1;33m,\u001b[0m\u001b[0mhash_num_floor\u001b[0m\u001b[1;33m)\u001b[0m\u001b[1;33m\u001b[0m\u001b[1;33m\u001b[0m\u001b[0m\n\u001b[0m\u001b[0;32m      3\u001b[0m \u001b[0mplt\u001b[0m\u001b[1;33m.\u001b[0m\u001b[0mxlabel\u001b[0m\u001b[1;33m(\u001b[0m\u001b[1;34m'Number of Hashes'\u001b[0m\u001b[1;33m)\u001b[0m\u001b[1;33m\u001b[0m\u001b[1;33m\u001b[0m\u001b[0m\n\u001b[0;32m      4\u001b[0m \u001b[0mplt\u001b[0m\u001b[1;33m.\u001b[0m\u001b[0mylabel\u001b[0m\u001b[1;33m(\u001b[0m\u001b[1;34m'Memory'\u001b[0m\u001b[1;33m)\u001b[0m\u001b[1;33m\u001b[0m\u001b[1;33m\u001b[0m\u001b[0m\n\u001b[0;32m      5\u001b[0m \u001b[0mplt\u001b[0m\u001b[1;33m.\u001b[0m\u001b[0mgrid\u001b[0m\u001b[1;33m(\u001b[0m\u001b[1;33m)\u001b[0m\u001b[1;33m\u001b[0m\u001b[1;33m\u001b[0m\u001b[0m\n",
      "\u001b[1;31mNameError\u001b[0m: name 'hash_num_floor' is not defined"
     ]
    },
    {
     "data": {
      "text/plain": [
       "<Figure size 720x720 with 0 Axes>"
      ]
     },
     "metadata": {},
     "output_type": "display_data"
    }
   ],
   "source": [
    "plt.figure(figsize=(10,10))\n",
    "plt.plot(n_num,hash_num_floor)\n",
    "plt.xlabel('Number of Hashes')\n",
    "plt.ylabel('Memory')\n",
    "plt.grid()\n",
    "plt.show()"
   ]
  },
  {
   "cell_type": "code",
   "execution_count": null,
   "id": "ec4f1fa6",
   "metadata": {},
   "outputs": [],
   "source": [
    "#The best option is the mix of both of the above options \n",
    "# both of the plots "
   ]
  },
  {
   "cell_type": "markdown",
   "id": "91d438ce",
   "metadata": {},
   "source": [
    "I also have done this: (this is stupid I guess)"
   ]
  },
  {
   "cell_type": "code",
   "execution_count": 142,
   "id": "773ce568",
   "metadata": {},
   "outputs": [],
   "source": [
    "num_b =[j for j in range(19,24)]\n",
    "m=len(verses_set)\n",
    "n_num=[2**i for i in num_b]\n",
    "hash_num=[(i/m)*math.log(2) for i in n_num]\n",
    "hash_num_floor=[math.floor(i) for i in hash_num]\n",
    "hash_num_ceil=[math.ceil(j) for j in hash_num]\n",
    "bloom_filter_dict_floor={}\n",
    "bloom_filter_dict_ceil={}\n",
    "\n",
    "\n",
    "for k in hash_num_ceil:\n",
    "    memory_dict={}\n",
    "    for n in n_num:\n",
    "        a=bitarray(n) # a bitarray with lenght of  n\n",
    "        a.setall(0) # setting all equal to zero\n",
    "        false_count=0\n",
    "        for i in verses_set:\n",
    "            FP_count = 0\n",
    "            for j in range(k):\n",
    "                temp=i + str(j)\n",
    "                encoded=temp.encode('utf-8')\n",
    "                hashed=hashlib.md5(encoded)\n",
    "                int_hashed=int(hashed.hexdigest(), 16)\n",
    "                h = int_hashed % n\n",
    "                if a[h]==0:\n",
    "                    a[h]=1\n",
    "                elif a[h]==1:\n",
    "                    FP_count+=1 # it actually checks the number of collisions \n",
    "            if FP_count==k:\n",
    "                false_count+=1\n",
    "\n",
    "        memory_dict[n] = false_count/m\n",
    "    bloom_filter_dict_ceil[k]=memory_dict\n",
    "\n",
    "    \n",
    "    \n",
    "for k in hash_num_floor:\n",
    "    memory_dict={}\n",
    "    for n in n_num:\n",
    "        a=bitarray(n) # a bitarray with lenght of  n\n",
    "        a.setall(0) # setting all equal to zero\n",
    "        false_count=0\n",
    "        for i in verses_set:\n",
    "            FP_count = 0\n",
    "            for j in range(k):\n",
    "                temp=i + str(j)\n",
    "                encoded=temp.encode('utf-8')\n",
    "                hashed=hashlib.md5(encoded)\n",
    "                int_hashed=int(hashed.hexdigest(), 16)\n",
    "                h = int_hashed % n\n",
    "                if a[h]==0:\n",
    "                    a[h]=1\n",
    "                elif a[h]==1:\n",
    "                    FP_count+=1 # it actually checks the number of collisions \n",
    "            if FP_count==k:\n",
    "                false_count+=1\n",
    "\n",
    "        memory_dict[n] = false_count/m\n",
    "    bloom_filter_dict_floor[k]=memory_dict    "
   ]
  },
  {
   "cell_type": "code",
   "execution_count": 143,
   "id": "3a049c86",
   "metadata": {},
   "outputs": [
    {
     "data": {
      "text/plain": [
       "{4: {524288: 0.018982112612054364,\n",
       "  1048576: 0.0018486388234808114,\n",
       "  2097152: 0.0001962242326599744,\n",
       "  4194304: 1.0327591192630232e-05,\n",
       "  8388608: 0.0},\n",
       " 8: {524288: 0.02506506382451357,\n",
       "  1048576: 0.0007435865658693766,\n",
       "  2097152: 0.0,\n",
       "  4194304: 0.0,\n",
       "  8388608: 0.0},\n",
       " 16: {524288: 0.09160573387863015,\n",
       "  1048576: 0.0017350353203618787,\n",
       "  2097152: 0.0,\n",
       "  4194304: 0.0,\n",
       "  8388608: 0.0},\n",
       " 31: {524288: 0.3138864791176106,\n",
       "  1048576: 0.02138844135993721,\n",
       "  2097152: 3.098277357789069e-05,\n",
       "  4194304: 0.0,\n",
       "  8388608: 0.0},\n",
       " 61: {524288: 0.5849237823769984,\n",
       "  1048576: 0.20361878795389762,\n",
       "  2097152: 0.0016007766348576859,\n",
       "  4194304: 0.0,\n",
       "  8388608: 0.0}}"
      ]
     },
     "execution_count": 143,
     "metadata": {},
     "output_type": "execute_result"
    }
   ],
   "source": [
    "bloom_filter_dict_ceil"
   ]
  },
  {
   "cell_type": "code",
   "execution_count": 144,
   "id": "0fc11bbe",
   "metadata": {},
   "outputs": [
    {
     "data": {
      "text/plain": [
       "{3: {524288: 0.022183665881769735,\n",
       "  1048576: 0.0038625191060437064,\n",
       "  2097152: 0.0005163795596315116,\n",
       "  4194304: 6.196554715578138e-05,\n",
       "  8388608: 2.0655182385260463e-05},\n",
       " 7: {524288: 0.021305820630396165,\n",
       "  1048576: 0.0008675176601809394,\n",
       "  2097152: 2.0655182385260463e-05,\n",
       "  4194304: 0.0,\n",
       "  8388608: 0.0},\n",
       " 15: {524288: 0.07847936547279713,\n",
       "  1048576: 0.0017143801379766184,\n",
       "  2097152: 0.0,\n",
       "  4194304: 0.0,\n",
       "  8388608: 0.0},\n",
       " 30: {524288: 0.2994278514479283,\n",
       "  1048576: 0.018589664146734415,\n",
       "  2097152: 1.0327591192630232e-05,\n",
       "  4194304: 0.0,\n",
       "  8388608: 0.0},\n",
       " 60: {524288: 0.5791506589003181,\n",
       "  1048576: 0.1966786466724501,\n",
       "  2097152: 0.0014148799933903417,\n",
       "  4194304: 0.0,\n",
       "  8388608: 0.0}}"
      ]
     },
     "execution_count": 144,
     "metadata": {},
     "output_type": "execute_result"
    }
   ],
   "source": [
    "bloom_filter_dict_floor"
   ]
  },
  {
   "cell_type": "code",
   "execution_count": 145,
   "id": "13f3845d",
   "metadata": {},
   "outputs": [
    {
     "data": {
      "image/png": "[encoded data removed]",
      "text/plain": [
       "<Figure size 720x720 with 1 Axes>"
      ]
     },
     "metadata": {
      "needs_background": "light"
     },
     "output_type": "display_data"
    },
    {
     "data": {
      "image/png": "[encoded data removed]",
      "text/plain": [
       "<Figure size 720x720 with 1 Axes>"
      ]
     },
     "metadata": {
      "needs_background": "light"
     },
     "output_type": "display_data"
    }
   ],
   "source": [
    "counter=19\n",
    "plt.figure(figsize=(10,10))\n",
    "for k,v in bloom_filter_dict_ceil.items():\n",
    "    plt.plot(hash_num_ceil,v.values(), label = f'2**{counter}')\n",
    "    plt.xlabel('Number of Hashes')\n",
    "    plt.ylabel('Epsilons')\n",
    "    plt.figtext(0.5, 0, \"For memory, it's 2 to the power of what you see on the plot for the X axis\", ha=\"center\", fontsize=12, bbox={\"facecolor\":\"orange\", \"alpha\":0.5, \"pad\":5})\n",
    "    plt.grid()\n",
    "    plt.legend()\n",
    "    counter+=1\n",
    "plt.show()\n",
    "\n",
    "\n",
    "counter=19\n",
    "plt.figure(figsize=(10,10))\n",
    "for k,v in bloom_filter_dict_floor.items():\n",
    "    plt.plot(hash_num_ceil,v.values(), label = f'2**{counter}')\n",
    "    plt.xlabel('Number of Hashes')\n",
    "    plt.ylabel('Epsilons')\n",
    "    plt.figtext(0.5, 0, \"For memory, it's 2 to the power of what you see on the plot for the X axis\", ha=\"center\", fontsize=12, bbox={\"facecolor\":\"orange\", \"alpha\":0.5, \"pad\":5})\n",
    "    plt.grid()\n",
    "    plt.legend()\n",
    "    counter+=1\n",
    "plt.show()"
   ]
  },
  {
   "cell_type": "code",
   "execution_count": null,
   "id": "ce63ca6f",
   "metadata": {},
   "outputs": [],
   "source": [
    "#Kopt = n/m log(2)\n",
    "# I think we have compute k with the values we have for n/m and epsilon"
   ]
  },
  {
   "cell_type": "markdown",
   "id": "111903fd",
   "metadata": {},
   "source": [
    "I also have done this: (this is stupid I guess)"
   ]
  },
  {
   "cell_type": "code",
   "execution_count": null,
   "id": "00fabff7",
   "metadata": {},
   "outputs": [],
   "source": [
    "num_b =[j for j in range(19,24)]\n",
    "m=len(verses_set)\n",
    "n_num=[2**i for i in num_b]\n",
    "hash_num=[(i/m)*math.log(2) for i in n_num]\n",
    "hash_num_floor=[math.floor(i) for i in hash_num]\n",
    "hash_num_ceil=[math.ceil(j) for j in hash_num]\n",
    "bloom_filter_dict_floor={}\n",
    "bloom_filter_dict_ceil={}\n",
    "\n",
    "\n",
    "for k in hash_num_ceil:\n",
    "    memory_dict={}\n",
    "    for n in n_num:\n",
    "        a=bitarray(n) # a bitarray with lenght of  n\n",
    "        a.setall(0) # setting all equal to zero\n",
    "        false_count=0\n",
    "        for i in verses_set:\n",
    "            FP_count = 0\n",
    "            for j in range(k):\n",
    "                temp=i + str(j)\n",
    "                encoded=temp.encode('utf-8')\n",
    "                hashed=hashlib.md5(encoded)\n",
    "                int_hashed=int(hashed.hexdigest(), 16)\n",
    "                h = int_hashed % n\n",
    "                if a[h]==0:\n",
    "                    a[h]=1\n",
    "                elif a[h]==1:\n",
    "                    FP_count+=1 # it actually checks the number of collisions \n",
    "            if FP_count==k:\n",
    "                false_count+=1\n",
    "\n",
    "        memory_dict[n] = false_count/m\n",
    "    bloom_filter_dict_ceil[k]=memory_dict\n",
    "\n",
    "    \n",
    "    \n",
    "for k in hash_num_floor:\n",
    "    memory_dict={}\n",
    "    for n in n_num:\n",
    "        a=bitarray(n) # a bitarray with lenght of  n\n",
    "        a.setall(0) # setting all equal to zero\n",
    "        false_count=0\n",
    "        for i in verses_set:\n",
    "            FP_count = 0\n",
    "            for j in range(k):\n",
    "                temp=i + str(j)\n",
    "                encoded=temp.encode('utf-8')\n",
    "                hashed=hashlib.md5(encoded)\n",
    "                int_hashed=int(hashed.hexdigest(), 16)\n",
    "                h = int_hashed % n\n",
    "                if a[h]==0:\n",
    "                    a[h]=1\n",
    "                elif a[h]==1:\n",
    "                    FP_count+=1 # it actually checks the number of collisions \n",
    "            if FP_count==k:\n",
    "                false_count+=1\n",
    "\n",
    "        memory_dict[n] = false_count/m\n",
    "    bloom_filter_dict_floor[k]=memory_dict    "
   ]
  },
  {
   "cell_type": "markdown",
   "id": "903b3a3f",
   "metadata": {},
   "source": [
    "# 2-"
   ]
  },
  {
   "cell_type": "markdown",
   "id": "70fd0e6d",
   "metadata": {},
   "source": [
    "# first approach"
   ]
  },
  {
   "cell_type": "code",
   "execution_count": 46,
   "id": "46aba14b",
   "metadata": {},
   "outputs": [],
   "source": [
    "# we have to use the optimal hash number and use the thoery to find the probability of false positive.\n",
    "# which formula should we use?"
   ]
  },
  {
   "cell_type": "code",
   "execution_count": 47,
   "id": "07bbcc66",
   "metadata": {},
   "outputs": [],
   "source": [
    "#page 40 and aslo 29"
   ]
  },
  {
   "cell_type": "code",
   "execution_count": null,
   "id": "c4eceda5",
   "metadata": {},
   "outputs": [],
   "source": [
    "# the right values are n = 2** 19 and k =4 based on the plot "
   ]
  },
  {
   "cell_type": "code",
   "execution_count": 146,
   "id": "b144cbf4",
   "metadata": {},
   "outputs": [],
   "source": [
    "# gonna use the formula in page 29 of slide 12\n",
    "# (1 - e ** -k*m/n) ** k"
   ]
  },
  {
   "cell_type": "markdown",
   "id": "def7930b",
   "metadata": {},
   "source": [
    "for each k that we have and for the corresponding n, we have to find the value for epsilon and plot it  "
   ]
  },
  {
   "cell_type": "code",
   "execution_count": 76,
   "id": "fba52ae5",
   "metadata": {},
   "outputs": [],
   "source": [
    "# min_bloom_filters #the values optained from the first question(my own approach)"
   ]
  },
  {
   "cell_type": "code",
   "execution_count": 35,
   "id": "7e83e551",
   "metadata": {},
   "outputs": [],
   "source": [
    "min_bloom_filters # contains the values for k and n , based on the value in this dictionary\n",
    "min_bloom_filters_theory={524288:5,1048576:8,2097152:7,4194304:5,8388608:4} #{n:k}\n",
    "theoratical_epsilons={}\n",
    "for n, k in min_bloom_filters_theory.items():\n",
    "    theoratical_epsilons[n]={k:(1 - math.e ** ((-k*m)/n)) ** k}\n"
   ]
  },
  {
   "cell_type": "code",
   "execution_count": 36,
   "id": "118597b0",
   "metadata": {
    "scrolled": true
   },
   "outputs": [
    {
     "data": {
      "text/plain": [
       "{524288: {5: 0.07961984651746123},\n",
       " 1048576: {8: 0.0055367414541996},\n",
       " 2097152: {7: 0.0001225271393092015},\n",
       " 4194304: {5: 1.539700815367783e-05},\n",
       " 8388608: {4: 4.1450972689800546e-06}}"
      ]
     },
     "execution_count": 36,
     "metadata": {},
     "output_type": "execute_result"
    }
   ],
   "source": [
    "theoratical_epsilons"
   ]
  },
  {
   "cell_type": "markdown",
   "id": "4821659e",
   "metadata": {},
   "source": [
    "# Second Approach"
   ]
  },
  {
   "cell_type": "code",
   "execution_count": 20,
   "id": "2322b7dc",
   "metadata": {},
   "outputs": [],
   "source": [
    " # use the output of what I've done based on the mamrez case"
   ]
  },
  {
   "cell_type": "code",
   "execution_count": 24,
   "id": "77ad066e",
   "metadata": {},
   "outputs": [],
   "source": [
    "hash_num_floor=[math.floor(i) for i in hash_num]\n",
    "hash_num_ceil=[math.ceil(j) for j in hash_num]\n",
    "n_num=[2**i for i in num_b]\n",
    "\n",
    "# based on these values we find the epsilon for each case\n",
    "hash_num_floor_dict={}\n",
    "hash_num_ceil_dict={}\n",
    "\n",
    "theoratical_epsilons_ceil={}\n",
    "theoratical_epsilons_floor={}\n",
    "\n",
    "for i,n in enumerate(n_num):\n",
    "    hash_num_floor_dict[n]=hash_num_floor[i]\n",
    "    hash_num_ceil_dict[n]=hash_num_ceil[i]\n",
    "    \n",
    "\n",
    "for n, k in hash_num_ceil_dict.items():\n",
    "    theoratical_epsilons_ceil[n]={k:(1 - math.e ** ((-k*m)/n)) ** k}\n",
    "for n, k in hash_num_floor_dict.items():\n",
    "    theoratical_epsilons_floor[n]={k:(1 - math.e ** ((-k*m)/n)) ** k}"
   ]
  },
  {
   "cell_type": "code",
   "execution_count": 25,
   "id": "64143054",
   "metadata": {},
   "outputs": [
    {
     "data": {
      "text/plain": [
       "{524288: {4: 0.0744092833872199},\n",
       " 1048576: {8: 0.0055367414541996},\n",
       " 2097152: {16: 3.06555059306523e-05},\n",
       " 4194304: {31: 9.213080700551662e-10},\n",
       " 8388608: {61: 8.403565887851665e-19}}"
      ]
     },
     "execution_count": 25,
     "metadata": {},
     "output_type": "execute_result"
    }
   ],
   "source": [
    "theoratical_epsilons_ceil"
   ]
  },
  {
   "cell_type": "code",
   "execution_count": 26,
   "id": "c4f6946d",
   "metadata": {},
   "outputs": [
    {
     "data": {
      "text/plain": [
       "{524288: {3: 0.0769741965387961},\n",
       " 1048576: {7: 0.005542348737769983},\n",
       " 2097152: {15: 3.0253366974359995e-05},\n",
       " 4194304: {30: 9.15266213285296e-10},\n",
       " 8388608: {60: 8.377122411816051e-19}}"
      ]
     },
     "execution_count": 26,
     "metadata": {},
     "output_type": "execute_result"
    }
   ],
   "source": [
    "theoratical_epsilons_floor"
   ]
  },
  {
   "cell_type": "markdown",
   "id": "90d2d3bb",
   "metadata": {},
   "source": [
    "# 3-"
   ]
  },
  {
   "cell_type": "code",
   "execution_count": 48,
   "id": "ff5be752",
   "metadata": {},
   "outputs": [],
   "source": [
    "#by describing, he means that we should mention it in the report?"
   ]
  },
  {
   "cell_type": "markdown",
   "id": "63b20092",
   "metadata": {},
   "source": [
    "I repeated the hash process for a number of times in order to deal with the different hash functions \n",
    "<br>\n",
    "it's the + str(j) trick that helps us to change the hash thingy"
   ]
  },
  {
   "cell_type": "markdown",
   "id": "51aac99c",
   "metadata": {},
   "source": [
    "# 4-"
   ]
  },
  {
   "cell_type": "markdown",
   "id": "9f54f834",
   "metadata": {},
   "source": [
    "# First approach"
   ]
  },
  {
   "cell_type": "code",
   "execution_count": 149,
   "id": "6747941d",
   "metadata": {},
   "outputs": [],
   "source": [
    "#by simulation? \n",
    "#if this is the simulation, then what is the first one \n",
    "#ok we have the number of hash functions and there's a formula for finding the false positives \n",
    "#how should we find the probability of false positives by using the simulation?"
   ]
  },
  {
   "cell_type": "code",
   "execution_count": null,
   "id": "d65f1af6",
   "metadata": {},
   "outputs": [],
   "source": []
  },
  {
   "cell_type": "code",
   "execution_count": 152,
   "id": "b372b7fa",
   "metadata": {},
   "outputs": [],
   "source": [
    "# I think I have to iterate through everything like I did before but this time I only have to use the optimal K "
   ]
  },
  {
   "cell_type": "code",
   "execution_count": 153,
   "id": "b588fced",
   "metadata": {},
   "outputs": [],
   "source": [
    "num_b =[j for j in range(19,24)]\n",
    "m=len(verses_set)\n",
    "n_num=[2**i for i in num_b]\n",
    "hash_num=4\n",
    "\n",
    "\n",
    "\n",
    "memory_dict={}\n",
    "for n in n_num:\n",
    "    a=bitarray(n) # a bitarray with lenght of  n\n",
    "    a.setall(0) # setting all equal to zero\n",
    "    false_count=0\n",
    "    for i in verses_set:\n",
    "        FP_count = 0\n",
    "        for j in range(hash_num):\n",
    "            temp=i + str(j)\n",
    "            encoded=temp.encode('utf-8')\n",
    "            hashed=hashlib.md5(encoded)\n",
    "            int_hashed=int(hashed.hexdigest(), 16)\n",
    "            h = int_hashed % n\n",
    "            if a[h]==0:\n",
    "                a[h]=1\n",
    "            elif a[h]==1:\n",
    "                FP_count+=1 # it actually checks the number of collisions \n",
    "        if FP_count==hash_num:\n",
    "            false_count+=1\n",
    "\n",
    "    memory_dict[n] = false_count/m\n"
   ]
  },
  {
   "cell_type": "code",
   "execution_count": 154,
   "id": "322e8834",
   "metadata": {},
   "outputs": [
    {
     "data": {
      "text/plain": [
       "{524288: 0.018982112612054364,\n",
       " 1048576: 0.0018486388234808114,\n",
       " 2097152: 0.0001962242326599744,\n",
       " 4194304: 1.0327591192630232e-05,\n",
       " 8388608: 0.0}"
      ]
     },
     "execution_count": 154,
     "metadata": {},
     "output_type": "execute_result"
    }
   ],
   "source": [
    "memory_dict"
   ]
  },
  {
   "cell_type": "code",
   "execution_count": 157,
   "id": "4ed6d324",
   "metadata": {},
   "outputs": [
    {
     "name": "stderr",
     "output_type": "stream",
     "text": [
      "No artists with labels found to put in legend.  Note that artists whose label start with an underscore are ignored when legend() is called with no argument.\n"
     ]
    },
    {
     "data": {
      "image/png": "[encoded data removed]",
      "text/plain": [
       "<Figure size 720x720 with 1 Axes>"
      ]
     },
     "metadata": {
      "needs_background": "light"
     },
     "output_type": "display_data"
    }
   ],
   "source": [
    "plt.figure(figsize=(10,10))\n",
    "plt.plot([i for i in range(19,24)],memory_dict.values())\n",
    "plt.xlabel('memory')\n",
    "plt.ylabel('Epsilons')\n",
    "plt.figtext(0.5, 0, \"For memory, it's 2 to the power of what you see on the plot for the X axis\", ha=\"center\", fontsize=12, bbox={\"facecolor\":\"orange\", \"alpha\":0.5, \"pad\":5})\n",
    "plt.grid()\n",
    "plt.legend()\n",
    "plt.show()"
   ]
  },
  {
   "cell_type": "markdown",
   "id": "f93cea15",
   "metadata": {},
   "source": [
    "# Second approach "
   ]
  },
  {
   "cell_type": "code",
   "execution_count": 19,
   "id": "ede1aa8d",
   "metadata": {},
   "outputs": [],
   "source": [
    "# I think I should do what I've done for the first question here (my own approach)"
   ]
  },
  {
   "cell_type": "markdown",
   "id": "fae6cd7b",
   "metadata": {},
   "source": [
    "# 5-"
   ]
  },
  {
   "cell_type": "code",
   "execution_count": 151,
   "id": "22fa946d",
   "metadata": {},
   "outputs": [],
   "source": [
    "#by compare, does he mean that we should plot them or we should write something in the report?\n",
    "#I think it's regarding the size"
   ]
  },
  {
   "cell_type": "markdown",
   "id": "07841605",
   "metadata": {},
   "source": [
    "# 6- (optional) (Have to ask about it)"
   ]
  },
  {
   "cell_type": "markdown",
   "id": "da9b005e",
   "metadata": {},
   "source": [
    "# Final Version (After revision-haven't talked to the prof yet)"
   ]
  },
  {
   "cell_type": "markdown",
   "id": "91ce90cc",
   "metadata": {},
   "source": [
    "# The only question left: <br>\n",
    "<b>How should I find the size of the simulation thing?</b> <br>\n",
    "Should I just get compute the size of the dictionary containting the stuff?"
   ]
  },
  {
   "cell_type": "markdown",
   "id": "bc43973c",
   "metadata": {},
   "source": [
    "# 1-"
   ]
  },
  {
   "cell_type": "code",
   "execution_count": 122,
   "id": "c39a6e2b",
   "metadata": {},
   "outputs": [
    {
     "data": {
      "image/png": "[encoded data removed]",
      "text/plain": [
       "<Figure size 720x720 with 1 Axes>"
      ]
     },
     "metadata": {
      "needs_background": "light"
     },
     "output_type": "display_data"
    }
   ],
   "source": [
    "num_b =[j for j in range(19,24)]\n",
    "m=len(verses_set)\n",
    "n_num=[2**i for i in num_b]\n",
    "hash_num_opt_theory=[(i/m)*math.log(2) for i in n_num]\n",
    "# hash_num_floor=[math.floor(i) for i in hash_num]\n",
    "# hash_num_ceil=[math.ceil(j) for j in hash_num]\n",
    "plt.figure(figsize=(10,10))\n",
    "plt.plot(n_num,hash_num)\n",
    "plt.xlabel('Memory')\n",
    "plt.ylabel('Number of Hashes')\n",
    "plt.grid()\n",
    "# plt.savefig('bloom_filters_question_one_hash_memory')\n",
    "plt.show()"
   ]
  },
  {
   "cell_type": "markdown",
   "id": "4a13307c",
   "metadata": {},
   "source": [
    "The values we get out of the formula are real numbers but we want integers <br>\n",
    "We have to plot the performance graph in order to find out the right values for the number of hashes (K)"
   ]
  },
  {
   "cell_type": "code",
   "execution_count": 55,
   "id": "bb72cae2",
   "metadata": {},
   "outputs": [],
   "source": [
    "# num_b =[j for j in range(19,24)]\n",
    "# m=len(verses_set)\n",
    "# n_num=[2**i for i in num_b]\n",
    "num_of_hash=[i for i in range(1,70)] #I chose a number more than 60 since there's also a k with value of 60.05019192818815\n",
    "#but any value more than 61 would be unnecessary\n",
    "bloom_filter_dict={}\n",
    "\n",
    "for n in n_num:\n",
    "    memory_dict={}\n",
    "    for k in num_of_hash:\n",
    "        a=bitarray(n) # a bitarray with lenght of  n\n",
    "        a.setall(0) # setting all equal to zero\n",
    "        false_count=0\n",
    "        for i in verses_set:\n",
    "            FP_count = 0\n",
    "            for j in range(k):\n",
    "                temp=i + str(j)\n",
    "                encoded=temp.encode('utf-8')\n",
    "                hashed=hashlib.md5(encoded)\n",
    "                int_hashed=int(hashed.hexdigest(), 16)\n",
    "                h = int_hashed % n\n",
    "                if a[h]==0:\n",
    "                    a[h]=1\n",
    "                elif a[h]==1:\n",
    "                    FP_count+=1 # it actually checks of ones so that we can compare them later with the value of k\n",
    "            if FP_count==k:\n",
    "                false_count+=1\n",
    "\n",
    "        memory_dict[k] = (a.count(1)/n)**k\n",
    "    bloom_filter_dict[n]=memory_dict\n",
    "#P(FB) = (a.count(1)/m)**k lol"
   ]
  },
  {
   "cell_type": "code",
   "execution_count": 97,
   "id": "fbb51164",
   "metadata": {},
   "outputs": [
    {
     "data": {
      "image/png": "[encoded data removed]",
      "text/plain": [
       "<Figure size 720x720 with 1 Axes>"
      ]
     },
     "metadata": {
      "needs_background": "light"
     },
     "output_type": "display_data"
    }
   ],
   "source": [
    "counter=19\n",
    "plt.figure(figsize=(10,10))\n",
    "for k,v in bloom_filter_dict.items():\n",
    "    plt.plot(v.keys(),v.values(), label = f'2**{counter}')\n",
    "    plt.xlabel('Number of Hashes')\n",
    "    plt.ylabel('Epsilons')\n",
    "    plt.grid()\n",
    "    plt.legend()\n",
    "    counter+=1\n",
    "# plt.savefig('bloom_filters_question_one_performance')\n",
    "plt.show()"
   ]
  },
  {
   "cell_type": "code",
   "execution_count": 64,
   "id": "ec17a6a3",
   "metadata": {},
   "outputs": [],
   "source": [
    "#now we can choose the right value based on the last plot, the dictinary that contains the values for epsilon,\n",
    "# and also the theoratical values for k that we have computed, the we can find the right values for k"
   ]
  },
  {
   "cell_type": "code",
   "execution_count": 68,
   "id": "3e5b8113",
   "metadata": {},
   "outputs": [
    {
     "data": {
      "text/plain": [
       "[3.7531369955117593,\n",
       " 7.5062739910235186,\n",
       " 15.012547982047037,\n",
       " 30.025095964094074,\n",
       " 60.05019192818815]"
      ]
     },
     "execution_count": 68,
     "metadata": {},
     "output_type": "execute_result"
    }
   ],
   "source": [
    "hash_num_opt_theory"
   ]
  },
  {
   "cell_type": "code",
   "execution_count": 123,
   "id": "81946504",
   "metadata": {},
   "outputs": [
    {
     "data": {
      "text/plain": [
       "{524288: {1: 0.16845130920410156,\n",
       "  2: 0.09517125204729382,\n",
       "  3: 0.07675901050492939,\n",
       "  4: 0.07441333677135287,\n",
       "  5: 0.07938536308422006,\n",
       "  6: 0.0899635997149245,\n",
       "  7: 0.10532212216736958,\n",
       "  8: 0.12578548024754316,\n",
       "  9: 0.15042488281688696,\n",
       "  10: 0.17921395057818962,\n",
       "  11: 0.21236120239428197,\n",
       "  12: 0.2490030388382904,\n",
       "  13: 0.29021431328316066,\n",
       "  14: 0.3323549722395067,\n",
       "  15: 0.377996689174756,\n",
       "  16: 0.4238783180183891,\n",
       "  17: 0.47112825151972,\n",
       "  18: 0.5173066220999835,\n",
       "  19: 0.5621571067434181,\n",
       "  20: 0.6060496629926315,\n",
       "  21: 0.6462211036464969,\n",
       "  22: 0.6834271665676457,\n",
       "  23: 0.71709222532314,\n",
       "  24: 0.7484724954093754,\n",
       "  25: 0.7772176638798436,\n",
       "  26: 0.8035455851498022,\n",
       "  27: 0.8300303685629162,\n",
       "  28: 0.8507894767414342,\n",
       "  29: 0.8699356425142638,\n",
       "  30: 0.8886015663286359,\n",
       "  31: 0.9037927947634543,\n",
       "  32: 0.9173770617579603,\n",
       "  33: 0.9293960045890567,\n",
       "  34: 0.9391616055123976,\n",
       "  35: 0.9468164423588304,\n",
       "  36: 0.9540900534768695,\n",
       "  37: 0.961230172838468,\n",
       "  38: 0.96663391199778,\n",
       "  39: 0.9711785988732616,\n",
       "  40: 0.9747574183790622,\n",
       "  41: 0.9785655708635498,\n",
       "  42: 0.9805602327116558,\n",
       "  43: 0.9834854156680077,\n",
       "  44: 0.9861631413190708,\n",
       "  45: 0.9886479960859301,\n",
       "  46: 0.9903073265129447,\n",
       "  47: 0.9912524157367113,\n",
       "  48: 0.9922475928077661,\n",
       "  49: 0.9938502339344806,\n",
       "  50: 0.9941043177485142,\n",
       "  51: 0.9951478390016203,\n",
       "  52: 0.9959416312325451,\n",
       "  53: 0.996266544086177,\n",
       "  54: 0.996914775924105,\n",
       "  55: 0.9977993931018403,\n",
       "  56: 0.998079206662778,\n",
       "  57: 0.9982619836064274,\n",
       "  58: 0.9983419590223956,\n",
       "  59: 0.9984257494285671,\n",
       "  60: 0.9986276358222353,\n",
       "  61: 0.9987209742927394,\n",
       "  62: 0.9989362565044801,\n",
       "  63: 0.99903915086626,\n",
       "  64: 0.9992678420925147,\n",
       "  65: 0.9993803008313531,\n",
       "  66: 0.9994965847960511,\n",
       "  67: 0.9997444474548286,\n",
       "  68: 0.9997406337324186,\n",
       "  69: 0.9997368200245568},\n",
       " 1048576: {1: 0.08811759948730469,\n",
       "  2: 0.02839641020182171,\n",
       "  3: 0.014147304308442214,\n",
       "  4: 0.0090984041477057,\n",
       "  5: 0.006920098068674627,\n",
       "  6: 0.005928212519839224,\n",
       "  7: 0.005528353554209125,\n",
       "  8: 0.005522559661331668,\n",
       "  9: 0.005790404637603396,\n",
       "  10: 0.006334531267831498,\n",
       "  11: 0.007089404001536589,\n",
       "  12: 0.008096355489991889,\n",
       "  13: 0.009412687571960343,\n",
       "  14: 0.011131829015757039,\n",
       "  15: 0.013186902175458448,\n",
       "  16: 0.015702592339114273,\n",
       "  17: 0.018854275148472033,\n",
       "  18: 0.02258597166291808,\n",
       "  19: 0.026922625288667044,\n",
       "  20: 0.032246654151525014,\n",
       "  21: 0.03829994831469707,\n",
       "  22: 0.04523254693234036,\n",
       "  23: 0.0531502887520521,\n",
       "  24: 0.06218442124787789,\n",
       "  25: 0.0725152098924258,\n",
       "  26: 0.08381416758161767,\n",
       "  27: 0.09691345286147215,\n",
       "  28: 0.11077617763346985,\n",
       "  29: 0.12615138047721255,\n",
       "  30: 0.14235900786473585,\n",
       "  31: 0.16023855387988237,\n",
       "  32: 0.17953981307896055,\n",
       "  33: 0.19947789088385573,\n",
       "  34: 0.22093351318852245,\n",
       "  35: 0.24208213844415924,\n",
       "  36: 0.2650638647057473,\n",
       "  37: 0.28874219842693843,\n",
       "  38: 0.31339875487531965,\n",
       "  39: 0.3385856601037379,\n",
       "  40: 0.36339448628394827,\n",
       "  41: 0.3874683557181153,\n",
       "  42: 0.41208716815574464,\n",
       "  43: 0.43653934155618973,\n",
       "  44: 0.4615216482513535,\n",
       "  45: 0.48606736465812117,\n",
       "  46: 0.5112771235908454,\n",
       "  47: 0.5357364133429162,\n",
       "  48: 0.558966549907417,\n",
       "  49: 0.582591174904717,\n",
       "  50: 0.6042710028971092,\n",
       "  51: 0.6265982909443575,\n",
       "  52: 0.6477877543682646,\n",
       "  53: 0.6673562565108544,\n",
       "  54: 0.6883790373899471,\n",
       "  55: 0.7060869860177341,\n",
       "  56: 0.7243094548043673,\n",
       "  57: 0.7412362537499507,\n",
       "  58: 0.757377114053492,\n",
       "  59: 0.7719094952853003,\n",
       "  60: 0.7874384018279845,\n",
       "  61: 0.8003167149558454,\n",
       "  62: 0.8128293021318591,\n",
       "  63: 0.8247000755982498,\n",
       "  64: 0.8363945011644107,\n",
       "  65: 0.8473350337630328,\n",
       "  66: 0.8587240633325156,\n",
       "  67: 0.8687887873350896,\n",
       "  68: 0.8770528563643163,\n",
       "  69: 0.8878578468938789},\n",
       " 2097152: {1: 0.045131683349609375,\n",
       "  2: 0.007786575937643647,\n",
       "  3: 0.0021684340224440864,\n",
       "  4: 0.000811470190533684,\n",
       "  5: 0.00037380008179855104,\n",
       "  6: 0.00020183073439401726,\n",
       "  7: 0.00012328014060896325,\n",
       "  8: 8.31292361323293e-05,\n",
       "  9: 6.09483090003393e-05,\n",
       "  10: 4.800457539949062e-05,\n",
       "  11: 3.992508109208368e-05,\n",
       "  12: 3.4868643235115846e-05,\n",
       "  13: 3.1870605687892654e-05,\n",
       "  14: 3.051599545083772e-05,\n",
       "  15: 2.9930506277165827e-05,\n",
       "  16: 3.026420599499472e-05,\n",
       "  17: 3.140031670652619e-05,\n",
       "  18: 3.3438614339133574e-05,\n",
       "  19: 3.615706384576601e-05,\n",
       "  20: 3.985229750243258e-05,\n",
       "  21: 4.450827987714036e-05,\n",
       "  22: 5.020428124252357e-05,\n",
       "  23: 5.7318197284201544e-05,\n",
       "  24: 6.615767665388656e-05,\n",
       "  25: 7.68547738548897e-05,\n",
       "  26: 8.989734547888326e-05,\n",
       "  27: 0.00010600501973208971,\n",
       "  28: 0.00012500814103951787,\n",
       "  29: 0.00014792300808634382,\n",
       "  30: 0.00017584022982542453,\n",
       "  31: 0.0002089984149750596,\n",
       "  32: 0.00025028578059481594,\n",
       "  33: 0.00029774203340627,\n",
       "  34: 0.00035605924165025757,\n",
       "  35: 0.0004266056399340596,\n",
       "  36: 0.0005119127096861509,\n",
       "  37: 0.0006117292901056132,\n",
       "  38: 0.0007288258299225265,\n",
       "  39: 0.0008677054884421151,\n",
       "  40: 0.0010353348389318228,\n",
       "  41: 0.0012275655096550227,\n",
       "  42: 0.001453868785491956,\n",
       "  43: 0.0017179585858641446,\n",
       "  44: 0.0020352389468651674,\n",
       "  45: 0.0023956399178181086,\n",
       "  46: 0.002824882798636932,\n",
       "  47: 0.0033118505512601346,\n",
       "  48: 0.0038905223396409963,\n",
       "  49: 0.004530625878987691,\n",
       "  50: 0.005257063391471084,\n",
       "  51: 0.0060981229767373135,\n",
       "  52: 0.007072877833223573,\n",
       "  53: 0.008163290269678498,\n",
       "  54: 0.009419414718459685,\n",
       "  55: 0.010848149145091216,\n",
       "  56: 0.012393179779697562,\n",
       "  57: 0.014130088866146822,\n",
       "  58: 0.016017072304207715,\n",
       "  59: 0.018091050880210364,\n",
       "  60: 0.02042447258497532,\n",
       "  61: 0.023010682846248944,\n",
       "  62: 0.025935361060481478,\n",
       "  63: 0.02910416611033023,\n",
       "  64: 0.03233954605225902,\n",
       "  65: 0.03616283086171523,\n",
       "  66: 0.04019051061855025,\n",
       "  67: 0.04446188375842288,\n",
       "  68: 0.0491919694357148,\n",
       "  69: 0.05427607237945806},\n",
       " 4194304: {1: 0.02282404899597168,\n",
       "  2: 0.0020380311127610184,\n",
       "  3: 0.00030017783583397104,\n",
       "  4: 6.067795799667205e-05,\n",
       "  5: 1.544689058108126e-05,\n",
       "  6: 4.705901040750982e-06,\n",
       "  7: 1.656577930128284e-06,\n",
       "  8: 6.57799568814673e-07,\n",
       "  9: 2.891707228203911e-07,\n",
       "  10: 1.3911251911164936e-07,\n",
       "  11: 7.221331802494496e-08,\n",
       "  12: 4.016668483083063e-08,\n",
       "  13: 2.379372547029962e-08,\n",
       "  14: 1.4987206270324596e-08,\n",
       "  15: 9.877787550711883e-09,\n",
       "  16: 6.813013914332457e-09,\n",
       "  17: 4.904532126716462e-09,\n",
       "  18: 3.67413215013204e-09,\n",
       "  19: 2.8385212881400587e-09,\n",
       "  20: 2.2751810477595064e-09,\n",
       "  21: 1.873680104291589e-09,\n",
       "  22: 1.5859063009384834e-09,\n",
       "  23: 1.3784873648909592e-09,\n",
       "  24: 1.2279234061161808e-09,\n",
       "  25: 1.1187889362183208e-09,\n",
       "  26: 1.0389850976670112e-09,\n",
       "  27: 9.815749379208532e-10,\n",
       "  28: 9.451474054038543e-10,\n",
       "  29: 9.227745787934832e-10,\n",
       "  30: 9.131377740901003e-10,\n",
       "  31: 9.181714596594971e-10,\n",
       "  32: 9.364686729765483e-10,\n",
       "  33: 9.664591414011121e-10,\n",
       "  34: 1.0104660244617088e-09,\n",
       "  35: 1.0638840154927271e-09,\n",
       "  36: 1.1399522014080397e-09,\n",
       "  37: 1.2270004625769418e-09,\n",
       "  38: 1.3327924842529611e-09,\n",
       "  39: 1.4581652976553722e-09,\n",
       "  40: 1.6127702165223794e-09,\n",
       "  41: 1.7918047718743922e-09,\n",
       "  42: 2.0022591712055474e-09,\n",
       "  43: 2.253731931129781e-09,\n",
       "  44: 2.5522195184971018e-09,\n",
       "  45: 2.909617120110245e-09,\n",
       "  46: 3.3319750808711584e-09,\n",
       "  47: 3.818793737205261e-09,\n",
       "  48: 4.4300336911440065e-09,\n",
       "  49: 5.101907768433911e-09,\n",
       "  50: 5.935834597796602e-09,\n",
       "  51: 6.916436366688839e-09,\n",
       "  52: 8.089565431033302e-09,\n",
       "  53: 9.507046604343632e-09,\n",
       "  54: 1.1225496370024724e-08,\n",
       "  55: 1.3340644587709664e-08,\n",
       "  56: 1.578310362492639e-08,\n",
       "  57: 1.8697395745292765e-08,\n",
       "  58: 2.2141094589166376e-08,\n",
       "  59: 2.6226293364581073e-08,\n",
       "  60: 3.119655174908155e-08,\n",
       "  61: 3.7126878865664456e-08,\n",
       "  62: 4.425859913698932e-08,\n",
       "  63: 5.276250911539143e-08,\n",
       "  64: 6.292973947652573e-08,\n",
       "  65: 7.54996201308596e-08,\n",
       "  66: 9.017964318229894e-08,\n",
       "  67: 1.0740143324242626e-07,\n",
       "  68: 1.2832165483302751e-07,\n",
       "  69: 1.534068757469978e-07},\n",
       " 8388608: {1: 0.011476516723632812,\n",
       "  2: 0.00052118211682739,\n",
       "  3: 3.94514964636519e-05,\n",
       "  4: 4.149755277577442e-06,\n",
       "  5: 5.557852415190025e-07,\n",
       "  6: 8.99864806277457e-08,\n",
       "  7: 1.7018017222257904e-08,\n",
       "  8: 3.672833089397385e-09,\n",
       "  9: 8.87921682638136e-10,\n",
       "  10: 2.3721767533361426e-10,\n",
       "  11: 6.918744948504261e-11,\n",
       "  12: 2.1872725496094455e-11,\n",
       "  13: 7.436753449789058e-12,\n",
       "  14: 2.7078888510984965e-12,\n",
       "  15: 1.0456364099037871e-12,\n",
       "  16: 4.264199561892684e-13,\n",
       "  17: 1.836428509199317e-13,\n",
       "  18: 8.273891970315373e-14,\n",
       "  19: 3.888523535799168e-14,\n",
       "  20: 1.9120710463266395e-14,\n",
       "  21: 9.764727213064419e-15,\n",
       "  22: 5.1817515747747904e-15,\n",
       "  23: 2.840387936724422e-15,\n",
       "  24: 1.6150998237850307e-15,\n",
       "  25: 9.461646070690795e-16,\n",
       "  26: 5.70995558153935e-16,\n",
       "  27: 3.53584666729511e-16,\n",
       "  28: 2.2517089218547086e-16,\n",
       "  29: 1.4701338122231964e-16,\n",
       "  30: 9.797693511548575e-17,\n",
       "  31: 6.684504226855893e-17,\n",
       "  32: 4.6722094817596546e-17,\n",
       "  33: 3.338062018250695e-17,\n",
       "  34: 2.4316603000087205e-17,\n",
       "  35: 1.803661108017276e-17,\n",
       "  36: 1.3632814191712171e-17,\n",
       "  37: 1.0481127969286062e-17,\n",
       "  38: 8.179748126667968e-18,\n",
       "  39: 6.4971150561967656e-18,\n",
       "  40: 5.251145648868387e-18,\n",
       "  41: 4.302445998634506e-18,\n",
       "  42: 3.563508407753503e-18,\n",
       "  43: 2.9933923244484152e-18,\n",
       "  44: 2.5463691630630437e-18,\n",
       "  45: 2.2001440979724534e-18,\n",
       "  46: 1.917277965992292e-18,\n",
       "  47: 1.6914244060373931e-18,\n",
       "  48: 1.5137712914955652e-18,\n",
       "  49: 1.3635128302681327e-18,\n",
       "  50: 1.2482393483284902e-18,\n",
       "  51: 1.1484718145067295e-18,\n",
       "  52: 1.0704386365592003e-18,\n",
       "  53: 1.0053205881600695e-18,\n",
       "  54: 9.53141189263773e-19,\n",
       "  55: 9.141705805220683e-19,\n",
       "  56: 8.86490253257486e-19,\n",
       "  57: 8.636866052843999e-19,\n",
       "  58: 8.44400611371444e-19,\n",
       "  59: 8.299981826362914e-19,\n",
       "  60: 8.263579823178387e-19,\n",
       "  61: 8.286277362923276e-19,\n",
       "  62: 8.361780756246478e-19,\n",
       "  63: 8.507610636193431e-19,\n",
       "  64: 8.712649737493664e-19,\n",
       "  65: 8.997040865036252e-19,\n",
       "  66: 9.34001918802158e-19,\n",
       "  67: 9.665267677827381e-19,\n",
       "  68: 1.0074781475758324e-18,\n",
       "  69: 1.058287917773119e-18}}"
      ]
     },
     "execution_count": 123,
     "metadata": {},
     "output_type": "execute_result"
    }
   ],
   "source": [
    "bloom_filter_dict"
   ]
  },
  {
   "cell_type": "markdown",
   "id": "d263f1be",
   "metadata": {},
   "source": [
    "For example we can see that for 2 ** 19 k = 4 has a lower value for false postive that 3, so for n=2 ** 19 the right value for k is 4<br>\n",
    "We do the same for the rest of the values "
   ]
  },
  {
   "cell_type": "code",
   "execution_count": 69,
   "id": "ed407607",
   "metadata": {},
   "outputs": [],
   "source": [
    "kopt={2**19:4,2**20:8,2**21:15,2**22:30,2**23:60}"
   ]
  },
  {
   "cell_type": "markdown",
   "id": "9a0290d2",
   "metadata": {},
   "source": [
    "# 2-"
   ]
  },
  {
   "cell_type": "code",
   "execution_count": 71,
   "id": "d6eb2820",
   "metadata": {},
   "outputs": [],
   "source": [
    "# gonna use the formula in page 29 of slide 12\n",
    "# (1 - e ** -k*m/n) ** k"
   ]
  },
  {
   "cell_type": "code",
   "execution_count": 72,
   "id": "4f87206b",
   "metadata": {},
   "outputs": [],
   "source": [
    "theoratical_epsilons={}\n",
    "for n, k in kopt.items():\n",
    "    theoratical_epsilons[n]={k:(1 - math.e ** ((-k*m)/n)) ** k}"
   ]
  },
  {
   "cell_type": "code",
   "execution_count": 73,
   "id": "dab8c1fc",
   "metadata": {},
   "outputs": [
    {
     "data": {
      "text/plain": [
       "{524288: {4: 0.0744092833872199},\n",
       " 1048576: {8: 0.0055367414541996},\n",
       " 2097152: {15: 3.0253366974359995e-05},\n",
       " 4194304: {30: 9.15266213285296e-10},\n",
       " 8388608: {60: 8.377122411816051e-19}}"
      ]
     },
     "execution_count": 73,
     "metadata": {},
     "output_type": "execute_result"
    }
   ],
   "source": [
    "theoratical_epsilons"
   ]
  },
  {
   "cell_type": "code",
   "execution_count": 129,
   "id": "854ac11c",
   "metadata": {},
   "outputs": [],
   "source": [
    "epsilon_values_theory=[0.0744092833872199,0.0055367414541996,3.0253366974359995e-05,9.15266213285296e-10,8.377122411816051e-19]"
   ]
  },
  {
   "cell_type": "markdown",
   "id": "45cd93a6",
   "metadata": {},
   "source": [
    "As we can see if we compare the value for the theoratical epsilons and the ones we got from the first question <br>\n",
    "The values are pretty close to each other <br>\n",
    "The first question is also a theory based question and we just used the value for the probability of False Positive in order to find the right values for k"
   ]
  },
  {
   "cell_type": "markdown",
   "id": "30ba7c17",
   "metadata": {},
   "source": [
    "# 3-"
   ]
  },
  {
   "cell_type": "markdown",
   "id": "bb7944b8",
   "metadata": {},
   "source": [
    "<b>Just have to explain the + str(i) thingy I did </b>"
   ]
  },
  {
   "cell_type": "markdown",
   "id": "bc269237",
   "metadata": {},
   "source": [
    "# 4-"
   ]
  },
  {
   "cell_type": "markdown",
   "id": "cd99319f",
   "metadata": {},
   "source": [
    "We have the optimal values for k<br>\n",
    "We have different values for n and as a consequence different values for b <br>\n",
    "I have to do what I did for the first question, but I shold use the right values for k and their corresponding value for n <br>\n",
    "In the end, I should use asizeof to get the size of the "
   ]
  },
  {
   "cell_type": "code",
   "execution_count": 77,
   "id": "7a5ba11d",
   "metadata": {},
   "outputs": [],
   "source": [
    "bloom_filter_dict_sim={}\n",
    "kopt\n",
    "for n,k in kopt.items():\n",
    "    memory_dict={}\n",
    "    a=bitarray(n) # a bitarray with lenght of  n\n",
    "    a.setall(0) # setting all equal to zero\n",
    "    false_count=0\n",
    "    for i in verses_set:\n",
    "        \n",
    "        FP_count = 0\n",
    "        for j in range(k):\n",
    "            temp=i + str(j)\n",
    "            encoded=temp.encode('utf-8')\n",
    "            hashed=hashlib.md5(encoded)\n",
    "            int_hashed=int(hashed.hexdigest(), 16)\n",
    "            h = int_hashed % n\n",
    "            if a[h]==0:\n",
    "                a[h]=1\n",
    "            elif a[h]==1:\n",
    "                FP_count+=1 # it actually checks of ones so that we can compare them later with the value of k\n",
    "        if FP_count==k:\n",
    "            false_count+=1\n",
    "\n",
    "        memory_dict[k] = (a.count(1)/n)**k\n",
    "    bloom_filter_dict_sim[n]=memory_dict\n",
    "#P(FB) = (a.count(1)/m)**k lol"
   ]
  },
  {
   "cell_type": "code",
   "execution_count": 93,
   "id": "a3a731a2",
   "metadata": {},
   "outputs": [
    {
     "data": {
      "text/plain": [
       "{524288: {4: 0.07441333677135287},\n",
       " 1048576: {8: 0.005522559661331668},\n",
       " 2097152: {15: 2.9930506277165827e-05},\n",
       " 4194304: {30: 9.131377740901003e-10},\n",
       " 8388608: {60: 8.263579823178387e-19}}"
      ]
     },
     "execution_count": 93,
     "metadata": {},
     "output_type": "execute_result"
    }
   ],
   "source": [
    "bloom_filter_dict_sim"
   ]
  },
  {
   "cell_type": "code",
   "execution_count": 126,
   "id": "75131ef9",
   "metadata": {},
   "outputs": [],
   "source": [
    "#I should use some automated way to store these \n",
    "# but I don't have the energy anymore\n",
    "epsilon_values_sim=[0.07441333677135287,0.005522559661331668,2.9930506277165827e-05,9.131377740901003e-10,8.263579823178387e-19]"
   ]
  },
  {
   "cell_type": "code",
   "execution_count": 130,
   "id": "d58000b3",
   "metadata": {},
   "outputs": [
    {
     "data": {
      "image/png": "[encoded data removed]",
      "text/plain": [
       "<Figure size 720x720 with 1 Axes>"
      ]
     },
     "metadata": {
      "needs_background": "light"
     },
     "output_type": "display_data"
    }
   ],
   "source": [
    "#I should rewrite this part in a automated way\n",
    "plt.figure(figsize=(10,10))\n",
    "plt.plot([i/(1024*8) for i in n_num],epsilon_values_sim, label = \"simulation\")\n",
    "plt.xlabel('Memory (kb)')\n",
    "plt.ylabel('False Postive')\n",
    "plt.grid()\n",
    "plt.legend()\n",
    "plt.savefig('bloom_filters_question_four')\n",
    "plt.show()"
   ]
  },
  {
   "cell_type": "markdown",
   "id": "5981dc31",
   "metadata": {},
   "source": [
    "# 5-"
   ]
  },
  {
   "cell_type": "code",
   "execution_count": 134,
   "id": "bcbfee92",
   "metadata": {},
   "outputs": [
    {
     "data": {
      "image/png": "[encoded data removed]",
      "text/plain": [
       "<Figure size 720x720 with 1 Axes>"
      ]
     },
     "metadata": {
      "needs_background": "light"
     },
     "output_type": "display_data"
    }
   ],
   "source": [
    "plt.figure(figsize=(10,10))\n",
    "plt.plot([i/(1024*8) for i in n_num],epsilon_values_sim, label = \"Simulation\")\n",
    "plt.plot([i/(1024*8) for i in n_num],epsilon_values_theory, label = \"Theory\")\n",
    "plt.xlabel('Memory (kb)')\n",
    "plt.ylabel('False Postive')\n",
    "plt.grid()\n",
    "plt.legend()\n",
    "plt.savefig('bloom_filters_question_five')\n",
    "plt.show()"
   ]
  },
  {
   "cell_type": "markdown",
   "id": "c94d698f",
   "metadata": {},
   "source": [
    "As you can see in the plot, the values for epsilon gathered from simulation and theory are the same "
   ]
  },
  {
   "cell_type": "markdown",
   "id": "093ad3af",
   "metadata": {},
   "source": [
    "# 6- (The optional part)"
   ]
  },
  {
   "cell_type": "markdown",
   "id": "922ccdf1",
   "metadata": {},
   "source": [
    "# The table"
   ]
  },
  {
   "cell_type": "code",
   "execution_count": 75,
   "id": "c843837b",
   "metadata": {},
   "outputs": [],
   "source": [
    "# for the fingerprint set  we should use Bexp\n",
    "# for bitstring array and bloom filter everything varies based on the value of b\n",
    "#He explained it on the session of 19th of December"
   ]
  },
  {
   "cell_type": "code",
   "execution_count": null,
   "id": "5ef5d861",
   "metadata": {},
   "outputs": [],
   "source": []
  }
 ],
 "metadata": {
  "kernelspec": {
   "display_name": "Python 3 (ipykernel)",
   "language": "python",
   "name": "python3"
  },
  "language_info": {
   "codemirror_mode": {
    "name": "ipython",
    "version": 3
   },
   "file_extension": ".py",
   "mimetype": "text/x-python",
   "name": "python",
   "nbconvert_exporter": "python",
   "pygments_lexer": "ipython3",
   "version": "3.9.7"
  }
 },
 "nbformat": 4,
 "nbformat_minor": 5
}
