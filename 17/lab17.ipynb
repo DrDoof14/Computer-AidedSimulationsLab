{
 "cells": [
  {
   "cell_type": "code",
   "execution_count": null,
   "id": "d7cad07a",
   "metadata": {},
   "outputs": [],
   "source": [
    "# deadline = 13 jan 2023"
   ]
  },
  {
   "cell_type": "markdown",
   "id": "89ac58a8",
   "metadata": {},
   "source": [
    "# Description\n",
    "Devise an antiplagiarism software specialized on poems. For simplicity, assume that the software is able to detect sentences taken from \"La Divina Commedia\" by Dante Alighieri. The text of the poem can be downloaded from here. \n",
    "\n",
    "\n",
    "\n",
    "\n",
    "\n",
    "The software must detect sentences of a given size S in terms of words. Focus on the specific case S=6. \n",
    "\n",
    "Compare the performance and the memory occupancy of the anti-plagiarism system for S=6 based on:\n",
    "\n",
    "a set storing the sentences\n",
    "a set storing the fingerprints of the sentences \n",
    "a bit string array\n",
    "a optimally-designed bloom filter\n",
    "Preliminary study:\n",
    "\n",
    "What are the inputs and the outputs of the software?\n",
    "Evaluate the number of sentences that are stored for S=6. \n",
    "Evaluate the average size of each sentences in bytes.\n",
    "Set of sentences:\n",
    "\n",
    "What is the corresponding memory occupancy?\n",
    "Fingerprint set:\n",
    "\n",
    "By simulation, evaluate Bexp defined as the minimum value of bits such that no collisions are experienced when storing all the sentences in a fingerprint set.\n",
    "Compute analytically the number of bit Bteo necessary to get a probability 0.5 of fingerprint collision when storing all the sentences with a fingerprint set.\n",
    "\n",
    "Compute the probability of false positive for a fingerprint set in which the number of bits is Bexp, as computed in question 1.\n",
    "\n",
    "Is Bteo a good approximation of Bexp?\n",
    "\n",
    "Bit string array:\n",
    "\n",
    "By simulation, evaluate the probability of false positive in function of memory X, for X in the interval [2^{19}, 2^{20}, 2^{21}, 2^{22}, 2^{23}] bits, and plot the corresponding graph.\n",
    "\n",
    "By theory, evaluate the probability of false positive in function of X, and plot the corresponding graph.\n",
    "\n",
    "Compare the simulation with the theoretical results.\n",
    "\n",
    "How this solution compares with the fingerprint set above with Bexp bits?\n",
    "\n",
    "Bloom filters:\n",
    "\n",
    "\n",
    "Compute analytically the optimal number of hash functions in function of memory X, for X in the interval [2^{19}, 2^{20}, 2^{21}, 2^{22}, 2^{23}] bits, and plot the corresponding graph. \n",
    "By theory, evaluate the probability of false positive in function of X, using the optimal number of hash functions.\n",
    "Describe how you implemented the different hash functions.\n",
    "By simulation, evaluate the probability of false positive in function of X, using the optimal number of hash functions, and plot the corresponding graph.\n",
    "Compare the simulation results with the results obtained by just analytical formulas. \n",
    "(optional) It can be shown that the number of distinct elements stored in a bloom filter with n bits and k hash functions can be estimated as  -\\frac{n}{k}\\ln \\big(1-\\frac{N}{n}\\big)   where N is the actual number of bits equal to 1 in the bloom filter. Show how accurate is the formula when inserting one single sentence at the time in the bloom filter, in function of the inserted sentences.\n",
    "\n",
    "\n",
    "\n",
    "Finally, discuss the different tradeoff between memory and performance achieved each data structure, based on the results above summarizied in the following table.\n",
    "\n",
    "Data structure\tMemory [kB]\tProb. false positive\n",
    "Set of sentences\t\t\n",
    "Fingerprint set (X=Bexp)\t\t\n",
    "Bit string array (X varying)\t\t\n",
    "Bloom filter (X varying)\t\t\n",
    "\n",
    "What is the best option for this scenario?\n"
   ]
  },
  {
   "cell_type": "code",
   "execution_count": null,
   "id": "85e059d2",
   "metadata": {},
   "outputs": [],
   "source": [
    "# I have to read the bloom filters pdf and also watch video for the firsrsession of 19th of December "
   ]
  },
  {
   "cell_type": "code",
   "execution_count": null,
   "id": "b9a64b78",
   "metadata": {},
   "outputs": [],
   "source": [
    "# Q:what is the formula we should use for the analytical part?\n",
    "#A: explained in the layers parts \n",
    "#when will he upload the video of the first session?\n",
    "#A: He will upoload it but idk when\n",
    "# by simulation: obvious, Analytically = formulas(maybe), theory?\n",
    "# theory and analytically are the same \n",
    "#Slide 08/ page 16 is important (it’s what we have to keep in mind)\n",
    "#It’s useful for set of fingerprints question 2 \n",
    "# we should watch the video fro this session to be able to run the simulation (19th of December, session one)\n",
    "# page 28 and 29 are important for the bloom filter \n",
    "# formula is page 28 gives us a real number and we have to either use 12 or 13, we have to choose the optimal value\n",
    "# since bloom filters do not work with real numbers \n",
    "# for bloom filters, question 1 and two are different but somehow related\n",
    "#the formula in page 29 is important but only the first part = (1-P) ** K (only this part is important)"
   ]
  },
  {
   "cell_type": "code",
   "execution_count": 1,
   "id": "d59774b9",
   "metadata": {},
   "outputs": [],
   "source": [
    "import hashlib\n",
    "import re\n",
    "from pympler import asizeof\n",
    "import math\n",
    "import matplotlib.pyplot as plt\n"
   ]
  },
  {
   "cell_type": "code",
   "execution_count": 2,
   "id": "92361ecf",
   "metadata": {},
   "outputs": [],
   "source": [
    "#############################################33\n",
    "file = open(\"commedia.txt\", \"rt\")\n",
    "data = file.read()"
   ]
  },
  {
   "cell_type": "code",
   "execution_count": 4,
   "id": "b5d4f5c7",
   "metadata": {},
   "outputs": [
    {
     "name": "stdout",
     "output_type": "stream",
     "text": [
      "the total number of words is \n",
      "\n",
      "96929\n"
     ]
    }
   ],
   "source": [
    "#===========================\n",
    "data=re.sub(r\"[^\\w\\d'\\s]+\",'',data) # deleting the punctuations\n",
    "words = data.split('\\n')\n",
    "del words[0:8]\n",
    "clean_words=[]\n",
    "for line in words.copy():\n",
    "    if line.startswith(\"Inferno\") or line.startswith(\"Purgatorio\") or line.startswith(\"Paradiso\")or not line.strip():\n",
    "        words.remove(line) # deleting the headers \n",
    "    else:\n",
    "        line = line.strip()\n",
    "        splited_words = line.split(\" \")\n",
    "        clean_words.extend(splited_words)\n",
    "print('the total number of words is \\n')\n",
    "print(len(clean_words)) #counting the number of words \n",
    "##############################################."
   ]
  },
  {
   "cell_type": "code",
   "execution_count": 5,
   "id": "4b95a702",
   "metadata": {},
   "outputs": [
    {
     "data": {
      "text/plain": [
       "6054136"
      ]
     },
     "execution_count": 5,
     "metadata": {},
     "output_type": "execute_result"
    }
   ],
   "source": [
    "asizeof.asizeof(clean_words)\n",
    "#it's in bytes"
   ]
  },
  {
   "cell_type": "code",
   "execution_count": 6,
   "id": "ceec8447",
   "metadata": {},
   "outputs": [
    {
     "name": "stdout",
     "output_type": "stream",
     "text": [
      "number of distinct words is equal to 14647\n"
     ]
    }
   ],
   "source": [
    "print(f'number of distinct words is equal to {len(set(clean_words))}')"
   ]
  },
  {
   "cell_type": "code",
   "execution_count": 7,
   "id": "d462de43",
   "metadata": {},
   "outputs": [
    {
     "name": "stdout",
     "output_type": "stream",
     "text": [
      "\n",
      "total number of verses is 96926\n"
     ]
    }
   ],
   "source": [
    "plagiarism_size= 4 #window size \n",
    "verses = []\n",
    "finger_prints=[]\n",
    "verse_count=0\n",
    "\n",
    "\n",
    "\n",
    "\n",
    "for i in range (len(clean_words)):\n",
    "    if len(clean_words[i:i+plagiarism_size])==4:\n",
    "        verses.append(' '.join(clean_words[i:i+plagiarism_size]))\n",
    "\n",
    "    \n",
    "m = len(verses)\n",
    "epsilon = 10 ** -4\n",
    "b = math.log((m/epsilon) , 2 ) # b has to larger or equal to this value \n",
    "n = m * b\n",
    "\n",
    "\n",
    "for i in range (len(verses)):\n",
    "    temp=verses[i]\n",
    "    encoded=temp.encode('utf-8')\n",
    "    hashed=hashlib.md5(encoded)\n",
    "    int_hashed=int(hashed.hexdigest(), 16)\n",
    "    h = int_hashed % n\n",
    "    finger_prints.append(h)\n",
    "\n",
    "\n",
    "        \n",
    "        \n",
    "#we should store the fingerprints in a hashtable \n",
    "#then we should computer and store the finger prints inside of a hashtable \n",
    "print(f'\\ntotal number of verses is {len(verses)}')\n"
   ]
  },
  {
   "cell_type": "code",
   "execution_count": 8,
   "id": "04b3dfad",
   "metadata": {},
   "outputs": [],
   "source": [
    "verses_set=set(verses)"
   ]
  },
  {
   "cell_type": "code",
   "execution_count": 9,
   "id": "7d7208e4",
   "metadata": {},
   "outputs": [],
   "source": [
    "finger_prints_set=set(finger_prints)"
   ]
  },
  {
   "cell_type": "code",
   "execution_count": 10,
   "id": "304b5f9d",
   "metadata": {},
   "outputs": [],
   "source": [
    "#it's better to have both fingerprints and the verses stored in a dictionary \n",
    "# so we're gonna do it from the beginning\n",
    "new_verses=[]\n",
    "# m = len(verses) \n",
    "# we already have the value for m , b , epsilon and n since we've ran the code before\n",
    "# epsilon = 10 ** -4\n",
    "# b = math.log((m/epsilon) , 2 ) # b has to larger or equal to this value \n",
    "# n = m * b\n",
    "general_dict={}\n",
    "\n",
    "for i in range (len(clean_words)):\n",
    "    if len(clean_words[i:i+plagiarism_size])==4:\n",
    "        new_verses.append(' '.join(clean_words[i:i+plagiarism_size]))\n",
    "        temp=new_verses[i]\n",
    "        encoded=temp.encode('utf-8')\n",
    "        hashed=hashlib.md5(encoded)\n",
    "        int_hashed=int(hashed.hexdigest(), 16)\n",
    "        h = int_hashed % n\n",
    "        finger_prints.append(h)\n",
    "        if h in general_dict.keys():\n",
    "            general_dict[h] + \" , \" + temp\n",
    "        else:\n",
    "            temp_dict={h:temp}\n",
    "            general_dict.update(temp_dict)"
   ]
  },
  {
   "cell_type": "code",
   "execution_count": null,
   "id": "01398eef",
   "metadata": {},
   "outputs": [],
   "source": []
  }
 ],
 "metadata": {
  "kernelspec": {
   "display_name": "Python 3 (ipykernel)",
   "language": "python",
   "name": "python3"
  },
  "language_info": {
   "codemirror_mode": {
    "name": "ipython",
    "version": 3
   },
   "file_extension": ".py",
   "mimetype": "text/x-python",
   "name": "python",
   "nbconvert_exporter": "python",
   "pygments_lexer": "ipython3",
   "version": "3.9.13"
  }
 },
 "nbformat": 4,
 "nbformat_minor": 5
}
