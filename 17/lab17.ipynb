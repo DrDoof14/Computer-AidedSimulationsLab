{
 "cells": [
  {
   "cell_type": "markdown",
   "id": "ab3f30db",
   "metadata": {},
   "source": [
    "<b>Lab #17 (Evaluated)\n",
    "\n",
    "\n",
    "Submission deadline: Friday 13th January\n",
    "\n",
    "Peergrading deadline: Wed. 18th January</b>"
   ]
  },
  {
   "cell_type": "markdown",
   "id": "b26c3319",
   "metadata": {},
   "source": [
    "Many parts of the code can be modularised but I avoided that since I don't want my code to look like anybody"
   ]
  },
  {
   "cell_type": "code",
   "execution_count": 1,
   "id": "e68acf14",
   "metadata": {},
   "outputs": [],
   "source": [
    "#I have to add the sizeof shit \n",
    "#fingerprint set : Done\n",
    "#bit string arrya: Done\n",
    "#Bloom Filter: Done but have to double check everything\n",
    "#Table (sizeof part)\n",
    "#have to check everything with other guys before submitting it "
   ]
  },
  {
   "cell_type": "markdown",
   "id": "cf7a8ba6",
   "metadata": {},
   "source": [
    " <b>Don't forget to fill the table in the end of the Lab and use sizeof </b>"
   ]
  },
  {
   "cell_type": "markdown",
   "id": "8d0f0383",
   "metadata": {},
   "source": [
    "<b>Have to ask for suggestions or resources  </b>"
   ]
  },
  {
   "cell_type": "markdown",
   "id": "e7efd3fb",
   "metadata": {},
   "source": [
    "<b>Have to watch the video for the bloom filter session  </b>"
   ]
  },
  {
   "cell_type": "markdown",
   "id": "1af1e573",
   "metadata": {},
   "source": [
    "<H3>Important question: Where should I use the sizeof function?  </H3>"
   ]
  },
  {
   "cell_type": "markdown",
   "id": "d4f4ecb2",
   "metadata": {},
   "source": [
    "# questions and doubts and some general points"
   ]
  },
  {
   "cell_type": "code",
   "execution_count": 2,
   "id": "cc4ce192",
   "metadata": {},
   "outputs": [],
   "source": [
    "# 1 - how shoul we answer the theory parts? should we adress them in the report or should we code them? \n",
    "# like fingerprits set question 2 and 4\n",
    "# Q:what is the formula we should use for the analytical part?\n",
    "#A: explained in the layers parts \n",
    "#when will he upload the video of the first session?\n",
    "#A: He will upoload it but idk when\n",
    "# by simulation: obvious, Analytically = formulas(maybe), theory?\n",
    "# theory and analytically are the same \n",
    "#Slide 08/ page 16 is important (it’s what we have to keep in mind)\n",
    "#It’s useful for set of fingerprints question 2 \n",
    "# we should watch the video fro this session to be able to run the simulation (19th of December, session one)\n",
    "# page 28 and 29 are important for the bloom filter \n",
    "# formula in page 28 gives us a real number and we have to either use 12 or 13, we have to choose the optimal value\n",
    "# since bloom filters do not work with real numbers \n",
    "# for bloom filters, question 1 and two are different but somehow related\n",
    "#the formula in page 29 is important but only the first part = (1-P) ** K (only this part is important)\n",
    "#fingerprints set : Done (except for one or two parts)\n",
    "#bit string array : 1 : done, the rest is just some theory \n",
    "#bloom filters : Not Done\n",
    "# bloom filters question : how do we make different hash funcitons? ok as far as I know , page 27, slide 12 would help(would clear things)\n",
    "# page 30 slide 12 = optimal number of hash functions for bloom filters\n",
    "# page 31 slide 12 = probablity of false positive if we have the optimal k \n",
    "# prbability of false positive increases as the valye of n/m increases n = memory slots and m = len(verses_set) :)\n",
    "# page 32 = a formula for epsilon and stuff (useful)\n",
    "# question = the table in the end, is it for what we've found through simulation?\n",
    "# page 16 in slide 08 is important \n",
    "# I have to read the bloom filters pdf and also watch video for the firsrsession of 19th of December "
   ]
  },
  {
   "cell_type": "code",
   "execution_count": 3,
   "id": "4db76fbf",
   "metadata": {},
   "outputs": [],
   "source": [
    "########################################################################"
   ]
  },
  {
   "cell_type": "markdown",
   "id": "bc8eaf19",
   "metadata": {},
   "source": [
    "<b>Have to use the efficient and non efficient mode in the report </b>"
   ]
  },
  {
   "cell_type": "markdown",
   "id": "3645cb4b",
   "metadata": {},
   "source": [
    "# Description"
   ]
  },
  {
   "cell_type": "markdown",
   "id": "3380a105",
   "metadata": {},
   "source": [
    "<img src=\"./17-1.png\" alt=\"Alternative text\" />"
   ]
  },
  {
   "cell_type": "markdown",
   "id": "4d8dc03f",
   "metadata": {},
   "source": [
    "<img src=\"./17-2.png\" alt=\"Alternative text\" />"
   ]
  },
  {
   "cell_type": "markdown",
   "id": "8204b378",
   "metadata": {},
   "source": [
    "<img src=\"./17-3.png\" alt=\"Alternative text\" />"
   ]
  },
  {
   "cell_type": "code",
   "execution_count": 57,
   "id": "4ba3668c",
   "metadata": {},
   "outputs": [],
   "source": [
    "# this table, seems weird, like how should we fill it?\n",
    "#the whole point of this table is to tell us that with the same value for epsilon, we can get smaller sizes for our data\n",
    "# as we go down the table"
   ]
  },
  {
   "cell_type": "markdown",
   "id": "cba7ae77",
   "metadata": {},
   "source": [
    "# Pre-processing "
   ]
  },
  {
   "cell_type": "code",
   "execution_count": 2,
   "id": "741e5ffb",
   "metadata": {},
   "outputs": [],
   "source": [
    "import hashlib\n",
    "import re\n",
    "from pympler import asizeof\n",
    "import math\n",
    "import matplotlib.pyplot as plt\n",
    "import numpy as np\n",
    "from bitarray import bitarray"
   ]
  },
  {
   "cell_type": "code",
   "execution_count": 3,
   "id": "e62d492f",
   "metadata": {},
   "outputs": [],
   "source": [
    "#############################################\n",
    "file = open(\"commedia.txt\", \"rt\")\n",
    "data = file.read()"
   ]
  },
  {
   "cell_type": "code",
   "execution_count": 4,
   "id": "2c08edc7",
   "metadata": {},
   "outputs": [
    {
     "name": "stdout",
     "output_type": "stream",
     "text": [
      "the total number of words is \n",
      "\n",
      "96929\n"
     ]
    }
   ],
   "source": [
    "#===========================\n",
    "data=re.sub(r\"[^\\w\\d'\\s]+\",'',data) # deleting the punctuations\n",
    "words = data.split('\\n')\n",
    "del words[0:8]\n",
    "clean_words=[]\n",
    "for line in words.copy():\n",
    "    if line.startswith(\"Inferno\") or line.startswith(\"Purgatorio\") or line.startswith(\"Paradiso\")or not line.strip():\n",
    "        words.remove(line) # deleting the headers \n",
    "    else:\n",
    "        line = line.strip()\n",
    "        splited_words = line.split(\" \")\n",
    "        clean_words.extend(splited_words)\n",
    "print('the total number of words is \\n')\n",
    "print(len(clean_words)) #counting the number of words \n",
    "##############################################"
   ]
  },
  {
   "cell_type": "code",
   "execution_count": 5,
   "id": "107fd477",
   "metadata": {},
   "outputs": [
    {
     "data": {
      "text/plain": [
       "6055040"
      ]
     },
     "execution_count": 5,
     "metadata": {},
     "output_type": "execute_result"
    }
   ],
   "source": [
    "asizeof.asizeof(clean_words)\n",
    "#it's in bytes"
   ]
  },
  {
   "cell_type": "code",
   "execution_count": 6,
   "id": "a3aefb8a",
   "metadata": {},
   "outputs": [
    {
     "name": "stdout",
     "output_type": "stream",
     "text": [
      "number of distinct words is equal to 14642\n"
     ]
    }
   ],
   "source": [
    "print(f'number of distinct words is equal to {len(set(clean_words))}')"
   ]
  },
  {
   "cell_type": "code",
   "execution_count": 7,
   "id": "7e3b64ae",
   "metadata": {},
   "outputs": [
    {
     "name": "stdout",
     "output_type": "stream",
     "text": [
      "\n",
      "total number of verses is 96924 \n",
      "\n",
      "\n",
      "total number of verses(set) is 96828 \n",
      "\n"
     ]
    }
   ],
   "source": [
    "plagiarism_size= 6 #window size \n",
    "verses = []\n",
    "finger_prints=[]\n",
    "verse_count=0\n",
    "\n",
    "\n",
    "\n",
    "for i in range (len(clean_words)):\n",
    "    if len(clean_words[i:i+plagiarism_size])==plagiarism_size:\n",
    "        verses.append(' '.join(clean_words[i:i+plagiarism_size]))\n",
    "\n",
    "verses_set=set(verses)    \n",
    "m = len(verses_set)\n",
    "epsilon = 10 ** -5\n",
    "b = math.ceil(math.log((m/epsilon) , 2 )) # b has to larger or equal to this value \n",
    "n = 2 ** b\n",
    "\n",
    "\n",
    "for i in verses_set:\n",
    "    temp=i\n",
    "    encoded=temp.encode('utf-8')\n",
    "    hashed=hashlib.md5(encoded)\n",
    "    int_hashed=int(hashed.hexdigest(), 16)\n",
    "    h = int_hashed % n\n",
    "    finger_prints.append(h)\n",
    "\n",
    "\n",
    "        \n",
    "        \n",
    "#we should store the fingerprints in a hashtable \n",
    "#then we should computer and store the finger prints inside of a hashtable \n",
    "print(f'\\ntotal number of verses is {len(verses)} \\n')\n",
    "print(f'\\ntotal number of verses(set) is {len(verses_set)} \\n')\n"
   ]
  },
  {
   "cell_type": "code",
   "execution_count": 8,
   "id": "0f9f018c",
   "metadata": {},
   "outputs": [
    {
     "data": {
      "text/plain": [
       "96828"
      ]
     },
     "execution_count": 8,
     "metadata": {},
     "output_type": "execute_result"
    }
   ],
   "source": [
    "len(finger_prints) #we give the fingerprints the set version of verses"
   ]
  },
  {
   "cell_type": "code",
   "execution_count": 9,
   "id": "e6107862",
   "metadata": {},
   "outputs": [
    {
     "data": {
      "text/plain": [
       "34"
      ]
     },
     "execution_count": 9,
     "metadata": {},
     "output_type": "execute_result"
    }
   ],
   "source": [
    "b"
   ]
  },
  {
   "cell_type": "code",
   "execution_count": 10,
   "id": "e74ab45e",
   "metadata": {},
   "outputs": [],
   "source": [
    "finger_prints_set=set(finger_prints)\n",
    "# len(finger_prints_set)"
   ]
  },
  {
   "cell_type": "markdown",
   "id": "3d164d8a",
   "metadata": {},
   "source": [
    "<b>we check the length of finger prints and the length of the set of finger prints and if there's any difference, it means that<br>\n",
    "there's a collision<br>\n",
    "we check the fingerprints since it's the fingerprints that help us find plagiarism <br> \n",
    "\n",
    "</b>"
   ]
  },
  {
   "cell_type": "code",
   "execution_count": 11,
   "id": "bc246a18",
   "metadata": {},
   "outputs": [
    {
     "name": "stdout",
     "output_type": "stream",
     "text": [
      "the number of collisions are 0\n"
     ]
    }
   ],
   "source": [
    "print (f'the number of collisions are {len(finger_prints)-len(finger_prints_set)}')"
   ]
  },
  {
   "cell_type": "code",
   "execution_count": null,
   "id": "0ca7240a",
   "metadata": {},
   "outputs": [],
   "source": []
  },
  {
   "cell_type": "code",
   "execution_count": 12,
   "id": "b23991af",
   "metadata": {},
   "outputs": [],
   "source": [
    "#it's better to have both fingerprints and the verses stored in a dictionary \n",
    "# so we're gonna do it from the beginning\n",
    "new_verses=[]\n",
    "# m = len(verses) \n",
    "# we already have the value for m , b , epsilon and n since we've ran the code before\n",
    "# epsilon = 10 ** -4\n",
    "# b = math.log((m/epsilon) , 2 ) # b has to larger or equal to this value \n",
    "# n = m * b\n",
    "general_dict={}\n",
    "\n",
    "for i in range (len(clean_words)):\n",
    "    if len(clean_words[i:i+plagiarism_size])==plagiarism_size:\n",
    "        new_verses.append(' '.join(clean_words[i:i+plagiarism_size]))\n",
    "        temp=new_verses[i]\n",
    "        encoded=temp.encode('utf-8')\n",
    "        hashed=hashlib.md5(encoded)\n",
    "        int_hashed=int(hashed.hexdigest(), 16)\n",
    "        h = int_hashed % n\n",
    "        finger_prints.append(h)\n",
    "        if h in general_dict.keys():\n",
    "            general_dict[h] + \" , \" + temp\n",
    "        else:\n",
    "            temp_dict={h:temp}\n",
    "            general_dict.update(temp_dict)"
   ]
  },
  {
   "cell_type": "markdown",
   "id": "e3467a46",
   "metadata": {},
   "source": [
    "# Fingerprint set:"
   ]
  },
  {
   "cell_type": "markdown",
   "id": "16ab1d45",
   "metadata": {},
   "source": [
    "# 1-"
   ]
  },
  {
   "cell_type": "code",
   "execution_count": 12,
   "id": "fe5ffc75",
   "metadata": {},
   "outputs": [],
   "source": [
    "# for lab 17 the fingerprints part we have to chagne the epsilon between 10 ** -5 and 10 ** -6 to find the minimum number of bits  "
   ]
  },
  {
   "cell_type": "code",
   "execution_count": 14,
   "id": "1238fbc7",
   "metadata": {},
   "outputs": [],
   "source": [
    "r=np.linspace(0.0001,0.000001,1000).tolist()"
   ]
  },
  {
   "cell_type": "code",
   "execution_count": 14,
   "id": "dfa3b890",
   "metadata": {},
   "outputs": [],
   "source": [
    "# r"
   ]
  },
  {
   "cell_type": "code",
   "execution_count": 15,
   "id": "6f82c823",
   "metadata": {},
   "outputs": [],
   "source": [
    "#bit = 17"
   ]
  },
  {
   "cell_type": "code",
   "execution_count": 13,
   "id": "3410eb8b",
   "metadata": {},
   "outputs": [
    {
     "name": "stdout",
     "output_type": "stream",
     "text": [
      "the value for epsilon is equal to  1e-05 and the value of b is equal to 34\n",
      "\n"
     ]
    }
   ],
   "source": [
    "# in this section we try to find the right value for b and the right value for epsilon \n",
    "plagiarism_size= 6 #window size \n",
    "verses = []\n",
    "verse_count=0\n",
    "\n",
    "\n",
    "\n",
    "for i in range (len(clean_words)):\n",
    "    if len(clean_words[i:i+plagiarism_size])==plagiarism_size:\n",
    "        verses.append(' '.join(clean_words[i:i+plagiarism_size]))\n",
    "\n",
    "verses_set=set(verses)    \n",
    "m = len(verses_set)\n",
    "for j in range(10, 0, -1):\n",
    "    epsilon = j * (10 ** -5)\n",
    "    b = math.ceil(math.log((m/epsilon) , 2 )) # b has to larger or equal to this value \n",
    "    n = 2 ** b\n",
    "    finger_prints=[]\n",
    "    for i in verses_set:\n",
    "        temp=i\n",
    "        encoded=temp.encode('utf-8')\n",
    "        hashed=hashlib.md5(encoded)\n",
    "        int_hashed=int(hashed.hexdigest(), 16)\n",
    "        h = int_hashed % n\n",
    "        finger_prints.append(h)\n",
    "\n",
    "    finger_prints_set=set(finger_prints)\n",
    "    if (len(finger_prints)-len(finger_prints_set) == 0):\n",
    "        print (f'the value for epsilon is equal to  {epsilon} and the value of b is equal to {b}\\n')\n"
   ]
  },
  {
   "cell_type": "code",
   "execution_count": 17,
   "id": "d8f47809",
   "metadata": {},
   "outputs": [],
   "source": [
    "#min bit = 33 and epsilon = 2e-05\n",
    "# have to find the min value for collisioin and the value for it's b "
   ]
  },
  {
   "cell_type": "code",
   "execution_count": 18,
   "id": "975ee3be",
   "metadata": {},
   "outputs": [],
   "source": [
    "# a collision happens when 2 items have the same hash value"
   ]
  },
  {
   "cell_type": "code",
   "execution_count": 19,
   "id": "d859d7d8",
   "metadata": {},
   "outputs": [],
   "source": [
    "# the fingerprints part is over since the other stuff are theoratical  and we have the answers \n",
    "#2 and 4 are avilabe in a picture \n",
    "#for number 3 , we have to do what we've done for number 1 but reverse like we have to go through different values of b \n",
    "# and compute the epsilon"
   ]
  },
  {
   "cell_type": "markdown",
   "id": "607f7a41",
   "metadata": {},
   "source": [
    "so Bexp = 34 (what I've found) but 33 would also work"
   ]
  },
  {
   "cell_type": "markdown",
   "id": "e053bd4f",
   "metadata": {},
   "source": [
    "The picture below works for question 2 and 3"
   ]
  },
  {
   "cell_type": "markdown",
   "id": "2f341e17",
   "metadata": {},
   "source": [
    "<img src=\"./17-fingerprint-2&3.jpg\" alt=\"Alternative text\" />"
   ]
  },
  {
   "cell_type": "markdown",
   "id": "e2d65b2a",
   "metadata": {},
   "source": [
    "# 2-"
   ]
  },
  {
   "cell_type": "markdown",
   "id": "e2846897",
   "metadata": {},
   "source": [
    "Bteo ====> m = 1.17* sqrt(n) =>(m/1.17) ** 2 = 2 ** b => b = log((m/1.17 ** 2), base =2 ) = 33 (if we round it up to 1)"
   ]
  },
  {
   "cell_type": "code",
   "execution_count": 20,
   "id": "811839ee",
   "metadata": {},
   "outputs": [
    {
     "name": "stdout",
     "output_type": "stream",
     "text": [
      "33\n"
     ]
    }
   ],
   "source": [
    "temp =(m/1.17) ** 2\n",
    "bteo = math.log(temp,2)\n",
    "print(round(bteo))\n",
    "#we need to round it up since we need more bits in order to store stuff\n",
    "# we can't use fewer bits in order to store them"
   ]
  },
  {
   "cell_type": "markdown",
   "id": "9dde0c08",
   "metadata": {},
   "source": [
    "# 3- "
   ]
  },
  {
   "cell_type": "code",
   "execution_count": 21,
   "id": "d7815d1d",
   "metadata": {},
   "outputs": [],
   "source": [
    "# Question\n",
    "# I just have to find Epsilon with the value of Bexp?\n",
    "# if yes, the the cell below has the answer\n",
    "# is it the formula in page 13 or 14 or 15?"
   ]
  },
  {
   "cell_type": "markdown",
   "id": "62229a9e",
   "metadata": {},
   "source": [
    "<b>The cell below is based on formula in the page 14/15 of slide 12</b>"
   ]
  },
  {
   "cell_type": "code",
   "execution_count": 22,
   "id": "022c3159",
   "metadata": {},
   "outputs": [
    {
     "name": "stdout",
     "output_type": "stream",
     "text": [
      "5.636131390929222e-06\n"
     ]
    }
   ],
   "source": [
    "# epsilon = m / 2 ** b\n",
    "m = len(verses_set)\n",
    "bexp= 34 # found in question 1\n",
    "new_epsilon = m/(2** bexp)\n",
    "print(new_epsilon)"
   ]
  },
  {
   "cell_type": "markdown",
   "id": "9fb78d77",
   "metadata": {},
   "source": [
    "<b>let's try the one in page 13 </b>"
   ]
  },
  {
   "cell_type": "code",
   "execution_count": 23,
   "id": "5211aa3f",
   "metadata": {},
   "outputs": [
    {
     "name": "stdout",
     "output_type": "stream",
     "text": [
      "5.636115508189654e-06\n"
     ]
    }
   ],
   "source": [
    "#Pr(False positive) = 1-(1-1/n) ** m\n",
    "pr= 1- ((1-(1/(2**bexp))) ** m)\n",
    "print(pr)"
   ]
  },
  {
   "cell_type": "markdown",
   "id": "1a323b4d",
   "metadata": {},
   "source": [
    "# 4- (Better be double checked)<br>\n",
    "<b> Yes. </b>"
   ]
  },
  {
   "cell_type": "markdown",
   "id": "896d3700",
   "metadata": {},
   "source": [
    "# Bit string array:"
   ]
  },
  {
   "cell_type": "code",
   "execution_count": 24,
   "id": "f8547f04",
   "metadata": {},
   "outputs": [],
   "source": [
    "# question 1 has to be done through simulation so it needs coding \n",
    "# 2 , 3, 4 don't need coding "
   ]
  },
  {
   "cell_type": "markdown",
   "id": "a8727d78",
   "metadata": {},
   "source": [
    "# 1-"
   ]
  },
  {
   "cell_type": "code",
   "execution_count": 25,
   "id": "a964d53b",
   "metadata": {},
   "outputs": [],
   "source": [
    "# page 21 slide 12 I think it's used for question one  of bit string array \n",
    "# I think we can use the second scenario"
   ]
  },
  {
   "cell_type": "code",
   "execution_count": 26,
   "id": "c0790549",
   "metadata": {},
   "outputs": [],
   "source": [
    "# creating a bit array of zeros and gonna make turn every index of the occurance to one "
   ]
  },
  {
   "cell_type": "code",
   "execution_count": 27,
   "id": "5c11572e",
   "metadata": {},
   "outputs": [],
   "source": [
    "m = len(verses_set) \n",
    "bits= [i for i in range(19,24)]\n",
    "# n= [2**i for i in b]\n",
    "# n = m = 2 ** b\n",
    "General_dict={}\n",
    "for b in bits:\n",
    "    a=bitarray(2**b)\n",
    "    a.setall(0)\n",
    "    n=2**b\n",
    "    FP_count = 0\n",
    "    for i in verses_set:\n",
    "        temp=i\n",
    "        encoded=temp.encode('utf-8')\n",
    "        hashed=hashlib.md5(encoded)\n",
    "        int_hashed=int(hashed.hexdigest(), 16)\n",
    "        h = int_hashed % n\n",
    "        if a[h]==0:\n",
    "            a[h]=1\n",
    "        elif a[h]==1:\n",
    "            FP_count+=1 # it actually checks the number of collisions \n",
    "    #General_dict[n] = FP_count # this will give you the collisions and if you divide it by m then you have the FP\n",
    "    General_dict[n] = FP_count/m"
   ]
  },
  {
   "cell_type": "code",
   "execution_count": 28,
   "id": "e9a4c237",
   "metadata": {},
   "outputs": [
    {
     "data": {
      "text/plain": [
       "{524288: 0.08555376543974884,\n",
       " 1048576: 0.04416077993968687,\n",
       " 2097152: 0.022132027925806586,\n",
       " 4194304: 0.010843970752261742,\n",
       " 8388608: 0.00536001982897509}"
      ]
     },
     "execution_count": 28,
     "metadata": {},
     "output_type": "execute_result"
    }
   ],
   "source": [
    "General_dict"
   ]
  },
  {
   "cell_type": "code",
   "execution_count": 29,
   "id": "09b025ce",
   "metadata": {},
   "outputs": [
    {
     "data": {
      "image/png": "[encoded data removed]",
      "text/plain": [
       "<Figure size 720x720 with 1 Axes>"
      ]
     },
     "metadata": {
      "needs_background": "light"
     },
     "output_type": "display_data"
    }
   ],
   "source": [
    "plt.figure(figsize=(10,10))\n",
    "plt.plot([i for i in range(19,24)],General_dict.values())\n",
    "plt.xlabel('Memory')\n",
    "plt.ylabel('Epsilons')\n",
    "plt.figtext(0.5, 0, \"For memory, it's 2 to the power of what you see on the plot for the X axis\", ha=\"center\", fontsize=12, bbox={\"facecolor\":\"orange\", \"alpha\":0.5, \"pad\":5})\n",
    "plt.grid()\n",
    "plt.show()\n"
   ]
  },
  {
   "cell_type": "code",
   "execution_count": 30,
   "id": "0cb3943e",
   "metadata": {},
   "outputs": [],
   "source": [
    "# as the memory increases, the value for False positive decreases "
   ]
  },
  {
   "cell_type": "code",
   "execution_count": 31,
   "id": "72575600",
   "metadata": {},
   "outputs": [],
   "source": [
    "#all these stuff I did were for the first one \n",
    "# now I have to find the other ones "
   ]
  },
  {
   "cell_type": "markdown",
   "id": "f9be40ca",
   "metadata": {},
   "source": [
    "# 2-"
   ]
  },
  {
   "cell_type": "code",
   "execution_count": 32,
   "id": "8b905dfd",
   "metadata": {},
   "outputs": [],
   "source": [
    "# question = should I implement bitarray for this question as well"
   ]
  },
  {
   "cell_type": "markdown",
   "id": "f962ae89",
   "metadata": {},
   "source": [
    "n = m/epsilon <br>\n",
    "b = log( m/epsilon ,base = 2) <br>\n",
    "n = 2 ** b = m / epsilon bits  <br>\n",
    "based on above  <br>\n",
    "epsilon = m / 2 ** b"
   ]
  },
  {
   "cell_type": "code",
   "execution_count": 33,
   "id": "f77a683a",
   "metadata": {},
   "outputs": [],
   "source": [
    "m = len(verses_set) \n",
    "b = [i for i in range(19,24)]\n",
    "n= [2**i for i in b] \n",
    "# now based on the value of b and n we have to find different values for epsilon\n",
    "epsilons = []\n",
    "for i in n:\n",
    "    epsilons.append(m/i)"
   ]
  },
  {
   "cell_type": "code",
   "execution_count": 34,
   "id": "427f183e",
   "metadata": {},
   "outputs": [
    {
     "data": {
      "text/plain": [
       "[0.18468475341796875,\n",
       " 0.09234237670898438,\n",
       " 0.04617118835449219,\n",
       " 0.023085594177246094,\n",
       " 0.011542797088623047]"
      ]
     },
     "execution_count": 34,
     "metadata": {},
     "output_type": "execute_result"
    }
   ],
   "source": [
    "epsilons"
   ]
  },
  {
   "cell_type": "code",
   "execution_count": 35,
   "id": "0a36124e",
   "metadata": {},
   "outputs": [
    {
     "data": {
      "image/png": "[encoded data removed]",
      "text/plain": [
       "<Figure size 720x720 with 1 Axes>"
      ]
     },
     "metadata": {
      "needs_background": "light"
     },
     "output_type": "display_data"
    }
   ],
   "source": [
    "plt.figure(figsize=(10,10))\n",
    "plt.plot([i for i in range(19,24)],epsilons)\n",
    "plt.xlabel('memory')\n",
    "plt.ylabel('Epsilons')\n",
    "plt.figtext(0.5, 0, \"For memory, it's 2 to the power of what you see on the plot for the X axis\", ha=\"center\", fontsize=12, bbox={\"facecolor\":\"orange\", \"alpha\":0.5, \"pad\":5})\n",
    "plt.grid()\n",
    "plt.show()\n",
    "#based on theory"
   ]
  },
  {
   "cell_type": "markdown",
   "id": "313cc856",
   "metadata": {},
   "source": [
    "# 3-(have to double check this one)"
   ]
  },
  {
   "cell_type": "code",
   "execution_count": 36,
   "id": "ff78f503",
   "metadata": {},
   "outputs": [],
   "source": [
    "# how should I compare it? \n",
    "# should I write it in the report? or should I use it in the code? \n",
    "# should I just write a sentence for this question?\n",
    "# should I plot it?"
   ]
  },
  {
   "cell_type": "code",
   "execution_count": 37,
   "id": "5da3730b",
   "metadata": {},
   "outputs": [
    {
     "data": {
      "image/png": "[encoded data removed]",
      "text/plain": [
       "<Figure size 720x720 with 1 Axes>"
      ]
     },
     "metadata": {
      "needs_background": "light"
     },
     "output_type": "display_data"
    }
   ],
   "source": [
    "plt.figure(figsize=(10,10))\n",
    "plt.plot([i for i in range(19,24)],General_dict.values(), label = 'Simulation')\n",
    "plt.plot([i for i in range(19,24)],epsilons,label='Theory')\n",
    "plt.xlabel('Memory')\n",
    "plt.ylabel('Epsilons')\n",
    "plt.figtext(0.5, 0, \"For memory, it's 2 to the power of what you see on the plot for the X axis\", ha=\"center\", fontsize=12, bbox={\"facecolor\":\"orange\", \"alpha\":0.5, \"pad\":5})\n",
    "plt.grid()\n",
    "plt.legend()\n",
    "plt.show()"
   ]
  },
  {
   "cell_type": "markdown",
   "id": "e7c4cad5",
   "metadata": {},
   "source": [
    "<b>As you can see in the plots, these results follow the same pattern and behaviour </b>"
   ]
  },
  {
   "cell_type": "markdown",
   "id": "67badd58",
   "metadata": {},
   "source": [
    "# 4- (have to ask about this question= Done) <br>\n",
    "I don't undrestand this question <br>\n",
    "In which sense should we compare it to Bexp?"
   ]
  },
  {
   "cell_type": "markdown",
   "id": "7355776d",
   "metadata": {},
   "source": [
    "I have the same doubts for this question as the ones I had for the third one "
   ]
  },
  {
   "cell_type": "code",
   "execution_count": 42,
   "id": "f7ad92f2",
   "metadata": {},
   "outputs": [],
   "source": [
    "# how should I compare it? \n",
    "# should I write it in the report? or should I use it in the code? \n",
    "# should I just write a sentence for this question?\n",
    "# should I plot it?"
   ]
  },
  {
   "cell_type": "code",
   "execution_count": 43,
   "id": "5db8bd60",
   "metadata": {},
   "outputs": [],
   "source": [
    "#same Bexp, same Epsilon but we get a smaller file (size)"
   ]
  },
  {
   "cell_type": "code",
   "execution_count": null,
   "id": "f7e8c5b6",
   "metadata": {},
   "outputs": [],
   "source": [
    "#have to analyze the regarding the size of the files I guess"
   ]
  },
  {
   "cell_type": "markdown",
   "id": "03ae73f9",
   "metadata": {},
   "source": [
    "# Bloom Filters \n"
   ]
  },
  {
   "cell_type": "markdown",
   "id": "fa00321b",
   "metadata": {},
   "source": [
    "Useful link: https://brilliant.org/wiki/bloom-filter/#:~:text=A%20bloom%20filter%20also%20includes,in%20the%20array%20is%201."
   ]
  },
  {
   "cell_type": "code",
   "execution_count": 44,
   "id": "a030bc51",
   "metadata": {},
   "outputs": [],
   "source": [
    "# should we implemet it or can we just use the pip library?\n",
    "# no we shouldn't use it "
   ]
  },
  {
   "cell_type": "markdown",
   "id": "ebf130af",
   "metadata": {},
   "source": [
    "https://pypi.org/project/bloom-filter/"
   ]
  },
  {
   "cell_type": "markdown",
   "id": "04f049a2",
   "metadata": {},
   "source": [
    "# 1-(have to double check this one)"
   ]
  },
  {
   "cell_type": "code",
   "execution_count": 45,
   "id": "40ef4319",
   "metadata": {},
   "outputs": [],
   "source": [
    "# how should we find the opimum number of hash functions? \n",
    "# what should we iterate over?\n",
    "# by analytically it means that we only have to use the formula? if yes, then which formula is it?"
   ]
  },
  {
   "cell_type": "code",
   "execution_count": 170,
   "id": "62315676",
   "metadata": {},
   "outputs": [],
   "source": [
    "#I think the first solution is the right one "
   ]
  },
  {
   "cell_type": "code",
   "execution_count": 15,
   "id": "fff141d6",
   "metadata": {},
   "outputs": [],
   "source": [
    "num_b =[j for j in range(19,24)]\n",
    "m=len(verses_set)\n",
    "n_num=[2**i for i in num_b]\n",
    "hash_num=[i for i in range(2,21)]\n",
    "\n",
    "bloom_filter_dict={}\n",
    "\n",
    "\n",
    "for n in n_num:\n",
    "    memory_dict={}\n",
    "    for k in hash_num:\n",
    "        a=bitarray(n) # a bitarray with lenght of  n\n",
    "        a.setall(0) # setting all equal to zero\n",
    "        false_count=0\n",
    "        for i in verses_set:\n",
    "            FP_count = 0\n",
    "            for j in range(k):\n",
    "                temp=i + str(j)\n",
    "                encoded=temp.encode('utf-8')\n",
    "                hashed=hashlib.md5(encoded)\n",
    "                int_hashed=int(hashed.hexdigest(), 16)\n",
    "                h = int_hashed % n\n",
    "                if a[h]==0:\n",
    "                    a[h]=1\n",
    "                elif a[h]==1:\n",
    "                    FP_count+=1 # it actually checks the number of collisions \n",
    "            if FP_count==k:\n",
    "                false_count+=1\n",
    "\n",
    "        memory_dict[k] = false_count/m\n",
    "    bloom_filter_dict[n]=memory_dict\n"
   ]
  },
  {
   "cell_type": "code",
   "execution_count": 23,
   "id": "459f5920",
   "metadata": {},
   "outputs": [
    {
     "data": {
      "text/plain": [
       "{524288: {2: 0.03533068946998802,\n",
       "  3: 0.022700045441401247,\n",
       "  4: 0.0193022679390259,\n",
       "  5: 0.0187549056058165,\n",
       "  6: 0.01973602676911637,\n",
       "  7: 0.02147106208947825,\n",
       "  8: 0.025230305283595655,\n",
       "  9: 0.02954723840211509,\n",
       "  10: 0.03531003428760276,\n",
       "  11: 0.041868054694922954,\n",
       "  12: 0.04917998925930516,\n",
       "  13: 0.05813401082331557,\n",
       "  14: 0.06836865369521213,\n",
       "  15: 0.07982195232783905,\n",
       "  16: 0.09147147519312596,\n",
       "  17: 0.10417441236006114,\n",
       "  18: 0.11730078076589416,\n",
       "  19: 0.13113975296401867,\n",
       "  20: 0.14646589829388193},\n",
       " 1048576: {2: 0.010172677324740777,\n",
       "  3: 0.003707605238154253,\n",
       "  4: 0.001704052546783988,\n",
       "  5: 0.0010843970752261742,\n",
       "  6: 0.0009088280249514604,\n",
       "  7: 0.0007642417482546371,\n",
       "  8: 0.0006919486099062255,\n",
       "  9: 0.0007642417482546371,\n",
       "  10: 0.0009191556161440906,\n",
       "  11: 0.0010017763456851324,\n",
       "  12: 0.0010017763456851324,\n",
       "  13: 0.0012806213078861487,\n",
       "  14: 0.0012702937166935184,\n",
       "  15: 0.0015697938612797952,\n",
       "  16: 0.0019106043706365928,\n",
       "  17: 0.002210104515222869,\n",
       "  18: 0.0025302598421944066,\n",
       "  19: 0.003036311810633288,\n",
       "  20: 0.003707605238154253},\n",
       " 2097152: {2: 0.0027058288924691207,\n",
       "  3: 0.0004750691948609906,\n",
       "  4: 0.00014458627669682324,\n",
       "  5: 4.131036477052093e-05,\n",
       "  6: 1.0327591192630232e-05,\n",
       "  7: 0.0,\n",
       "  8: 1.0327591192630232e-05,\n",
       "  9: 0.0,\n",
       "  10: 0.0,\n",
       "  11: 0.0,\n",
       "  12: 0.0,\n",
       "  13: 1.0327591192630232e-05,\n",
       "  14: 1.0327591192630232e-05,\n",
       "  15: 0.0,\n",
       "  16: 0.0,\n",
       "  17: 0.0,\n",
       "  18: 0.0,\n",
       "  19: 0.0,\n",
       "  20: 0.0},\n",
       " 4194304: {2: 0.0006919486099062255,\n",
       "  3: 7.229313834841162e-05,\n",
       "  4: 1.0327591192630232e-05,\n",
       "  5: 0.0,\n",
       "  6: 0.0,\n",
       "  7: 0.0,\n",
       "  8: 0.0,\n",
       "  9: 0.0,\n",
       "  10: 0.0,\n",
       "  11: 0.0,\n",
       "  12: 0.0,\n",
       "  13: 0.0,\n",
       "  14: 0.0,\n",
       "  15: 0.0,\n",
       "  16: 0.0,\n",
       "  17: 0.0,\n",
       "  18: 0.0,\n",
       "  19: 0.0,\n",
       "  20: 0.0},\n",
       " 8388608: {2: 0.00011360350311893255,\n",
       "  3: 2.0655182385260463e-05,\n",
       "  4: 0.0,\n",
       "  5: 0.0,\n",
       "  6: 0.0,\n",
       "  7: 0.0,\n",
       "  8: 0.0,\n",
       "  9: 0.0,\n",
       "  10: 0.0,\n",
       "  11: 0.0,\n",
       "  12: 0.0,\n",
       "  13: 0.0,\n",
       "  14: 0.0,\n",
       "  15: 0.0,\n",
       "  16: 0.0,\n",
       "  17: 0.0,\n",
       "  18: 0.0,\n",
       "  19: 0.0,\n",
       "  20: 0.0}}"
      ]
     },
     "execution_count": 23,
     "metadata": {},
     "output_type": "execute_result"
    }
   ],
   "source": [
    "bloom_filter_dict"
   ]
  },
  {
   "cell_type": "code",
   "execution_count": 27,
   "id": "2db7fb6c",
   "metadata": {},
   "outputs": [],
   "source": [
    "#I have to find the \n",
    "min_bloom_filters={}\n",
    "for k,v in bloom_filter_dict.items():\n",
    "    min_val=0\n",
    "    counter=0\n",
    "    for k2,v2 in v.items():\n",
    "        if counter == 0:\n",
    "            min_val={k2:v2}\n",
    "            counter+=1\n",
    "            temp=v2\n",
    "        elif v2<temp:\n",
    "            min_val={k2:v2}\n",
    "            temp=v2\n",
    "    min_bloom_filters[k]=min_val     "
   ]
  },
  {
   "cell_type": "code",
   "execution_count": 28,
   "id": "32ee04c1",
   "metadata": {},
   "outputs": [
    {
     "data": {
      "text/plain": [
       "{524288: {5: 0.0187549056058165},\n",
       " 1048576: {8: 0.0006919486099062255},\n",
       " 2097152: {7: 0.0},\n",
       " 4194304: {5: 0.0},\n",
       " 8388608: {4: 0.0}}"
      ]
     },
     "execution_count": 28,
     "metadata": {},
     "output_type": "execute_result"
    }
   ],
   "source": [
    "min_bloom_filter # this can be used for the second question"
   ]
  },
  {
   "cell_type": "code",
   "execution_count": 29,
   "id": "2d13453b",
   "metadata": {},
   "outputs": [],
   "source": [
    "#on the cell above we have the optimal values for k for each value of n"
   ]
  },
  {
   "cell_type": "code",
   "execution_count": null,
   "id": "1b170e5d",
   "metadata": {},
   "outputs": [],
   "source": [
    "#based on the dictionary we have to find the optimal value of K for each n = 2 ** b"
   ]
  },
  {
   "cell_type": "code",
   "execution_count": 17,
   "id": "b8f7d65c",
   "metadata": {},
   "outputs": [
    {
     "data": {
      "image/png": "[encoded data removed]",
      "text/plain": [
       "<Figure size 1440x1440 with 1 Axes>"
      ]
     },
     "metadata": {
      "needs_background": "light"
     },
     "output_type": "display_data"
    }
   ],
   "source": [
    "counter=19\n",
    "plt.figure(figsize=(20,20))\n",
    "for k,v in bloom_filter_dict.items():\n",
    "    plt.plot(v.keys(),v.values(), label = f'2**{counter}')\n",
    "    plt.xlabel('Number of Hashes')\n",
    "    plt.ylabel('Epsilons')\n",
    "    plt.figtext(0.5, 0, \"For memory, it's 2 to the power of what you see on the plot for the X axis\", ha=\"center\", fontsize=12, bbox={\"facecolor\":\"orange\", \"alpha\":0.5, \"pad\":5})\n",
    "    plt.grid()\n",
    "    plt.legend()\n",
    "    counter+=1\n",
    "plt.show()"
   ]
  },
  {
   "cell_type": "code",
   "execution_count": null,
   "id": "6711f7aa",
   "metadata": {},
   "outputs": [],
   "source": []
  },
  {
   "cell_type": "markdown",
   "id": "885f8902",
   "metadata": {},
   "source": [
    "The above solution is the one I have in mind"
   ]
  },
  {
   "cell_type": "markdown",
   "id": "14633945",
   "metadata": {},
   "source": [
    "I also have done this: (this is stupid I guess)"
   ]
  },
  {
   "cell_type": "code",
   "execution_count": 142,
   "id": "773ce568",
   "metadata": {},
   "outputs": [],
   "source": [
    "num_b =[j for j in range(19,24)]\n",
    "m=len(verses_set)\n",
    "n_num=[2**i for i in num_b]\n",
    "hash_num=[(i/m)*math.log(2) for i in n_num]\n",
    "hash_num_floor=[math.floor(i) for i in hash_num]\n",
    "hash_num_ceil=[math.ceil(j) for j in hash_num]\n",
    "bloom_filter_dict_floor={}\n",
    "bloom_filter_dict_ceil={}\n",
    "\n",
    "\n",
    "for k in hash_num_ceil:\n",
    "    memory_dict={}\n",
    "    for n in n_num:\n",
    "        a=bitarray(n) # a bitarray with lenght of  n\n",
    "        a.setall(0) # setting all equal to zero\n",
    "        false_count=0\n",
    "        for i in verses_set:\n",
    "            FP_count = 0\n",
    "            for j in range(k):\n",
    "                temp=i + str(j)\n",
    "                encoded=temp.encode('utf-8')\n",
    "                hashed=hashlib.md5(encoded)\n",
    "                int_hashed=int(hashed.hexdigest(), 16)\n",
    "                h = int_hashed % n\n",
    "                if a[h]==0:\n",
    "                    a[h]=1\n",
    "                elif a[h]==1:\n",
    "                    FP_count+=1 # it actually checks the number of collisions \n",
    "            if FP_count==k:\n",
    "                false_count+=1\n",
    "\n",
    "        memory_dict[n] = false_count/m\n",
    "    bloom_filter_dict_ceil[k]=memory_dict\n",
    "\n",
    "    \n",
    "    \n",
    "for k in hash_num_floor:\n",
    "    memory_dict={}\n",
    "    for n in n_num:\n",
    "        a=bitarray(n) # a bitarray with lenght of  n\n",
    "        a.setall(0) # setting all equal to zero\n",
    "        false_count=0\n",
    "        for i in verses_set:\n",
    "            FP_count = 0\n",
    "            for j in range(k):\n",
    "                temp=i + str(j)\n",
    "                encoded=temp.encode('utf-8')\n",
    "                hashed=hashlib.md5(encoded)\n",
    "                int_hashed=int(hashed.hexdigest(), 16)\n",
    "                h = int_hashed % n\n",
    "                if a[h]==0:\n",
    "                    a[h]=1\n",
    "                elif a[h]==1:\n",
    "                    FP_count+=1 # it actually checks the number of collisions \n",
    "            if FP_count==k:\n",
    "                false_count+=1\n",
    "\n",
    "        memory_dict[n] = false_count/m\n",
    "    bloom_filter_dict_floor[k]=memory_dict    "
   ]
  },
  {
   "cell_type": "code",
   "execution_count": 143,
   "id": "3a049c86",
   "metadata": {},
   "outputs": [
    {
     "data": {
      "text/plain": [
       "{4: {524288: 0.018982112612054364,\n",
       "  1048576: 0.0018486388234808114,\n",
       "  2097152: 0.0001962242326599744,\n",
       "  4194304: 1.0327591192630232e-05,\n",
       "  8388608: 0.0},\n",
       " 8: {524288: 0.02506506382451357,\n",
       "  1048576: 0.0007435865658693766,\n",
       "  2097152: 0.0,\n",
       "  4194304: 0.0,\n",
       "  8388608: 0.0},\n",
       " 16: {524288: 0.09160573387863015,\n",
       "  1048576: 0.0017350353203618787,\n",
       "  2097152: 0.0,\n",
       "  4194304: 0.0,\n",
       "  8388608: 0.0},\n",
       " 31: {524288: 0.3138864791176106,\n",
       "  1048576: 0.02138844135993721,\n",
       "  2097152: 3.098277357789069e-05,\n",
       "  4194304: 0.0,\n",
       "  8388608: 0.0},\n",
       " 61: {524288: 0.5849237823769984,\n",
       "  1048576: 0.20361878795389762,\n",
       "  2097152: 0.0016007766348576859,\n",
       "  4194304: 0.0,\n",
       "  8388608: 0.0}}"
      ]
     },
     "execution_count": 143,
     "metadata": {},
     "output_type": "execute_result"
    }
   ],
   "source": [
    "bloom_filter_dict_ceil"
   ]
  },
  {
   "cell_type": "code",
   "execution_count": 144,
   "id": "0fc11bbe",
   "metadata": {},
   "outputs": [
    {
     "data": {
      "text/plain": [
       "{3: {524288: 0.022183665881769735,\n",
       "  1048576: 0.0038625191060437064,\n",
       "  2097152: 0.0005163795596315116,\n",
       "  4194304: 6.196554715578138e-05,\n",
       "  8388608: 2.0655182385260463e-05},\n",
       " 7: {524288: 0.021305820630396165,\n",
       "  1048576: 0.0008675176601809394,\n",
       "  2097152: 2.0655182385260463e-05,\n",
       "  4194304: 0.0,\n",
       "  8388608: 0.0},\n",
       " 15: {524288: 0.07847936547279713,\n",
       "  1048576: 0.0017143801379766184,\n",
       "  2097152: 0.0,\n",
       "  4194304: 0.0,\n",
       "  8388608: 0.0},\n",
       " 30: {524288: 0.2994278514479283,\n",
       "  1048576: 0.018589664146734415,\n",
       "  2097152: 1.0327591192630232e-05,\n",
       "  4194304: 0.0,\n",
       "  8388608: 0.0},\n",
       " 60: {524288: 0.5791506589003181,\n",
       "  1048576: 0.1966786466724501,\n",
       "  2097152: 0.0014148799933903417,\n",
       "  4194304: 0.0,\n",
       "  8388608: 0.0}}"
      ]
     },
     "execution_count": 144,
     "metadata": {},
     "output_type": "execute_result"
    }
   ],
   "source": [
    "bloom_filter_dict_floor"
   ]
  },
  {
   "cell_type": "code",
   "execution_count": 145,
   "id": "13f3845d",
   "metadata": {},
   "outputs": [
    {
     "data": {
      "image/png": "[encoded data removed]",
      "text/plain": [
       "<Figure size 720x720 with 1 Axes>"
      ]
     },
     "metadata": {
      "needs_background": "light"
     },
     "output_type": "display_data"
    },
    {
     "data": {
      "image/png": "[encoded data removed]",
      "text/plain": [
       "<Figure size 720x720 with 1 Axes>"
      ]
     },
     "metadata": {
      "needs_background": "light"
     },
     "output_type": "display_data"
    }
   ],
   "source": [
    "counter=19\n",
    "plt.figure(figsize=(10,10))\n",
    "for k,v in bloom_filter_dict_ceil.items():\n",
    "    plt.plot(hash_num_ceil,v.values(), label = f'2**{counter}')\n",
    "    plt.xlabel('Number of Hashes')\n",
    "    plt.ylabel('Epsilons')\n",
    "    plt.figtext(0.5, 0, \"For memory, it's 2 to the power of what you see on the plot for the X axis\", ha=\"center\", fontsize=12, bbox={\"facecolor\":\"orange\", \"alpha\":0.5, \"pad\":5})\n",
    "    plt.grid()\n",
    "    plt.legend()\n",
    "    counter+=1\n",
    "plt.show()\n",
    "\n",
    "\n",
    "counter=19\n",
    "plt.figure(figsize=(10,10))\n",
    "for k,v in bloom_filter_dict_floor.items():\n",
    "    plt.plot(hash_num_ceil,v.values(), label = f'2**{counter}')\n",
    "    plt.xlabel('Number of Hashes')\n",
    "    plt.ylabel('Epsilons')\n",
    "    plt.figtext(0.5, 0, \"For memory, it's 2 to the power of what you see on the plot for the X axis\", ha=\"center\", fontsize=12, bbox={\"facecolor\":\"orange\", \"alpha\":0.5, \"pad\":5})\n",
    "    plt.grid()\n",
    "    plt.legend()\n",
    "    counter+=1\n",
    "plt.show()"
   ]
  },
  {
   "cell_type": "code",
   "execution_count": null,
   "id": "ce63ca6f",
   "metadata": {},
   "outputs": [],
   "source": [
    "#Kopt = n/m log(2)\n",
    "# I think we have compute k with the values we have for n/m and epsilon"
   ]
  },
  {
   "cell_type": "markdown",
   "id": "111903fd",
   "metadata": {},
   "source": [
    "I also have done this: (this is stupid I guess)"
   ]
  },
  {
   "cell_type": "code",
   "execution_count": null,
   "id": "00fabff7",
   "metadata": {},
   "outputs": [],
   "source": [
    "num_b =[j for j in range(19,24)]\n",
    "m=len(verses_set)\n",
    "n_num=[2**i for i in num_b]\n",
    "hash_num=[(i/m)*math.log(2) for i in n_num]\n",
    "hash_num_floor=[math.floor(i) for i in hash_num]\n",
    "hash_num_ceil=[math.ceil(j) for j in hash_num]\n",
    "bloom_filter_dict_floor={}\n",
    "bloom_filter_dict_ceil={}\n",
    "\n",
    "\n",
    "for k in hash_num_ceil:\n",
    "    memory_dict={}\n",
    "    for n in n_num:\n",
    "        a=bitarray(n) # a bitarray with lenght of  n\n",
    "        a.setall(0) # setting all equal to zero\n",
    "        false_count=0\n",
    "        for i in verses_set:\n",
    "            FP_count = 0\n",
    "            for j in range(k):\n",
    "                temp=i + str(j)\n",
    "                encoded=temp.encode('utf-8')\n",
    "                hashed=hashlib.md5(encoded)\n",
    "                int_hashed=int(hashed.hexdigest(), 16)\n",
    "                h = int_hashed % n\n",
    "                if a[h]==0:\n",
    "                    a[h]=1\n",
    "                elif a[h]==1:\n",
    "                    FP_count+=1 # it actually checks the number of collisions \n",
    "            if FP_count==k:\n",
    "                false_count+=1\n",
    "\n",
    "        memory_dict[n] = false_count/m\n",
    "    bloom_filter_dict_ceil[k]=memory_dict\n",
    "\n",
    "    \n",
    "    \n",
    "for k in hash_num_floor:\n",
    "    memory_dict={}\n",
    "    for n in n_num:\n",
    "        a=bitarray(n) # a bitarray with lenght of  n\n",
    "        a.setall(0) # setting all equal to zero\n",
    "        false_count=0\n",
    "        for i in verses_set:\n",
    "            FP_count = 0\n",
    "            for j in range(k):\n",
    "                temp=i + str(j)\n",
    "                encoded=temp.encode('utf-8')\n",
    "                hashed=hashlib.md5(encoded)\n",
    "                int_hashed=int(hashed.hexdigest(), 16)\n",
    "                h = int_hashed % n\n",
    "                if a[h]==0:\n",
    "                    a[h]=1\n",
    "                elif a[h]==1:\n",
    "                    FP_count+=1 # it actually checks the number of collisions \n",
    "            if FP_count==k:\n",
    "                false_count+=1\n",
    "\n",
    "        memory_dict[n] = false_count/m\n",
    "    bloom_filter_dict_floor[k]=memory_dict    "
   ]
  },
  {
   "cell_type": "markdown",
   "id": "903b3a3f",
   "metadata": {},
   "source": [
    "# 2-"
   ]
  },
  {
   "cell_type": "code",
   "execution_count": 46,
   "id": "46aba14b",
   "metadata": {},
   "outputs": [],
   "source": [
    "# we have to use the optimal hash number and use the thoery to find the probability of false positive.\n",
    "# which formula should we use?"
   ]
  },
  {
   "cell_type": "code",
   "execution_count": 47,
   "id": "07bbcc66",
   "metadata": {},
   "outputs": [],
   "source": [
    "#page 40 and aslo 29"
   ]
  },
  {
   "cell_type": "code",
   "execution_count": null,
   "id": "c4eceda5",
   "metadata": {},
   "outputs": [],
   "source": [
    "# the right values are n = 2** 19 and k =4 based on the plot "
   ]
  },
  {
   "cell_type": "code",
   "execution_count": 146,
   "id": "b144cbf4",
   "metadata": {},
   "outputs": [],
   "source": [
    "# gonna use the formula in page 29 of slide 12\n",
    "# (1 - e ** -k*m/n) ** k"
   ]
  },
  {
   "cell_type": "markdown",
   "id": "def7930b",
   "metadata": {},
   "source": [
    "for each k that we have and for the corresponding n, we have to find the value for epsilon and plot it  "
   ]
  },
  {
   "cell_type": "code",
   "execution_count": 30,
   "id": "fba52ae5",
   "metadata": {},
   "outputs": [
    {
     "data": {
      "text/plain": [
       "{524288: {5: 0.0187549056058165},\n",
       " 1048576: {8: 0.0006919486099062255},\n",
       " 2097152: {7: 0.0},\n",
       " 4194304: {5: 0.0},\n",
       " 8388608: {4: 0.0}}"
      ]
     },
     "execution_count": 30,
     "metadata": {},
     "output_type": "execute_result"
    }
   ],
   "source": [
    "min_bloom_filters #the values optained from the first question"
   ]
  },
  {
   "cell_type": "code",
   "execution_count": 35,
   "id": "7e83e551",
   "metadata": {},
   "outputs": [],
   "source": [
    "min_bloom_filters # contains the values for k and n , based on the value in this dictionary\n",
    "min_bloom_filters_theory={524288:5,1048576:8,2097152:7,4194304:5,8388608:4} #{n:k}\n",
    "theoratical_epsilons={}\n",
    "for n, k in min_bloom_filters_theory.items():\n",
    "    theoratical_epsilons[n]={k:(1 - math.e ** ((-k*m)/n)) ** k}\n"
   ]
  },
  {
   "cell_type": "code",
   "execution_count": 36,
   "id": "118597b0",
   "metadata": {},
   "outputs": [
    {
     "data": {
      "text/plain": [
       "{524288: {5: 0.07961984651746123},\n",
       " 1048576: {8: 0.0055367414541996},\n",
       " 2097152: {7: 0.0001225271393092015},\n",
       " 4194304: {5: 1.539700815367783e-05},\n",
       " 8388608: {4: 4.1450972689800546e-06}}"
      ]
     },
     "execution_count": 36,
     "metadata": {},
     "output_type": "execute_result"
    }
   ],
   "source": [
    "theoratical_epsilons"
   ]
  },
  {
   "cell_type": "markdown",
   "id": "90d2d3bb",
   "metadata": {},
   "source": [
    "# 3-"
   ]
  },
  {
   "cell_type": "code",
   "execution_count": 48,
   "id": "ff5be752",
   "metadata": {},
   "outputs": [],
   "source": [
    "#by describing, he means that we should mention it in the report?"
   ]
  },
  {
   "cell_type": "markdown",
   "id": "63b20092",
   "metadata": {},
   "source": [
    "I repeated the hash process for a number of times in order to deal with the different hash functions \n",
    "<br>\n",
    "it's the + str(j) trick that helps us to change the hash thingy"
   ]
  },
  {
   "cell_type": "markdown",
   "id": "51aac99c",
   "metadata": {},
   "source": [
    "# 4-"
   ]
  },
  {
   "cell_type": "code",
   "execution_count": 149,
   "id": "6747941d",
   "metadata": {},
   "outputs": [],
   "source": [
    "#by simulation? \n",
    "#if this is the simulation, then what is the first one \n",
    "#ok we have the number of hash functions and there's a formula for finding the false positives \n",
    "#how should we find the probability of false positives by using the simulation?"
   ]
  },
  {
   "cell_type": "code",
   "execution_count": 152,
   "id": "b372b7fa",
   "metadata": {},
   "outputs": [],
   "source": [
    "# I think I have to iterate through everything like I did before but this time I only have to use the optimal K "
   ]
  },
  {
   "cell_type": "code",
   "execution_count": 153,
   "id": "b588fced",
   "metadata": {},
   "outputs": [],
   "source": [
    "num_b =[j for j in range(19,24)]\n",
    "m=len(verses_set)\n",
    "n_num=[2**i for i in num_b]\n",
    "hash_num=4\n",
    "\n",
    "\n",
    "\n",
    "memory_dict={}\n",
    "for n in n_num:\n",
    "    a=bitarray(n) # a bitarray with lenght of  n\n",
    "    a.setall(0) # setting all equal to zero\n",
    "    false_count=0\n",
    "    for i in verses_set:\n",
    "        FP_count = 0\n",
    "        for j in range(hash_num):\n",
    "            temp=i + str(j)\n",
    "            encoded=temp.encode('utf-8')\n",
    "            hashed=hashlib.md5(encoded)\n",
    "            int_hashed=int(hashed.hexdigest(), 16)\n",
    "            h = int_hashed % n\n",
    "            if a[h]==0:\n",
    "                a[h]=1\n",
    "            elif a[h]==1:\n",
    "                FP_count+=1 # it actually checks the number of collisions \n",
    "        if FP_count==hash_num:\n",
    "            false_count+=1\n",
    "\n",
    "    memory_dict[n] = false_count/m\n"
   ]
  },
  {
   "cell_type": "code",
   "execution_count": 154,
   "id": "322e8834",
   "metadata": {},
   "outputs": [
    {
     "data": {
      "text/plain": [
       "{524288: 0.018982112612054364,\n",
       " 1048576: 0.0018486388234808114,\n",
       " 2097152: 0.0001962242326599744,\n",
       " 4194304: 1.0327591192630232e-05,\n",
       " 8388608: 0.0}"
      ]
     },
     "execution_count": 154,
     "metadata": {},
     "output_type": "execute_result"
    }
   ],
   "source": [
    "memory_dict"
   ]
  },
  {
   "cell_type": "code",
   "execution_count": 157,
   "id": "4ed6d324",
   "metadata": {},
   "outputs": [
    {
     "name": "stderr",
     "output_type": "stream",
     "text": [
      "No artists with labels found to put in legend.  Note that artists whose label start with an underscore are ignored when legend() is called with no argument.\n"
     ]
    },
    {
     "data": {
      "image/png": "[encoded data removed]",
      "text/plain": [
       "<Figure size 720x720 with 1 Axes>"
      ]
     },
     "metadata": {
      "needs_background": "light"
     },
     "output_type": "display_data"
    }
   ],
   "source": [
    "plt.figure(figsize=(10,10))\n",
    "plt.plot([i for i in range(19,24)],memory_dict.values())\n",
    "plt.xlabel('memory')\n",
    "plt.ylabel('Epsilons')\n",
    "plt.figtext(0.5, 0, \"For memory, it's 2 to the power of what you see on the plot for the X axis\", ha=\"center\", fontsize=12, bbox={\"facecolor\":\"orange\", \"alpha\":0.5, \"pad\":5})\n",
    "plt.grid()\n",
    "plt.legend()\n",
    "plt.show()"
   ]
  },
  {
   "cell_type": "markdown",
   "id": "fae6cd7b",
   "metadata": {},
   "source": [
    "# 5-"
   ]
  },
  {
   "cell_type": "code",
   "execution_count": 151,
   "id": "22fa946d",
   "metadata": {},
   "outputs": [],
   "source": [
    "#by compare, does he mean that we should plot them or we should write something in the report?\n",
    "#I think it's regarding the size"
   ]
  },
  {
   "cell_type": "markdown",
   "id": "07841605",
   "metadata": {},
   "source": [
    "# 6- (optional) (Have to ask about it)"
   ]
  },
  {
   "cell_type": "code",
   "execution_count": null,
   "id": "e7bae0a2",
   "metadata": {},
   "outputs": [],
   "source": []
  },
  {
   "cell_type": "markdown",
   "id": "922ccdf1",
   "metadata": {},
   "source": [
    "# The table"
   ]
  },
  {
   "cell_type": "code",
   "execution_count": 51,
   "id": "7c055071",
   "metadata": {},
   "outputs": [],
   "source": [
    "# what should we write there? like, should we use the value got from the simulation or the theory?\n",
    "#I think it's the simulation output"
   ]
  }
 ],
 "metadata": {
  "kernelspec": {
   "display_name": "Python 3 (ipykernel)",
   "language": "python",
   "name": "python3"
  },
  "language_info": {
   "codemirror_mode": {
    "name": "ipython",
    "version": 3
   },
   "file_extension": ".py",
   "mimetype": "text/x-python",
   "name": "python",
   "nbconvert_exporter": "python",
   "pygments_lexer": "ipython3",
   "version": "3.9.7"
  }
 },
 "nbformat": 4,
 "nbformat_minor": 5
}
